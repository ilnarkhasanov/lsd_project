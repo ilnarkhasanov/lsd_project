{
  "cells": [
    {
      "cell_type": "markdown",
      "id": "1430c608",
      "metadata": {
        "id": "1430c608"
      },
      "source": [
        "# Import dependencies"
      ]
    },
    {
      "cell_type": "code",
      "source": [
        "!pip install scikit-opt"
      ],
      "metadata": {
        "colab": {
          "base_uri": "https://localhost:8080/"
        },
        "id": "hjOSeQ6F8N7p",
        "outputId": "65d825c6-4c85-4a3d-c2f9-dbc280e0ff40"
      },
      "id": "hjOSeQ6F8N7p",
      "execution_count": null,
      "outputs": [
        {
          "output_type": "stream",
          "name": "stdout",
          "text": [
            "Collecting scikit-opt\n",
            "  Downloading scikit_opt-0.6.6-py3-none-any.whl (35 kB)\n",
            "Requirement already satisfied: numpy in /usr/local/lib/python3.10/dist-packages (from scikit-opt) (1.25.2)\n",
            "Requirement already satisfied: scipy in /usr/local/lib/python3.10/dist-packages (from scikit-opt) (1.11.4)\n",
            "Installing collected packages: scikit-opt\n",
            "Successfully installed scikit-opt-0.6.6\n"
          ]
        }
      ]
    },
    {
      "cell_type": "code",
      "execution_count": null,
      "id": "fc5ec577819c853d",
      "metadata": {
        "ExecuteTime": {
          "end_time": "2024-05-25T15:28:36.968488Z",
          "start_time": "2024-05-25T15:28:36.965056Z"
        },
        "id": "fc5ec577819c853d"
      },
      "outputs": [],
      "source": [
        "import glob\n",
        "import random\n",
        "from tqdm import tqdm\n",
        "from attr import dataclass\n",
        "\n",
        "import numpy as np\n",
        "import pandas as pd\n",
        "from sko.PSO import PSO\n",
        "from sklearn.impute import SimpleImputer"
      ]
    },
    {
      "cell_type": "code",
      "source": [
        "from google.colab import drive\n",
        "drive.mount('/content/drive')"
      ],
      "metadata": {
        "colab": {
          "base_uri": "https://localhost:8080/"
        },
        "id": "aExRKwMlMz5v",
        "outputId": "84dfc353-3c13-44ef-ed02-97e81e18bc67"
      },
      "id": "aExRKwMlMz5v",
      "execution_count": null,
      "outputs": [
        {
          "output_type": "stream",
          "name": "stdout",
          "text": [
            "Mounted at /content/drive\n"
          ]
        }
      ]
    },
    {
      "cell_type": "code",
      "source": [
        "!cp drive/MyDrive/collected_metrics.zip collected_metrics.zip\n",
        "!unzip collected_metrics\n",
        "!rm collected_metrics.zip"
      ],
      "metadata": {
        "colab": {
          "base_uri": "https://localhost:8080/"
        },
        "id": "BxOIb7-WM2JA",
        "outputId": "d479d155-69c2-44b4-c847-248e57a3210d"
      },
      "id": "BxOIb7-WM2JA",
      "execution_count": null,
      "outputs": [
        {
          "output_type": "stream",
          "name": "stdout",
          "text": [
            "Archive:  collected_metrics.zip\n",
            "   creating: collected_metrics/\n",
            "  inflating: __MACOSX/._collected_metrics  \n",
            "   creating: collected_metrics/Jailer/\n",
            "  inflating: __MACOSX/collected_metrics/._Jailer  \n",
            "   creating: collected_metrics/Paper/\n",
            "  inflating: __MACOSX/collected_metrics/._Paper  \n",
            "   creating: collected_metrics/ClickHouse-Native-JDBC/\n",
            "  inflating: __MACOSX/collected_metrics/._ClickHouse-Native-JDBC  \n",
            "   creating: collected_metrics/neo4j/\n",
            "  inflating: __MACOSX/collected_metrics/._neo4j  \n",
            "   creating: collected_metrics/doris-spark-connector/\n",
            "  inflating: __MACOSX/collected_metrics/._doris-spark-connector  \n",
            "   creating: collected_metrics/spring-data/\n",
            "  inflating: __MACOSX/collected_metrics/._spring-data  \n",
            "   creating: collected_metrics/restheart/\n",
            "  inflating: __MACOSX/collected_metrics/._restheart  \n",
            "   creating: collected_metrics/jdbi/\n",
            "  inflating: __MACOSX/collected_metrics/._jdbi  \n",
            "   creating: collected_metrics/jeddict/\n",
            "  inflating: __MACOSX/collected_metrics/._jeddict  \n",
            "   creating: collected_metrics/shardingsphere-elasticjob/\n",
            "  inflating: __MACOSX/collected_metrics/._shardingsphere-elasticjob  \n",
            "   creating: collected_metrics/helicalinsight/\n",
            "  inflating: __MACOSX/collected_metrics/._helicalinsight  \n",
            "   creating: collected_metrics/presto/\n",
            "  inflating: __MACOSX/collected_metrics/._presto  \n",
            "   creating: collected_metrics/pig/\n",
            "  inflating: __MACOSX/collected_metrics/._pig  \n",
            "   creating: collected_metrics/jimmer/\n",
            "  inflating: __MACOSX/collected_metrics/._jimmer  \n",
            "   creating: collected_metrics/mongock/\n",
            "  inflating: __MACOSX/collected_metrics/._mongock  \n",
            "   creating: collected_metrics/KitDB/\n",
            "  inflating: __MACOSX/collected_metrics/._KitDB  \n",
            "   creating: collected_metrics/easy-es/\n",
            "  inflating: __MACOSX/collected_metrics/._easy-es  \n",
            "   creating: collected_metrics/ormlite-android/\n",
            "  inflating: __MACOSX/collected_metrics/._ormlite-android  \n",
            "   creating: collected_metrics/hutool/\n",
            "  inflating: __MACOSX/collected_metrics/._hutool  \n",
            "   creating: collected_metrics/jOOQ/\n",
            "  inflating: __MACOSX/collected_metrics/._jOOQ  \n",
            "  inflating: collected_metrics/.DS_Store  \n",
            "  inflating: __MACOSX/collected_metrics/._.DS_Store  \n",
            "   creating: collected_metrics/doris-flink-connector/\n",
            "  inflating: __MACOSX/collected_metrics/._doris-flink-connector  \n",
            "   creating: collected_metrics/lucene/\n",
            "  inflating: __MACOSX/collected_metrics/._lucene  \n",
            "   creating: collected_metrics/nutz/\n",
            "  inflating: __MACOSX/collected_metrics/._nutz  \n",
            "   creating: collected_metrics/zeppelin/\n",
            "  inflating: __MACOSX/collected_metrics/._zeppelin  \n",
            "   creating: collected_metrics/cyberduck/\n",
            "  inflating: __MACOSX/collected_metrics/._cyberduck  \n",
            "   creating: collected_metrics/sqli/\n",
            "  inflating: __MACOSX/collected_metrics/._sqli  \n",
            "   creating: collected_metrics/bee/\n",
            "  inflating: __MACOSX/collected_metrics/._bee  \n",
            "   creating: collected_metrics/Android-Orma/\n",
            "  inflating: __MACOSX/collected_metrics/._Android-Orma  \n",
            "   creating: collected_metrics/Android-Debug-Database/\n",
            "  inflating: __MACOSX/collected_metrics/._Android-Debug-Database  \n",
            "   creating: collected_metrics/flink/\n",
            "  inflating: __MACOSX/collected_metrics/._flink  \n",
            "   creating: collected_metrics/ftserver/\n",
            "  inflating: __MACOSX/collected_metrics/._ftserver  \n",
            "   creating: collected_metrics/lettuce-core/\n",
            "  inflating: __MACOSX/collected_metrics/._lettuce-core  \n",
            "   creating: collected_metrics/ignite/\n",
            "  inflating: __MACOSX/collected_metrics/._ignite  \n",
            "   creating: collected_metrics/elassandra/\n",
            "  inflating: __MACOSX/collected_metrics/._elassandra  \n",
            "   creating: collected_metrics/doris/\n",
            "  inflating: __MACOSX/collected_metrics/._doris  \n",
            "   creating: collected_metrics/mybatis-3/\n",
            "  inflating: __MACOSX/collected_metrics/._mybatis-3  \n",
            "   creating: collected_metrics/pgjdbc/\n",
            "  inflating: __MACOSX/collected_metrics/._pgjdbc  \n",
            "   creating: collected_metrics/Addax/\n",
            "  inflating: __MACOSX/collected_metrics/._Addax  \n",
            "   creating: collected_metrics/trino/\n",
            "  inflating: __MACOSX/collected_metrics/._trino  \n",
            "   creating: collected_metrics/MariaDB4j/\n",
            "  inflating: __MACOSX/collected_metrics/._MariaDB4j  \n",
            "   creating: collected_metrics/hibernate-search/\n",
            "  inflating: __MACOSX/collected_metrics/._hibernate-search  \n",
            "   creating: collected_metrics/ormlite-core/\n",
            "  inflating: __MACOSX/collected_metrics/._ormlite-core  \n",
            "   creating: collected_metrics/java-client-api/\n",
            "  inflating: __MACOSX/collected_metrics/._java-client-api  \n",
            "   creating: collected_metrics/ofbiz-framework/\n",
            "  inflating: __MACOSX/collected_metrics/._ofbiz-framework  \n",
            "   creating: collected_metrics/nitrite-java/\n",
            "  inflating: __MACOSX/collected_metrics/._nitrite-java  \n",
            "   creating: collected_metrics/jetcache/\n",
            "  inflating: __MACOSX/collected_metrics/._jetcache  \n",
            "   creating: collected_metrics/concourse/\n",
            "  inflating: __MACOSX/collected_metrics/._concourse  \n",
            "   creating: collected_metrics/NemakiWare/\n",
            "  inflating: __MACOSX/collected_metrics/._NemakiWare  \n",
            "   creating: collected_metrics/dbeaver/\n",
            "  inflating: __MACOSX/collected_metrics/._dbeaver  \n",
            "   creating: collected_metrics/phoenix/\n",
            "  inflating: __MACOSX/collected_metrics/._phoenix  \n",
            "   creating: collected_metrics/stampede/\n",
            "  inflating: __MACOSX/collected_metrics/._stampede  \n",
            "   creating: collected_metrics/jnosql/\n",
            "  inflating: __MACOSX/collected_metrics/._jnosql  \n",
            "   creating: collected_metrics/doris-manager/\n",
            "  inflating: __MACOSX/collected_metrics/._doris-manager  \n",
            "   creating: collected_metrics/ReplicaDB/\n",
            "  inflating: __MACOSX/collected_metrics/._ReplicaDB  \n",
            "   creating: collected_metrics/Polypheny-DB/\n",
            "  inflating: __MACOSX/collected_metrics/._Polypheny-DB  \n",
            "   creating: collected_metrics/incubator-hugegraph/\n",
            "  inflating: __MACOSX/collected_metrics/._incubator-hugegraph  \n",
            "   creating: collected_metrics/curator/\n",
            "  inflating: __MACOSX/collected_metrics/._curator  \n",
            "   creating: collected_metrics/WeSync/\n",
            "  inflating: __MACOSX/collected_metrics/._WeSync  \n",
            "   creating: collected_metrics/SchemaCrawler/\n",
            "  inflating: __MACOSX/collected_metrics/._SchemaCrawler  \n",
            "   creating: collected_metrics/otj-pg-embedded/\n",
            "  inflating: __MACOSX/collected_metrics/._otj-pg-embedded  \n",
            "   creating: collected_metrics/flink-cdc-connectors/\n",
            "  inflating: __MACOSX/collected_metrics/._flink-cdc-connectors  \n",
            "   creating: collected_metrics/mondrian/\n",
            "  inflating: __MACOSX/collected_metrics/._mondrian  \n",
            "   creating: collected_metrics/sagacity-sqltoy/\n",
            "  inflating: __MACOSX/collected_metrics/._sagacity-sqltoy  \n",
            "   creating: collected_metrics/brickhouse/\n",
            "  inflating: __MACOSX/collected_metrics/._brickhouse  \n",
            "   creating: collected_metrics/r2dbc-postgresql/\n",
            "  inflating: __MACOSX/collected_metrics/._r2dbc-postgresql  \n",
            "   creating: collected_metrics/shardingsphere/\n",
            "  inflating: __MACOSX/collected_metrics/._shardingsphere  \n",
            "   creating: collected_metrics/SimpleFlatMapper/\n",
            "  inflating: __MACOSX/collected_metrics/._SimpleFlatMapper  \n",
            "   creating: collected_metrics/zookeeper/\n",
            "  inflating: __MACOSX/collected_metrics/._zookeeper  \n",
            "   creating: collected_metrics/solr/\n",
            "  inflating: __MACOSX/collected_metrics/._solr  \n",
            "   creating: collected_metrics/typedb/\n",
            "  inflating: __MACOSX/collected_metrics/._typedb  \n",
            "   creating: collected_metrics/ObjectiveSql/\n",
            "  inflating: __MACOSX/collected_metrics/._ObjectiveSql  \n",
            "   creating: collected_metrics/sql-father-backend-public/\n",
            "  inflating: __MACOSX/collected_metrics/._sql-father-backend-public  \n",
            "   creating: collected_metrics/android-mvvm-architecture/\n",
            "  inflating: __MACOSX/collected_metrics/._android-mvvm-architecture  \n",
            "   creating: collected_metrics/mongo-java-driver/\n",
            "  inflating: __MACOSX/collected_metrics/._mongo-java-driver  \n",
            "   creating: collected_metrics/exist/\n",
            "  inflating: __MACOSX/collected_metrics/._exist  \n",
            "   creating: collected_metrics/kundera/\n",
            "  inflating: __MACOSX/collected_metrics/._kundera  \n",
            "   creating: collected_metrics/objectbox-java/\n",
            "  inflating: __MACOSX/collected_metrics/._objectbox-java  \n",
            "   creating: collected_metrics/databasir/\n",
            "  inflating: __MACOSX/collected_metrics/._databasir  \n",
            "   creating: collected_metrics/hibernate-reactive/\n",
            "  inflating: __MACOSX/collected_metrics/._hibernate-reactive  \n",
            "   creating: collected_metrics/crate/\n",
            "  inflating: __MACOSX/collected_metrics/._crate  \n",
            "   creating: collected_metrics/h2database/\n",
            "  inflating: __MACOSX/collected_metrics/._h2database  \n",
            "   creating: collected_metrics/cassandra/\n",
            "  inflating: __MACOSX/collected_metrics/._cassandra  \n",
            "   creating: collected_metrics/kylo/\n",
            "  inflating: __MACOSX/collected_metrics/._kylo  \n",
            "   creating: collected_metrics/speedment/\n",
            "  inflating: __MACOSX/collected_metrics/._speedment  \n",
            "   creating: collected_metrics/hibernate-orm/\n",
            "  inflating: __MACOSX/collected_metrics/._hibernate-orm  \n",
            "   creating: collected_metrics/database-all/\n",
            "  inflating: __MACOSX/collected_metrics/._database-all  \n",
            "   creating: collected_metrics/hbase/\n",
            "  inflating: __MACOSX/collected_metrics/._hbase  \n",
            "   creating: collected_metrics/hive/\n",
            "  inflating: __MACOSX/collected_metrics/._hive  \n",
            "   creating: collected_metrics/lmdbjava/\n",
            "  inflating: __MACOSX/collected_metrics/._lmdbjava  \n",
            "   creating: collected_metrics/framework-learning/\n",
            "  inflating: __MACOSX/collected_metrics/._framework-learning  \n",
            "   creating: collected_metrics/sqlite-jdbc/\n",
            "  inflating: __MACOSX/collected_metrics/._sqlite-jdbc  \n",
            "   creating: collected_metrics/datasource-proxy/\n",
            "  inflating: __MACOSX/collected_metrics/._datasource-proxy  \n",
            "   creating: collected_metrics/realm-java/\n",
            "  inflating: __MACOSX/collected_metrics/._realm-java  \n",
            "   creating: collected_metrics/db-jdo/\n",
            "  inflating: __MACOSX/collected_metrics/._db-jdo  \n",
            "   creating: collected_metrics/iotdb/\n",
            "  inflating: __MACOSX/collected_metrics/._iotdb  \n",
            "   creating: collected_metrics/soda-for-java/\n",
            "  inflating: __MACOSX/collected_metrics/._soda-for-java  \n",
            "   creating: collected_metrics/db-tutorial/\n",
            "  inflating: __MACOSX/collected_metrics/._db-tutorial  \n",
            "   creating: collected_metrics/beam/\n",
            "  inflating: __MACOSX/collected_metrics/._beam  \n",
            "   creating: collected_metrics/mybatis-flex/\n",
            "  inflating: __MACOSX/collected_metrics/._mybatis-flex  \n",
            "   creating: collected_metrics/questdb/\n",
            "  inflating: __MACOSX/collected_metrics/._questdb  \n",
            "   creating: collected_metrics/sqlancer/\n",
            "  inflating: __MACOSX/collected_metrics/._sqlancer  \n",
            "   creating: collected_metrics/CorfuDB/\n",
            "  inflating: __MACOSX/collected_metrics/._CorfuDB  \n",
            "   creating: collected_metrics/liquibase/\n",
            "  inflating: __MACOSX/collected_metrics/._liquibase  \n",
            "   creating: collected_metrics/mybatis-plus/\n",
            "  inflating: __MACOSX/collected_metrics/._mybatis-plus  \n",
            "   creating: collected_metrics/jodd/\n",
            "  inflating: __MACOSX/collected_metrics/._jodd  \n",
            "   creating: collected_metrics/Summer/\n",
            "  inflating: __MACOSX/collected_metrics/._Summer  \n",
            "   creating: collected_metrics/esProc/\n",
            "  inflating: __MACOSX/collected_metrics/._esProc  \n",
            "   creating: collected_metrics/jedis/\n",
            "  inflating: __MACOSX/collected_metrics/._jedis  \n",
            "   creating: collected_metrics/reladomo/\n",
            "  inflating: __MACOSX/collected_metrics/._reladomo  \n",
            "   creating: collected_metrics/nosql/\n",
            "  inflating: __MACOSX/collected_metrics/._nosql  \n",
            "   creating: collected_metrics/xodus/\n",
            "  inflating: __MACOSX/collected_metrics/._xodus  \n",
            "   creating: collected_metrics/h-store/\n",
            "  inflating: __MACOSX/collected_metrics/._h-store  \n",
            "   creating: collected_metrics/Lealone/\n",
            "  inflating: __MACOSX/collected_metrics/._Lealone  \n",
            "   creating: collected_metrics/wyxDBMS/\n",
            "  inflating: __MACOSX/collected_metrics/._wyxDBMS  \n",
            "   creating: collected_metrics/starrocks/\n",
            "  inflating: __MACOSX/collected_metrics/._starrocks  \n",
            "   creating: collected_metrics/spring-security-react-ant-design-polls-app/\n",
            "  inflating: __MACOSX/collected_metrics/._spring-security-react-ant-design-polls-app  \n",
            "   creating: collected_metrics/scalardb/\n",
            "  inflating: __MACOSX/collected_metrics/._scalardb  \n",
            "   creating: collected_metrics/orientdb/\n",
            "  inflating: __MACOSX/collected_metrics/._orientdb  \n",
            "   creating: collected_metrics/debezium/\n",
            "  inflating: __MACOSX/collected_metrics/._debezium  \n",
            "   creating: collected_metrics/ebean/\n",
            "  inflating: __MACOSX/collected_metrics/._ebean  \n",
            "   creating: collected_metrics/flyway/\n",
            "  inflating: __MACOSX/collected_metrics/._flyway  \n",
            "  inflating: collected_metrics/Jailer/field.csv  \n",
            "  inflating: __MACOSX/collected_metrics/Jailer/._field.csv  \n",
            "  inflating: collected_metrics/Jailer/method.csv  \n",
            "  inflating: __MACOSX/collected_metrics/Jailer/._method.csv  \n",
            "  inflating: collected_metrics/Jailer/variable.csv  \n",
            "  inflating: __MACOSX/collected_metrics/Jailer/._variable.csv  \n",
            "  inflating: collected_metrics/Jailer/class.csv  \n",
            "  inflating: __MACOSX/collected_metrics/Jailer/._class.csv  \n",
            "  inflating: collected_metrics/Paper/field.csv  \n",
            "  inflating: __MACOSX/collected_metrics/Paper/._field.csv  \n",
            "  inflating: collected_metrics/Paper/method.csv  \n",
            "  inflating: __MACOSX/collected_metrics/Paper/._method.csv  \n",
            "  inflating: collected_metrics/Paper/variable.csv  \n",
            "  inflating: __MACOSX/collected_metrics/Paper/._variable.csv  \n",
            "  inflating: collected_metrics/Paper/class.csv  \n",
            "  inflating: __MACOSX/collected_metrics/Paper/._class.csv  \n",
            "  inflating: collected_metrics/ClickHouse-Native-JDBC/field.csv  \n",
            "  inflating: __MACOSX/collected_metrics/ClickHouse-Native-JDBC/._field.csv  \n",
            "  inflating: collected_metrics/ClickHouse-Native-JDBC/method.csv  \n",
            "  inflating: __MACOSX/collected_metrics/ClickHouse-Native-JDBC/._method.csv  \n",
            "  inflating: collected_metrics/ClickHouse-Native-JDBC/variable.csv  \n",
            "  inflating: __MACOSX/collected_metrics/ClickHouse-Native-JDBC/._variable.csv  \n",
            "  inflating: collected_metrics/ClickHouse-Native-JDBC/class.csv  \n",
            "  inflating: __MACOSX/collected_metrics/ClickHouse-Native-JDBC/._class.csv  \n",
            "  inflating: collected_metrics/neo4j/field.csv  \n",
            "  inflating: __MACOSX/collected_metrics/neo4j/._field.csv  \n",
            "  inflating: collected_metrics/neo4j/method.csv  \n",
            "  inflating: __MACOSX/collected_metrics/neo4j/._method.csv  \n",
            "  inflating: collected_metrics/neo4j/variable.csv  \n",
            "  inflating: __MACOSX/collected_metrics/neo4j/._variable.csv  \n",
            "  inflating: collected_metrics/neo4j/class.csv  \n",
            "  inflating: __MACOSX/collected_metrics/neo4j/._class.csv  \n",
            "  inflating: collected_metrics/doris-spark-connector/field.csv  \n",
            "  inflating: __MACOSX/collected_metrics/doris-spark-connector/._field.csv  \n",
            "  inflating: collected_metrics/doris-spark-connector/method.csv  \n",
            "  inflating: __MACOSX/collected_metrics/doris-spark-connector/._method.csv  \n",
            "  inflating: collected_metrics/doris-spark-connector/variable.csv  \n",
            "  inflating: __MACOSX/collected_metrics/doris-spark-connector/._variable.csv  \n",
            "  inflating: collected_metrics/doris-spark-connector/class.csv  \n",
            "  inflating: __MACOSX/collected_metrics/doris-spark-connector/._class.csv  \n",
            "  inflating: collected_metrics/spring-data/field.csv  \n",
            "  inflating: __MACOSX/collected_metrics/spring-data/._field.csv  \n",
            "  inflating: collected_metrics/spring-data/method.csv  \n",
            "  inflating: __MACOSX/collected_metrics/spring-data/._method.csv  \n",
            "  inflating: collected_metrics/spring-data/variable.csv  \n",
            "  inflating: __MACOSX/collected_metrics/spring-data/._variable.csv  \n",
            "  inflating: collected_metrics/spring-data/class.csv  \n",
            "  inflating: __MACOSX/collected_metrics/spring-data/._class.csv  \n",
            "  inflating: collected_metrics/restheart/field.csv  \n",
            "  inflating: __MACOSX/collected_metrics/restheart/._field.csv  \n",
            "  inflating: collected_metrics/restheart/method.csv  \n",
            "  inflating: __MACOSX/collected_metrics/restheart/._method.csv  \n",
            "  inflating: collected_metrics/restheart/variable.csv  \n",
            "  inflating: __MACOSX/collected_metrics/restheart/._variable.csv  \n",
            "  inflating: collected_metrics/restheart/class.csv  \n",
            "  inflating: __MACOSX/collected_metrics/restheart/._class.csv  \n",
            "  inflating: collected_metrics/jdbi/field.csv  \n",
            "  inflating: __MACOSX/collected_metrics/jdbi/._field.csv  \n",
            "  inflating: collected_metrics/jdbi/method.csv  \n",
            "  inflating: __MACOSX/collected_metrics/jdbi/._method.csv  \n",
            "  inflating: collected_metrics/jdbi/variable.csv  \n",
            "  inflating: __MACOSX/collected_metrics/jdbi/._variable.csv  \n",
            "  inflating: collected_metrics/jdbi/class.csv  \n",
            "  inflating: __MACOSX/collected_metrics/jdbi/._class.csv  \n",
            "  inflating: collected_metrics/jeddict/field.csv  \n",
            "  inflating: __MACOSX/collected_metrics/jeddict/._field.csv  \n",
            "  inflating: collected_metrics/jeddict/method.csv  \n",
            "  inflating: __MACOSX/collected_metrics/jeddict/._method.csv  \n",
            "  inflating: collected_metrics/jeddict/variable.csv  \n",
            "  inflating: __MACOSX/collected_metrics/jeddict/._variable.csv  \n",
            "  inflating: collected_metrics/jeddict/class.csv  \n",
            "  inflating: __MACOSX/collected_metrics/jeddict/._class.csv  \n",
            "  inflating: collected_metrics/shardingsphere-elasticjob/field.csv  \n",
            "  inflating: __MACOSX/collected_metrics/shardingsphere-elasticjob/._field.csv  \n",
            "  inflating: collected_metrics/shardingsphere-elasticjob/method.csv  \n",
            "  inflating: __MACOSX/collected_metrics/shardingsphere-elasticjob/._method.csv  \n",
            "  inflating: collected_metrics/shardingsphere-elasticjob/variable.csv  \n",
            "  inflating: __MACOSX/collected_metrics/shardingsphere-elasticjob/._variable.csv  \n",
            "  inflating: collected_metrics/shardingsphere-elasticjob/class.csv  \n",
            "  inflating: __MACOSX/collected_metrics/shardingsphere-elasticjob/._class.csv  \n",
            "  inflating: collected_metrics/helicalinsight/field.csv  \n",
            "  inflating: __MACOSX/collected_metrics/helicalinsight/._field.csv  \n",
            "  inflating: collected_metrics/helicalinsight/method.csv  \n",
            "  inflating: __MACOSX/collected_metrics/helicalinsight/._method.csv  \n",
            "  inflating: collected_metrics/helicalinsight/variable.csv  \n",
            "  inflating: __MACOSX/collected_metrics/helicalinsight/._variable.csv  \n",
            "  inflating: collected_metrics/helicalinsight/class.csv  \n",
            "  inflating: __MACOSX/collected_metrics/helicalinsight/._class.csv  \n",
            "  inflating: collected_metrics/presto/field.csv  \n",
            "  inflating: __MACOSX/collected_metrics/presto/._field.csv  \n",
            "  inflating: collected_metrics/presto/method.csv  \n",
            "  inflating: __MACOSX/collected_metrics/presto/._method.csv  \n",
            "  inflating: collected_metrics/presto/variable.csv  \n",
            "  inflating: __MACOSX/collected_metrics/presto/._variable.csv  \n",
            "  inflating: collected_metrics/presto/class.csv  \n",
            "  inflating: __MACOSX/collected_metrics/presto/._class.csv  \n",
            "  inflating: collected_metrics/pig/field.csv  \n",
            "  inflating: __MACOSX/collected_metrics/pig/._field.csv  \n",
            "  inflating: collected_metrics/pig/method.csv  \n",
            "  inflating: __MACOSX/collected_metrics/pig/._method.csv  \n",
            "  inflating: collected_metrics/pig/variable.csv  \n",
            "  inflating: __MACOSX/collected_metrics/pig/._variable.csv  \n",
            "  inflating: collected_metrics/pig/class.csv  \n",
            "  inflating: __MACOSX/collected_metrics/pig/._class.csv  \n",
            "  inflating: collected_metrics/jimmer/field.csv  \n",
            "  inflating: __MACOSX/collected_metrics/jimmer/._field.csv  \n",
            "  inflating: collected_metrics/jimmer/method.csv  \n",
            "  inflating: __MACOSX/collected_metrics/jimmer/._method.csv  \n",
            "  inflating: collected_metrics/jimmer/variable.csv  \n",
            "  inflating: __MACOSX/collected_metrics/jimmer/._variable.csv  \n",
            "  inflating: collected_metrics/jimmer/class.csv  \n",
            "  inflating: __MACOSX/collected_metrics/jimmer/._class.csv  \n",
            "  inflating: collected_metrics/mongock/field.csv  \n",
            "  inflating: __MACOSX/collected_metrics/mongock/._field.csv  \n",
            "  inflating: collected_metrics/mongock/method.csv  \n",
            "  inflating: __MACOSX/collected_metrics/mongock/._method.csv  \n",
            "  inflating: collected_metrics/mongock/variable.csv  \n",
            "  inflating: __MACOSX/collected_metrics/mongock/._variable.csv  \n",
            "  inflating: collected_metrics/mongock/class.csv  \n",
            "  inflating: __MACOSX/collected_metrics/mongock/._class.csv  \n",
            "  inflating: collected_metrics/KitDB/field.csv  \n",
            "  inflating: __MACOSX/collected_metrics/KitDB/._field.csv  \n",
            "  inflating: collected_metrics/KitDB/method.csv  \n",
            "  inflating: __MACOSX/collected_metrics/KitDB/._method.csv  \n",
            "  inflating: collected_metrics/KitDB/variable.csv  \n",
            "  inflating: __MACOSX/collected_metrics/KitDB/._variable.csv  \n",
            "  inflating: collected_metrics/KitDB/class.csv  \n",
            "  inflating: __MACOSX/collected_metrics/KitDB/._class.csv  \n",
            "  inflating: collected_metrics/easy-es/field.csv  \n",
            "  inflating: __MACOSX/collected_metrics/easy-es/._field.csv  \n",
            "  inflating: collected_metrics/easy-es/method.csv  \n",
            "  inflating: __MACOSX/collected_metrics/easy-es/._method.csv  \n",
            "  inflating: collected_metrics/easy-es/variable.csv  \n",
            "  inflating: __MACOSX/collected_metrics/easy-es/._variable.csv  \n",
            "  inflating: collected_metrics/easy-es/class.csv  \n",
            "  inflating: __MACOSX/collected_metrics/easy-es/._class.csv  \n",
            "  inflating: collected_metrics/ormlite-android/field.csv  \n",
            "  inflating: __MACOSX/collected_metrics/ormlite-android/._field.csv  \n",
            "  inflating: collected_metrics/ormlite-android/method.csv  \n",
            "  inflating: __MACOSX/collected_metrics/ormlite-android/._method.csv  \n",
            "  inflating: collected_metrics/ormlite-android/variable.csv  \n",
            "  inflating: __MACOSX/collected_metrics/ormlite-android/._variable.csv  \n",
            "  inflating: collected_metrics/ormlite-android/class.csv  \n",
            "  inflating: __MACOSX/collected_metrics/ormlite-android/._class.csv  \n",
            "  inflating: collected_metrics/hutool/field.csv  \n",
            "  inflating: __MACOSX/collected_metrics/hutool/._field.csv  \n",
            "  inflating: collected_metrics/hutool/method.csv  \n",
            "  inflating: __MACOSX/collected_metrics/hutool/._method.csv  \n",
            "  inflating: collected_metrics/hutool/variable.csv  \n",
            "  inflating: __MACOSX/collected_metrics/hutool/._variable.csv  \n",
            "  inflating: collected_metrics/hutool/class.csv  \n",
            "  inflating: __MACOSX/collected_metrics/hutool/._class.csv  \n",
            "  inflating: collected_metrics/jOOQ/field.csv  \n",
            "  inflating: __MACOSX/collected_metrics/jOOQ/._field.csv  \n",
            "  inflating: collected_metrics/jOOQ/method.csv  \n",
            "  inflating: __MACOSX/collected_metrics/jOOQ/._method.csv  \n",
            "  inflating: collected_metrics/jOOQ/variable.csv  \n",
            "  inflating: __MACOSX/collected_metrics/jOOQ/._variable.csv  \n",
            "  inflating: collected_metrics/jOOQ/class.csv  \n",
            "  inflating: __MACOSX/collected_metrics/jOOQ/._class.csv  \n",
            "  inflating: collected_metrics/doris-flink-connector/field.csv  \n",
            "  inflating: __MACOSX/collected_metrics/doris-flink-connector/._field.csv  \n",
            "  inflating: collected_metrics/doris-flink-connector/method.csv  \n",
            "  inflating: __MACOSX/collected_metrics/doris-flink-connector/._method.csv  \n",
            "  inflating: collected_metrics/doris-flink-connector/variable.csv  \n",
            "  inflating: __MACOSX/collected_metrics/doris-flink-connector/._variable.csv  \n",
            "  inflating: collected_metrics/doris-flink-connector/class.csv  \n",
            "  inflating: __MACOSX/collected_metrics/doris-flink-connector/._class.csv  \n",
            "  inflating: collected_metrics/lucene/field.csv  \n",
            "  inflating: __MACOSX/collected_metrics/lucene/._field.csv  \n",
            "  inflating: collected_metrics/lucene/method.csv  \n",
            "  inflating: __MACOSX/collected_metrics/lucene/._method.csv  \n",
            "  inflating: collected_metrics/lucene/variable.csv  \n",
            "  inflating: __MACOSX/collected_metrics/lucene/._variable.csv  \n",
            "  inflating: collected_metrics/lucene/class.csv  \n",
            "  inflating: __MACOSX/collected_metrics/lucene/._class.csv  \n",
            "  inflating: collected_metrics/nutz/field.csv  \n",
            "  inflating: __MACOSX/collected_metrics/nutz/._field.csv  \n",
            "  inflating: collected_metrics/nutz/method.csv  \n",
            "  inflating: __MACOSX/collected_metrics/nutz/._method.csv  \n",
            "  inflating: collected_metrics/nutz/variable.csv  \n",
            "  inflating: __MACOSX/collected_metrics/nutz/._variable.csv  \n",
            "  inflating: collected_metrics/nutz/class.csv  \n",
            "  inflating: __MACOSX/collected_metrics/nutz/._class.csv  \n",
            "  inflating: collected_metrics/zeppelin/field.csv  \n",
            "  inflating: __MACOSX/collected_metrics/zeppelin/._field.csv  \n",
            "  inflating: collected_metrics/zeppelin/method.csv  \n",
            "  inflating: __MACOSX/collected_metrics/zeppelin/._method.csv  \n",
            "  inflating: collected_metrics/zeppelin/variable.csv  \n",
            "  inflating: __MACOSX/collected_metrics/zeppelin/._variable.csv  \n",
            "  inflating: collected_metrics/zeppelin/class.csv  \n",
            "  inflating: __MACOSX/collected_metrics/zeppelin/._class.csv  \n",
            "  inflating: collected_metrics/cyberduck/field.csv  \n",
            "  inflating: __MACOSX/collected_metrics/cyberduck/._field.csv  \n",
            "  inflating: collected_metrics/cyberduck/method.csv  \n",
            "  inflating: __MACOSX/collected_metrics/cyberduck/._method.csv  \n",
            "  inflating: collected_metrics/cyberduck/variable.csv  \n",
            "  inflating: __MACOSX/collected_metrics/cyberduck/._variable.csv  \n",
            "  inflating: collected_metrics/cyberduck/class.csv  \n",
            "  inflating: __MACOSX/collected_metrics/cyberduck/._class.csv  \n",
            "  inflating: collected_metrics/sqli/field.csv  \n",
            "  inflating: __MACOSX/collected_metrics/sqli/._field.csv  \n",
            "  inflating: collected_metrics/sqli/method.csv  \n",
            "  inflating: __MACOSX/collected_metrics/sqli/._method.csv  \n",
            "  inflating: collected_metrics/sqli/variable.csv  \n",
            "  inflating: __MACOSX/collected_metrics/sqli/._variable.csv  \n",
            "  inflating: collected_metrics/sqli/class.csv  \n",
            "  inflating: __MACOSX/collected_metrics/sqli/._class.csv  \n",
            "  inflating: collected_metrics/bee/field.csv  \n",
            "  inflating: __MACOSX/collected_metrics/bee/._field.csv  \n",
            "  inflating: collected_metrics/bee/method.csv  \n",
            "  inflating: __MACOSX/collected_metrics/bee/._method.csv  \n",
            "  inflating: collected_metrics/bee/variable.csv  \n",
            "  inflating: __MACOSX/collected_metrics/bee/._variable.csv  \n",
            "  inflating: collected_metrics/bee/class.csv  \n",
            "  inflating: __MACOSX/collected_metrics/bee/._class.csv  \n",
            "  inflating: collected_metrics/Android-Orma/field.csv  \n",
            "  inflating: __MACOSX/collected_metrics/Android-Orma/._field.csv  \n",
            "  inflating: collected_metrics/Android-Orma/method.csv  \n",
            "  inflating: __MACOSX/collected_metrics/Android-Orma/._method.csv  \n",
            "  inflating: collected_metrics/Android-Orma/variable.csv  \n",
            "  inflating: __MACOSX/collected_metrics/Android-Orma/._variable.csv  \n",
            "  inflating: collected_metrics/Android-Orma/class.csv  \n",
            "  inflating: __MACOSX/collected_metrics/Android-Orma/._class.csv  \n",
            "  inflating: collected_metrics/Android-Debug-Database/field.csv  \n",
            "  inflating: __MACOSX/collected_metrics/Android-Debug-Database/._field.csv  \n",
            "  inflating: collected_metrics/Android-Debug-Database/method.csv  \n",
            "  inflating: __MACOSX/collected_metrics/Android-Debug-Database/._method.csv  \n",
            "  inflating: collected_metrics/Android-Debug-Database/variable.csv  \n",
            "  inflating: __MACOSX/collected_metrics/Android-Debug-Database/._variable.csv  \n",
            "  inflating: collected_metrics/Android-Debug-Database/class.csv  \n",
            "  inflating: __MACOSX/collected_metrics/Android-Debug-Database/._class.csv  \n",
            "  inflating: collected_metrics/flink/field.csv  \n",
            "  inflating: __MACOSX/collected_metrics/flink/._field.csv  \n",
            "  inflating: collected_metrics/flink/method.csv  \n",
            "  inflating: __MACOSX/collected_metrics/flink/._method.csv  \n",
            "  inflating: collected_metrics/flink/class.csv  \n",
            "  inflating: __MACOSX/collected_metrics/flink/._class.csv  \n",
            "  inflating: collected_metrics/ftserver/field.csv  \n",
            "  inflating: __MACOSX/collected_metrics/ftserver/._field.csv  \n",
            "  inflating: collected_metrics/ftserver/method.csv  \n",
            "  inflating: __MACOSX/collected_metrics/ftserver/._method.csv  \n",
            "  inflating: collected_metrics/ftserver/variable.csv  \n",
            "  inflating: __MACOSX/collected_metrics/ftserver/._variable.csv  \n",
            "  inflating: collected_metrics/ftserver/class.csv  \n",
            "  inflating: __MACOSX/collected_metrics/ftserver/._class.csv  \n",
            "  inflating: collected_metrics/lettuce-core/field.csv  \n",
            "  inflating: __MACOSX/collected_metrics/lettuce-core/._field.csv  \n",
            "  inflating: collected_metrics/lettuce-core/method.csv  \n",
            "  inflating: __MACOSX/collected_metrics/lettuce-core/._method.csv  \n",
            "  inflating: collected_metrics/lettuce-core/variable.csv  \n",
            "  inflating: __MACOSX/collected_metrics/lettuce-core/._variable.csv  \n",
            "  inflating: collected_metrics/lettuce-core/class.csv  \n",
            "  inflating: __MACOSX/collected_metrics/lettuce-core/._class.csv  \n",
            "  inflating: collected_metrics/ignite/field.csv  \n",
            "  inflating: __MACOSX/collected_metrics/ignite/._field.csv  \n",
            "  inflating: collected_metrics/ignite/method.csv  \n",
            "  inflating: __MACOSX/collected_metrics/ignite/._method.csv  \n",
            "  inflating: collected_metrics/ignite/variable.csv  \n",
            "  inflating: __MACOSX/collected_metrics/ignite/._variable.csv  \n",
            "  inflating: collected_metrics/ignite/class.csv  \n",
            "  inflating: __MACOSX/collected_metrics/ignite/._class.csv  \n",
            "  inflating: collected_metrics/elassandra/field.csv  \n",
            "  inflating: __MACOSX/collected_metrics/elassandra/._field.csv  \n",
            "  inflating: collected_metrics/elassandra/method.csv  \n",
            "  inflating: __MACOSX/collected_metrics/elassandra/._method.csv  \n",
            "  inflating: collected_metrics/elassandra/variable.csv  \n",
            "  inflating: __MACOSX/collected_metrics/elassandra/._variable.csv  \n",
            "  inflating: collected_metrics/elassandra/class.csv  \n",
            "  inflating: __MACOSX/collected_metrics/elassandra/._class.csv  \n",
            "  inflating: collected_metrics/doris/field.csv  \n",
            "  inflating: __MACOSX/collected_metrics/doris/._field.csv  \n",
            "  inflating: collected_metrics/doris/method.csv  \n",
            "  inflating: __MACOSX/collected_metrics/doris/._method.csv  \n",
            "  inflating: collected_metrics/doris/variable.csv  \n",
            "  inflating: __MACOSX/collected_metrics/doris/._variable.csv  \n",
            "  inflating: collected_metrics/doris/class.csv  \n",
            "  inflating: __MACOSX/collected_metrics/doris/._class.csv  \n",
            "  inflating: collected_metrics/mybatis-3/field.csv  \n",
            "  inflating: __MACOSX/collected_metrics/mybatis-3/._field.csv  \n",
            "  inflating: collected_metrics/mybatis-3/method.csv  \n",
            "  inflating: __MACOSX/collected_metrics/mybatis-3/._method.csv  \n",
            "  inflating: collected_metrics/mybatis-3/variable.csv  \n",
            "  inflating: __MACOSX/collected_metrics/mybatis-3/._variable.csv  \n",
            "  inflating: collected_metrics/mybatis-3/class.csv  \n",
            "  inflating: __MACOSX/collected_metrics/mybatis-3/._class.csv  \n",
            "  inflating: collected_metrics/pgjdbc/field.csv  \n",
            "  inflating: __MACOSX/collected_metrics/pgjdbc/._field.csv  \n",
            "  inflating: collected_metrics/pgjdbc/method.csv  \n",
            "  inflating: __MACOSX/collected_metrics/pgjdbc/._method.csv  \n",
            "  inflating: collected_metrics/pgjdbc/variable.csv  \n",
            "  inflating: __MACOSX/collected_metrics/pgjdbc/._variable.csv  \n",
            "  inflating: collected_metrics/pgjdbc/class.csv  \n",
            "  inflating: __MACOSX/collected_metrics/pgjdbc/._class.csv  \n",
            "  inflating: collected_metrics/Addax/field.csv  \n",
            "  inflating: __MACOSX/collected_metrics/Addax/._field.csv  \n",
            "  inflating: collected_metrics/Addax/method.csv  \n",
            "  inflating: __MACOSX/collected_metrics/Addax/._method.csv  \n",
            "  inflating: collected_metrics/Addax/variable.csv  \n",
            "  inflating: __MACOSX/collected_metrics/Addax/._variable.csv  \n",
            "  inflating: collected_metrics/Addax/class.csv  \n",
            "  inflating: __MACOSX/collected_metrics/Addax/._class.csv  \n",
            "  inflating: collected_metrics/trino/field.csv  \n",
            "  inflating: __MACOSX/collected_metrics/trino/._field.csv  \n",
            "  inflating: collected_metrics/trino/method.csv  \n",
            "  inflating: __MACOSX/collected_metrics/trino/._method.csv  \n",
            "  inflating: collected_metrics/trino/variable.csv  \n",
            "  inflating: __MACOSX/collected_metrics/trino/._variable.csv  \n",
            "  inflating: collected_metrics/trino/class.csv  \n",
            "  inflating: __MACOSX/collected_metrics/trino/._class.csv  \n",
            "  inflating: collected_metrics/MariaDB4j/field.csv  \n",
            "  inflating: __MACOSX/collected_metrics/MariaDB4j/._field.csv  \n",
            "  inflating: collected_metrics/MariaDB4j/method.csv  \n",
            "  inflating: __MACOSX/collected_metrics/MariaDB4j/._method.csv  \n",
            "  inflating: collected_metrics/MariaDB4j/variable.csv  \n",
            "  inflating: __MACOSX/collected_metrics/MariaDB4j/._variable.csv  \n",
            "  inflating: collected_metrics/MariaDB4j/class.csv  \n",
            "  inflating: __MACOSX/collected_metrics/MariaDB4j/._class.csv  \n",
            "  inflating: collected_metrics/hibernate-search/field.csv  \n",
            "  inflating: __MACOSX/collected_metrics/hibernate-search/._field.csv  \n",
            "  inflating: collected_metrics/hibernate-search/method.csv  \n",
            "  inflating: __MACOSX/collected_metrics/hibernate-search/._method.csv  \n",
            "  inflating: collected_metrics/hibernate-search/variable.csv  \n",
            "  inflating: __MACOSX/collected_metrics/hibernate-search/._variable.csv  \n",
            "  inflating: collected_metrics/hibernate-search/class.csv  \n",
            "  inflating: __MACOSX/collected_metrics/hibernate-search/._class.csv  \n",
            "  inflating: collected_metrics/ormlite-core/field.csv  \n",
            "  inflating: __MACOSX/collected_metrics/ormlite-core/._field.csv  \n",
            "  inflating: collected_metrics/ormlite-core/method.csv  \n",
            "  inflating: __MACOSX/collected_metrics/ormlite-core/._method.csv  \n",
            "  inflating: collected_metrics/ormlite-core/variable.csv  \n",
            "  inflating: __MACOSX/collected_metrics/ormlite-core/._variable.csv  \n",
            "  inflating: collected_metrics/ormlite-core/class.csv  \n",
            "  inflating: __MACOSX/collected_metrics/ormlite-core/._class.csv  \n",
            "  inflating: collected_metrics/java-client-api/field.csv  \n",
            "  inflating: __MACOSX/collected_metrics/java-client-api/._field.csv  \n",
            "  inflating: collected_metrics/java-client-api/method.csv  \n",
            "  inflating: __MACOSX/collected_metrics/java-client-api/._method.csv  \n",
            "  inflating: collected_metrics/java-client-api/variable.csv  \n",
            "  inflating: __MACOSX/collected_metrics/java-client-api/._variable.csv  \n",
            "  inflating: collected_metrics/java-client-api/class.csv  \n",
            "  inflating: __MACOSX/collected_metrics/java-client-api/._class.csv  \n",
            "  inflating: collected_metrics/ofbiz-framework/field.csv  \n",
            "  inflating: __MACOSX/collected_metrics/ofbiz-framework/._field.csv  \n",
            "  inflating: collected_metrics/ofbiz-framework/method.csv  \n",
            "  inflating: __MACOSX/collected_metrics/ofbiz-framework/._method.csv  \n",
            "  inflating: collected_metrics/ofbiz-framework/variable.csv  \n",
            "  inflating: __MACOSX/collected_metrics/ofbiz-framework/._variable.csv  \n",
            "  inflating: collected_metrics/ofbiz-framework/class.csv  \n",
            "  inflating: __MACOSX/collected_metrics/ofbiz-framework/._class.csv  \n",
            "  inflating: collected_metrics/nitrite-java/field.csv  \n",
            "  inflating: __MACOSX/collected_metrics/nitrite-java/._field.csv  \n",
            "  inflating: collected_metrics/nitrite-java/method.csv  \n",
            "  inflating: __MACOSX/collected_metrics/nitrite-java/._method.csv  \n",
            "  inflating: collected_metrics/nitrite-java/variable.csv  \n",
            "  inflating: __MACOSX/collected_metrics/nitrite-java/._variable.csv  \n",
            "  inflating: collected_metrics/nitrite-java/class.csv  \n",
            "  inflating: __MACOSX/collected_metrics/nitrite-java/._class.csv  \n",
            "  inflating: collected_metrics/jetcache/field.csv  \n",
            "  inflating: __MACOSX/collected_metrics/jetcache/._field.csv  \n",
            "  inflating: collected_metrics/jetcache/method.csv  \n",
            "  inflating: __MACOSX/collected_metrics/jetcache/._method.csv  \n",
            "  inflating: collected_metrics/jetcache/variable.csv  \n",
            "  inflating: __MACOSX/collected_metrics/jetcache/._variable.csv  \n",
            "  inflating: collected_metrics/jetcache/class.csv  \n",
            "  inflating: __MACOSX/collected_metrics/jetcache/._class.csv  \n",
            "  inflating: collected_metrics/concourse/field.csv  \n",
            "  inflating: __MACOSX/collected_metrics/concourse/._field.csv  \n",
            "  inflating: collected_metrics/concourse/method.csv  \n",
            "  inflating: __MACOSX/collected_metrics/concourse/._method.csv  \n",
            "  inflating: collected_metrics/concourse/variable.csv  \n",
            "  inflating: __MACOSX/collected_metrics/concourse/._variable.csv  \n",
            "  inflating: collected_metrics/concourse/class.csv  \n",
            "  inflating: __MACOSX/collected_metrics/concourse/._class.csv  \n",
            "  inflating: collected_metrics/NemakiWare/field.csv  \n",
            "  inflating: __MACOSX/collected_metrics/NemakiWare/._field.csv  \n",
            "  inflating: collected_metrics/NemakiWare/method.csv  \n",
            "  inflating: __MACOSX/collected_metrics/NemakiWare/._method.csv  \n",
            "  inflating: collected_metrics/NemakiWare/variable.csv  \n",
            "  inflating: __MACOSX/collected_metrics/NemakiWare/._variable.csv  \n",
            "  inflating: collected_metrics/NemakiWare/class.csv  \n",
            "  inflating: __MACOSX/collected_metrics/NemakiWare/._class.csv  \n",
            "  inflating: collected_metrics/dbeaver/field.csv  \n",
            "  inflating: __MACOSX/collected_metrics/dbeaver/._field.csv  \n",
            "  inflating: collected_metrics/dbeaver/method.csv  \n",
            "  inflating: __MACOSX/collected_metrics/dbeaver/._method.csv  \n",
            "  inflating: collected_metrics/dbeaver/variable.csv  \n",
            "  inflating: __MACOSX/collected_metrics/dbeaver/._variable.csv  \n",
            "  inflating: collected_metrics/dbeaver/class.csv  \n",
            "  inflating: __MACOSX/collected_metrics/dbeaver/._class.csv  \n",
            "  inflating: collected_metrics/phoenix/field.csv  \n",
            "  inflating: __MACOSX/collected_metrics/phoenix/._field.csv  \n",
            "  inflating: collected_metrics/phoenix/method.csv  \n",
            "  inflating: __MACOSX/collected_metrics/phoenix/._method.csv  \n",
            "  inflating: collected_metrics/phoenix/variable.csv  \n",
            "  inflating: __MACOSX/collected_metrics/phoenix/._variable.csv  \n",
            "  inflating: collected_metrics/phoenix/class.csv  \n",
            "  inflating: __MACOSX/collected_metrics/phoenix/._class.csv  \n",
            "  inflating: collected_metrics/stampede/field.csv  \n",
            "  inflating: __MACOSX/collected_metrics/stampede/._field.csv  \n",
            "  inflating: collected_metrics/stampede/method.csv  \n",
            "  inflating: __MACOSX/collected_metrics/stampede/._method.csv  \n",
            "  inflating: collected_metrics/stampede/variable.csv  \n",
            "  inflating: __MACOSX/collected_metrics/stampede/._variable.csv  \n",
            "  inflating: collected_metrics/stampede/class.csv  \n",
            "  inflating: __MACOSX/collected_metrics/stampede/._class.csv  \n",
            "  inflating: collected_metrics/jnosql/field.csv  \n",
            "  inflating: __MACOSX/collected_metrics/jnosql/._field.csv  \n",
            "  inflating: collected_metrics/jnosql/method.csv  \n",
            "  inflating: __MACOSX/collected_metrics/jnosql/._method.csv  \n",
            "  inflating: collected_metrics/jnosql/variable.csv  \n",
            "  inflating: __MACOSX/collected_metrics/jnosql/._variable.csv  \n",
            "  inflating: collected_metrics/jnosql/class.csv  \n",
            "  inflating: __MACOSX/collected_metrics/jnosql/._class.csv  \n",
            "  inflating: collected_metrics/doris-manager/field.csv  \n",
            "  inflating: __MACOSX/collected_metrics/doris-manager/._field.csv  \n",
            "  inflating: collected_metrics/doris-manager/method.csv  \n",
            "  inflating: __MACOSX/collected_metrics/doris-manager/._method.csv  \n",
            "  inflating: collected_metrics/doris-manager/variable.csv  \n",
            "  inflating: __MACOSX/collected_metrics/doris-manager/._variable.csv  \n",
            "  inflating: collected_metrics/doris-manager/class.csv  \n",
            "  inflating: __MACOSX/collected_metrics/doris-manager/._class.csv  \n",
            "  inflating: collected_metrics/ReplicaDB/field.csv  \n",
            "  inflating: __MACOSX/collected_metrics/ReplicaDB/._field.csv  \n",
            "  inflating: collected_metrics/ReplicaDB/method.csv  \n",
            "  inflating: __MACOSX/collected_metrics/ReplicaDB/._method.csv  \n",
            "  inflating: collected_metrics/ReplicaDB/variable.csv  \n",
            "  inflating: __MACOSX/collected_metrics/ReplicaDB/._variable.csv  \n",
            "  inflating: collected_metrics/ReplicaDB/class.csv  \n",
            "  inflating: __MACOSX/collected_metrics/ReplicaDB/._class.csv  \n",
            "  inflating: collected_metrics/Polypheny-DB/field.csv  \n",
            "  inflating: __MACOSX/collected_metrics/Polypheny-DB/._field.csv  \n",
            "  inflating: collected_metrics/Polypheny-DB/method.csv  \n",
            "  inflating: __MACOSX/collected_metrics/Polypheny-DB/._method.csv  \n",
            "  inflating: collected_metrics/Polypheny-DB/variable.csv  \n",
            "  inflating: __MACOSX/collected_metrics/Polypheny-DB/._variable.csv  \n",
            "  inflating: collected_metrics/Polypheny-DB/class.csv  \n",
            "  inflating: __MACOSX/collected_metrics/Polypheny-DB/._class.csv  \n",
            "  inflating: collected_metrics/incubator-hugegraph/field.csv  \n",
            "  inflating: __MACOSX/collected_metrics/incubator-hugegraph/._field.csv  \n",
            "  inflating: collected_metrics/incubator-hugegraph/method.csv  \n",
            "  inflating: __MACOSX/collected_metrics/incubator-hugegraph/._method.csv  \n",
            "  inflating: collected_metrics/incubator-hugegraph/variable.csv  \n",
            "  inflating: __MACOSX/collected_metrics/incubator-hugegraph/._variable.csv  \n",
            "  inflating: collected_metrics/incubator-hugegraph/class.csv  \n",
            "  inflating: __MACOSX/collected_metrics/incubator-hugegraph/._class.csv  \n",
            "  inflating: collected_metrics/curator/field.csv  \n",
            "  inflating: __MACOSX/collected_metrics/curator/._field.csv  \n",
            "  inflating: collected_metrics/curator/method.csv  \n",
            "  inflating: __MACOSX/collected_metrics/curator/._method.csv  \n",
            "  inflating: collected_metrics/curator/variable.csv  \n",
            "  inflating: __MACOSX/collected_metrics/curator/._variable.csv  \n",
            "  inflating: collected_metrics/curator/class.csv  \n",
            "  inflating: __MACOSX/collected_metrics/curator/._class.csv  \n",
            "  inflating: collected_metrics/WeSync/field.csv  \n",
            "  inflating: __MACOSX/collected_metrics/WeSync/._field.csv  \n",
            "  inflating: collected_metrics/WeSync/method.csv  \n",
            "  inflating: __MACOSX/collected_metrics/WeSync/._method.csv  \n",
            "  inflating: collected_metrics/WeSync/variable.csv  \n",
            "  inflating: __MACOSX/collected_metrics/WeSync/._variable.csv  \n",
            "  inflating: collected_metrics/WeSync/class.csv  \n",
            "  inflating: __MACOSX/collected_metrics/WeSync/._class.csv  \n",
            "  inflating: collected_metrics/SchemaCrawler/field.csv  \n",
            "  inflating: __MACOSX/collected_metrics/SchemaCrawler/._field.csv  \n",
            "  inflating: collected_metrics/SchemaCrawler/method.csv  \n",
            "  inflating: __MACOSX/collected_metrics/SchemaCrawler/._method.csv  \n",
            "  inflating: collected_metrics/SchemaCrawler/variable.csv  \n",
            "  inflating: __MACOSX/collected_metrics/SchemaCrawler/._variable.csv  \n",
            "  inflating: collected_metrics/SchemaCrawler/class.csv  \n",
            "  inflating: __MACOSX/collected_metrics/SchemaCrawler/._class.csv  \n",
            "  inflating: collected_metrics/otj-pg-embedded/field.csv  \n",
            "  inflating: __MACOSX/collected_metrics/otj-pg-embedded/._field.csv  \n",
            "  inflating: collected_metrics/otj-pg-embedded/method.csv  \n",
            "  inflating: __MACOSX/collected_metrics/otj-pg-embedded/._method.csv  \n",
            "  inflating: collected_metrics/otj-pg-embedded/variable.csv  \n",
            "  inflating: __MACOSX/collected_metrics/otj-pg-embedded/._variable.csv  \n",
            "  inflating: collected_metrics/otj-pg-embedded/class.csv  \n",
            "  inflating: __MACOSX/collected_metrics/otj-pg-embedded/._class.csv  \n",
            "  inflating: collected_metrics/flink-cdc-connectors/field.csv  \n",
            "  inflating: __MACOSX/collected_metrics/flink-cdc-connectors/._field.csv  \n",
            "  inflating: collected_metrics/flink-cdc-connectors/method.csv  \n",
            "  inflating: __MACOSX/collected_metrics/flink-cdc-connectors/._method.csv  \n",
            "  inflating: collected_metrics/flink-cdc-connectors/variable.csv  \n",
            "  inflating: __MACOSX/collected_metrics/flink-cdc-connectors/._variable.csv  \n",
            "  inflating: collected_metrics/flink-cdc-connectors/class.csv  \n",
            "  inflating: __MACOSX/collected_metrics/flink-cdc-connectors/._class.csv  \n",
            "  inflating: collected_metrics/mondrian/field.csv  \n",
            "  inflating: __MACOSX/collected_metrics/mondrian/._field.csv  \n",
            "  inflating: collected_metrics/mondrian/method.csv  \n",
            "  inflating: __MACOSX/collected_metrics/mondrian/._method.csv  \n",
            "  inflating: collected_metrics/mondrian/variable.csv  \n",
            "  inflating: __MACOSX/collected_metrics/mondrian/._variable.csv  \n",
            "  inflating: collected_metrics/mondrian/class.csv  \n",
            "  inflating: __MACOSX/collected_metrics/mondrian/._class.csv  \n",
            "  inflating: collected_metrics/sagacity-sqltoy/field.csv  \n",
            "  inflating: __MACOSX/collected_metrics/sagacity-sqltoy/._field.csv  \n",
            "  inflating: collected_metrics/sagacity-sqltoy/method.csv  \n",
            "  inflating: __MACOSX/collected_metrics/sagacity-sqltoy/._method.csv  \n",
            "  inflating: collected_metrics/sagacity-sqltoy/variable.csv  \n",
            "  inflating: __MACOSX/collected_metrics/sagacity-sqltoy/._variable.csv  \n",
            "  inflating: collected_metrics/sagacity-sqltoy/class.csv  \n",
            "  inflating: __MACOSX/collected_metrics/sagacity-sqltoy/._class.csv  \n",
            "  inflating: collected_metrics/brickhouse/field.csv  \n",
            "  inflating: __MACOSX/collected_metrics/brickhouse/._field.csv  \n",
            "  inflating: collected_metrics/brickhouse/method.csv  \n",
            "  inflating: __MACOSX/collected_metrics/brickhouse/._method.csv  \n",
            "  inflating: collected_metrics/brickhouse/variable.csv  \n",
            "  inflating: __MACOSX/collected_metrics/brickhouse/._variable.csv  \n",
            "  inflating: collected_metrics/brickhouse/class.csv  \n",
            "  inflating: __MACOSX/collected_metrics/brickhouse/._class.csv  \n",
            "  inflating: collected_metrics/r2dbc-postgresql/field.csv  \n",
            "  inflating: __MACOSX/collected_metrics/r2dbc-postgresql/._field.csv  \n",
            "  inflating: collected_metrics/r2dbc-postgresql/method.csv  \n",
            "  inflating: __MACOSX/collected_metrics/r2dbc-postgresql/._method.csv  \n",
            "  inflating: collected_metrics/r2dbc-postgresql/variable.csv  \n",
            "  inflating: __MACOSX/collected_metrics/r2dbc-postgresql/._variable.csv  \n",
            "  inflating: collected_metrics/r2dbc-postgresql/class.csv  \n",
            "  inflating: __MACOSX/collected_metrics/r2dbc-postgresql/._class.csv  \n",
            "  inflating: collected_metrics/shardingsphere/field.csv  \n",
            "  inflating: __MACOSX/collected_metrics/shardingsphere/._field.csv  \n",
            "  inflating: collected_metrics/shardingsphere/method.csv  \n",
            "  inflating: __MACOSX/collected_metrics/shardingsphere/._method.csv  \n",
            "  inflating: collected_metrics/shardingsphere/variable.csv  \n",
            "  inflating: __MACOSX/collected_metrics/shardingsphere/._variable.csv  \n",
            "  inflating: collected_metrics/shardingsphere/class.csv  \n",
            "  inflating: __MACOSX/collected_metrics/shardingsphere/._class.csv  \n",
            "  inflating: collected_metrics/SimpleFlatMapper/field.csv  \n",
            "  inflating: __MACOSX/collected_metrics/SimpleFlatMapper/._field.csv  \n",
            "  inflating: collected_metrics/SimpleFlatMapper/method.csv  \n",
            "  inflating: __MACOSX/collected_metrics/SimpleFlatMapper/._method.csv  \n",
            "  inflating: collected_metrics/SimpleFlatMapper/variable.csv  \n",
            "  inflating: __MACOSX/collected_metrics/SimpleFlatMapper/._variable.csv  \n",
            "  inflating: collected_metrics/SimpleFlatMapper/class.csv  \n",
            "  inflating: __MACOSX/collected_metrics/SimpleFlatMapper/._class.csv  \n",
            "  inflating: collected_metrics/zookeeper/field.csv  \n",
            "  inflating: __MACOSX/collected_metrics/zookeeper/._field.csv  \n",
            "  inflating: collected_metrics/zookeeper/method.csv  \n",
            "  inflating: __MACOSX/collected_metrics/zookeeper/._method.csv  \n",
            "  inflating: collected_metrics/zookeeper/variable.csv  \n",
            "  inflating: __MACOSX/collected_metrics/zookeeper/._variable.csv  \n",
            "  inflating: collected_metrics/zookeeper/class.csv  \n",
            "  inflating: __MACOSX/collected_metrics/zookeeper/._class.csv  \n",
            "  inflating: collected_metrics/solr/field.csv  \n",
            "  inflating: __MACOSX/collected_metrics/solr/._field.csv  \n",
            "  inflating: collected_metrics/solr/method.csv  \n",
            "  inflating: __MACOSX/collected_metrics/solr/._method.csv  \n",
            "  inflating: collected_metrics/solr/variable.csv  \n",
            "  inflating: __MACOSX/collected_metrics/solr/._variable.csv  \n",
            "  inflating: collected_metrics/solr/class.csv  \n",
            "  inflating: __MACOSX/collected_metrics/solr/._class.csv  \n",
            "  inflating: collected_metrics/typedb/field.csv  \n",
            "  inflating: __MACOSX/collected_metrics/typedb/._field.csv  \n",
            "  inflating: collected_metrics/typedb/method.csv  \n",
            "  inflating: __MACOSX/collected_metrics/typedb/._method.csv  \n",
            "  inflating: collected_metrics/typedb/variable.csv  \n",
            "  inflating: __MACOSX/collected_metrics/typedb/._variable.csv  \n",
            "  inflating: collected_metrics/typedb/class.csv  \n",
            "  inflating: __MACOSX/collected_metrics/typedb/._class.csv  \n",
            "  inflating: collected_metrics/ObjectiveSql/field.csv  \n",
            "  inflating: __MACOSX/collected_metrics/ObjectiveSql/._field.csv  \n",
            "  inflating: collected_metrics/ObjectiveSql/method.csv  \n",
            "  inflating: __MACOSX/collected_metrics/ObjectiveSql/._method.csv  \n",
            "  inflating: collected_metrics/ObjectiveSql/variable.csv  \n",
            "  inflating: __MACOSX/collected_metrics/ObjectiveSql/._variable.csv  \n",
            "  inflating: collected_metrics/ObjectiveSql/class.csv  \n",
            "  inflating: __MACOSX/collected_metrics/ObjectiveSql/._class.csv  \n",
            "  inflating: collected_metrics/sql-father-backend-public/field.csv  \n",
            "  inflating: __MACOSX/collected_metrics/sql-father-backend-public/._field.csv  \n",
            "  inflating: collected_metrics/sql-father-backend-public/method.csv  \n",
            "  inflating: __MACOSX/collected_metrics/sql-father-backend-public/._method.csv  \n",
            "  inflating: collected_metrics/sql-father-backend-public/variable.csv  \n",
            "  inflating: __MACOSX/collected_metrics/sql-father-backend-public/._variable.csv  \n",
            "  inflating: collected_metrics/sql-father-backend-public/class.csv  \n",
            "  inflating: __MACOSX/collected_metrics/sql-father-backend-public/._class.csv  \n",
            "  inflating: collected_metrics/android-mvvm-architecture/field.csv  \n",
            "  inflating: __MACOSX/collected_metrics/android-mvvm-architecture/._field.csv  \n",
            "  inflating: collected_metrics/android-mvvm-architecture/method.csv  \n",
            "  inflating: __MACOSX/collected_metrics/android-mvvm-architecture/._method.csv  \n",
            "  inflating: collected_metrics/android-mvvm-architecture/variable.csv  \n",
            "  inflating: __MACOSX/collected_metrics/android-mvvm-architecture/._variable.csv  \n",
            "  inflating: collected_metrics/android-mvvm-architecture/class.csv  \n",
            "  inflating: __MACOSX/collected_metrics/android-mvvm-architecture/._class.csv  \n",
            "  inflating: collected_metrics/mongo-java-driver/field.csv  \n",
            "  inflating: __MACOSX/collected_metrics/mongo-java-driver/._field.csv  \n",
            "  inflating: collected_metrics/mongo-java-driver/method.csv  \n",
            "  inflating: __MACOSX/collected_metrics/mongo-java-driver/._method.csv  \n",
            "  inflating: collected_metrics/mongo-java-driver/variable.csv  \n",
            "  inflating: __MACOSX/collected_metrics/mongo-java-driver/._variable.csv  \n",
            "  inflating: collected_metrics/mongo-java-driver/class.csv  \n",
            "  inflating: __MACOSX/collected_metrics/mongo-java-driver/._class.csv  \n",
            "  inflating: collected_metrics/exist/field.csv  \n",
            "  inflating: __MACOSX/collected_metrics/exist/._field.csv  \n",
            "  inflating: collected_metrics/exist/method.csv  \n",
            "  inflating: __MACOSX/collected_metrics/exist/._method.csv  \n",
            "  inflating: collected_metrics/exist/variable.csv  \n",
            "  inflating: __MACOSX/collected_metrics/exist/._variable.csv  \n",
            "  inflating: collected_metrics/exist/class.csv  \n",
            "  inflating: __MACOSX/collected_metrics/exist/._class.csv  \n",
            "  inflating: collected_metrics/kundera/field.csv  \n",
            "  inflating: __MACOSX/collected_metrics/kundera/._field.csv  \n",
            "  inflating: collected_metrics/kundera/method.csv  \n",
            "  inflating: __MACOSX/collected_metrics/kundera/._method.csv  \n",
            "  inflating: collected_metrics/kundera/variable.csv  \n",
            "  inflating: __MACOSX/collected_metrics/kundera/._variable.csv  \n",
            "  inflating: collected_metrics/kundera/class.csv  \n",
            "  inflating: __MACOSX/collected_metrics/kundera/._class.csv  \n",
            "  inflating: collected_metrics/objectbox-java/field.csv  \n",
            "  inflating: __MACOSX/collected_metrics/objectbox-java/._field.csv  \n",
            "  inflating: collected_metrics/objectbox-java/method.csv  \n",
            "  inflating: __MACOSX/collected_metrics/objectbox-java/._method.csv  \n",
            "  inflating: collected_metrics/objectbox-java/variable.csv  \n",
            "  inflating: __MACOSX/collected_metrics/objectbox-java/._variable.csv  \n",
            "  inflating: collected_metrics/objectbox-java/class.csv  \n",
            "  inflating: __MACOSX/collected_metrics/objectbox-java/._class.csv  \n",
            "  inflating: collected_metrics/databasir/field.csv  \n",
            "  inflating: __MACOSX/collected_metrics/databasir/._field.csv  \n",
            "  inflating: collected_metrics/databasir/method.csv  \n",
            "  inflating: __MACOSX/collected_metrics/databasir/._method.csv  \n",
            "  inflating: collected_metrics/databasir/variable.csv  \n",
            "  inflating: __MACOSX/collected_metrics/databasir/._variable.csv  \n",
            "  inflating: collected_metrics/databasir/class.csv  \n",
            "  inflating: __MACOSX/collected_metrics/databasir/._class.csv  \n",
            "  inflating: collected_metrics/hibernate-reactive/field.csv  \n",
            "  inflating: __MACOSX/collected_metrics/hibernate-reactive/._field.csv  \n",
            "  inflating: collected_metrics/hibernate-reactive/method.csv  \n",
            "  inflating: __MACOSX/collected_metrics/hibernate-reactive/._method.csv  \n",
            "  inflating: collected_metrics/hibernate-reactive/variable.csv  \n",
            "  inflating: __MACOSX/collected_metrics/hibernate-reactive/._variable.csv  \n",
            "  inflating: collected_metrics/hibernate-reactive/class.csv  \n",
            "  inflating: __MACOSX/collected_metrics/hibernate-reactive/._class.csv  \n",
            "  inflating: collected_metrics/crate/field.csv  \n",
            "  inflating: __MACOSX/collected_metrics/crate/._field.csv  \n",
            "  inflating: collected_metrics/crate/method.csv  \n",
            "  inflating: __MACOSX/collected_metrics/crate/._method.csv  \n",
            "  inflating: collected_metrics/crate/variable.csv  \n",
            "  inflating: __MACOSX/collected_metrics/crate/._variable.csv  \n",
            "  inflating: collected_metrics/crate/class.csv  \n",
            "  inflating: __MACOSX/collected_metrics/crate/._class.csv  \n",
            "  inflating: collected_metrics/h2database/field.csv  \n",
            "  inflating: __MACOSX/collected_metrics/h2database/._field.csv  \n",
            "  inflating: collected_metrics/h2database/method.csv  \n",
            "  inflating: __MACOSX/collected_metrics/h2database/._method.csv  \n",
            "  inflating: collected_metrics/h2database/variable.csv  \n",
            "  inflating: __MACOSX/collected_metrics/h2database/._variable.csv  \n",
            "  inflating: collected_metrics/h2database/class.csv  \n",
            "  inflating: __MACOSX/collected_metrics/h2database/._class.csv  \n",
            "  inflating: collected_metrics/cassandra/field.csv  \n",
            "  inflating: __MACOSX/collected_metrics/cassandra/._field.csv  \n",
            "  inflating: collected_metrics/cassandra/method.csv  \n",
            "  inflating: __MACOSX/collected_metrics/cassandra/._method.csv  \n",
            "  inflating: collected_metrics/cassandra/variable.csv  \n",
            "  inflating: __MACOSX/collected_metrics/cassandra/._variable.csv  \n",
            "  inflating: collected_metrics/cassandra/class.csv  \n",
            "  inflating: __MACOSX/collected_metrics/cassandra/._class.csv  \n",
            "  inflating: collected_metrics/kylo/field.csv  \n",
            "  inflating: __MACOSX/collected_metrics/kylo/._field.csv  \n",
            "  inflating: collected_metrics/kylo/method.csv  \n",
            "  inflating: __MACOSX/collected_metrics/kylo/._method.csv  \n",
            "  inflating: collected_metrics/kylo/variable.csv  \n",
            "  inflating: __MACOSX/collected_metrics/kylo/._variable.csv  \n",
            "  inflating: collected_metrics/kylo/class.csv  \n",
            "  inflating: __MACOSX/collected_metrics/kylo/._class.csv  \n",
            "  inflating: collected_metrics/speedment/field.csv  \n",
            "  inflating: __MACOSX/collected_metrics/speedment/._field.csv  \n",
            "  inflating: collected_metrics/speedment/method.csv  \n",
            "  inflating: __MACOSX/collected_metrics/speedment/._method.csv  \n",
            "  inflating: collected_metrics/speedment/variable.csv  \n",
            "  inflating: __MACOSX/collected_metrics/speedment/._variable.csv  \n",
            "  inflating: collected_metrics/speedment/class.csv  \n",
            "  inflating: __MACOSX/collected_metrics/speedment/._class.csv  \n",
            "  inflating: collected_metrics/hibernate-orm/field.csv  \n",
            "  inflating: __MACOSX/collected_metrics/hibernate-orm/._field.csv  \n",
            "  inflating: collected_metrics/hibernate-orm/method.csv  \n",
            "  inflating: __MACOSX/collected_metrics/hibernate-orm/._method.csv  \n",
            "  inflating: collected_metrics/hibernate-orm/variable.csv  \n",
            "  inflating: __MACOSX/collected_metrics/hibernate-orm/._variable.csv  \n",
            "  inflating: collected_metrics/hibernate-orm/class.csv  \n",
            "  inflating: __MACOSX/collected_metrics/hibernate-orm/._class.csv  \n",
            "  inflating: collected_metrics/database-all/field.csv  \n",
            "  inflating: __MACOSX/collected_metrics/database-all/._field.csv  \n",
            "  inflating: collected_metrics/database-all/method.csv  \n",
            "  inflating: __MACOSX/collected_metrics/database-all/._method.csv  \n",
            "  inflating: collected_metrics/database-all/variable.csv  \n",
            "  inflating: __MACOSX/collected_metrics/database-all/._variable.csv  \n",
            "  inflating: collected_metrics/database-all/class.csv  \n",
            "  inflating: __MACOSX/collected_metrics/database-all/._class.csv  \n",
            "  inflating: collected_metrics/hbase/field.csv  \n",
            "  inflating: __MACOSX/collected_metrics/hbase/._field.csv  \n",
            "  inflating: collected_metrics/hbase/method.csv  \n",
            "  inflating: __MACOSX/collected_metrics/hbase/._method.csv  \n",
            "  inflating: collected_metrics/hbase/variable.csv  \n",
            "  inflating: __MACOSX/collected_metrics/hbase/._variable.csv  \n",
            "  inflating: collected_metrics/hbase/class.csv  \n",
            "  inflating: __MACOSX/collected_metrics/hbase/._class.csv  \n",
            "  inflating: collected_metrics/hive/field.csv  \n",
            "  inflating: __MACOSX/collected_metrics/hive/._field.csv  \n",
            "  inflating: collected_metrics/hive/method.csv  \n",
            "  inflating: __MACOSX/collected_metrics/hive/._method.csv  \n",
            "  inflating: collected_metrics/hive/class.csv  \n",
            "  inflating: __MACOSX/collected_metrics/hive/._class.csv  \n",
            "  inflating: collected_metrics/lmdbjava/field.csv  \n",
            "  inflating: __MACOSX/collected_metrics/lmdbjava/._field.csv  \n",
            "  inflating: collected_metrics/lmdbjava/method.csv  \n",
            "  inflating: __MACOSX/collected_metrics/lmdbjava/._method.csv  \n",
            "  inflating: collected_metrics/lmdbjava/variable.csv  \n",
            "  inflating: __MACOSX/collected_metrics/lmdbjava/._variable.csv  \n",
            "  inflating: collected_metrics/lmdbjava/class.csv  \n",
            "  inflating: __MACOSX/collected_metrics/lmdbjava/._class.csv  \n",
            "  inflating: collected_metrics/framework-learning/field.csv  \n",
            "  inflating: __MACOSX/collected_metrics/framework-learning/._field.csv  \n",
            "  inflating: collected_metrics/framework-learning/method.csv  \n",
            "  inflating: __MACOSX/collected_metrics/framework-learning/._method.csv  \n",
            "  inflating: collected_metrics/framework-learning/variable.csv  \n",
            "  inflating: __MACOSX/collected_metrics/framework-learning/._variable.csv  \n",
            "  inflating: collected_metrics/framework-learning/class.csv  \n",
            "  inflating: __MACOSX/collected_metrics/framework-learning/._class.csv  \n",
            "  inflating: collected_metrics/sqlite-jdbc/field.csv  \n",
            "  inflating: __MACOSX/collected_metrics/sqlite-jdbc/._field.csv  \n",
            "  inflating: collected_metrics/sqlite-jdbc/method.csv  \n",
            "  inflating: __MACOSX/collected_metrics/sqlite-jdbc/._method.csv  \n",
            "  inflating: collected_metrics/sqlite-jdbc/variable.csv  \n",
            "  inflating: __MACOSX/collected_metrics/sqlite-jdbc/._variable.csv  \n",
            "  inflating: collected_metrics/sqlite-jdbc/class.csv  \n",
            "  inflating: __MACOSX/collected_metrics/sqlite-jdbc/._class.csv  \n",
            "  inflating: collected_metrics/datasource-proxy/field.csv  \n",
            "  inflating: __MACOSX/collected_metrics/datasource-proxy/._field.csv  \n",
            "  inflating: collected_metrics/datasource-proxy/method.csv  \n",
            "  inflating: __MACOSX/collected_metrics/datasource-proxy/._method.csv  \n",
            "  inflating: collected_metrics/datasource-proxy/variable.csv  \n",
            "  inflating: __MACOSX/collected_metrics/datasource-proxy/._variable.csv  \n",
            "  inflating: collected_metrics/datasource-proxy/class.csv  \n",
            "  inflating: __MACOSX/collected_metrics/datasource-proxy/._class.csv  \n",
            "  inflating: collected_metrics/realm-java/field.csv  \n",
            "  inflating: __MACOSX/collected_metrics/realm-java/._field.csv  \n",
            "  inflating: collected_metrics/realm-java/method.csv  \n",
            "  inflating: __MACOSX/collected_metrics/realm-java/._method.csv  \n",
            "  inflating: collected_metrics/realm-java/variable.csv  \n",
            "  inflating: __MACOSX/collected_metrics/realm-java/._variable.csv  \n",
            "  inflating: collected_metrics/realm-java/class.csv  \n",
            "  inflating: __MACOSX/collected_metrics/realm-java/._class.csv  \n",
            "  inflating: collected_metrics/db-jdo/field.csv  \n",
            "  inflating: __MACOSX/collected_metrics/db-jdo/._field.csv  \n",
            "  inflating: collected_metrics/db-jdo/method.csv  \n",
            "  inflating: __MACOSX/collected_metrics/db-jdo/._method.csv  \n",
            "  inflating: collected_metrics/db-jdo/variable.csv  \n",
            "  inflating: __MACOSX/collected_metrics/db-jdo/._variable.csv  \n",
            "  inflating: collected_metrics/db-jdo/class.csv  \n",
            "  inflating: __MACOSX/collected_metrics/db-jdo/._class.csv  \n",
            "  inflating: collected_metrics/iotdb/field.csv  \n",
            "  inflating: __MACOSX/collected_metrics/iotdb/._field.csv  \n",
            "  inflating: collected_metrics/iotdb/method.csv  \n",
            "  inflating: __MACOSX/collected_metrics/iotdb/._method.csv  \n",
            "  inflating: collected_metrics/iotdb/variable.csv  \n",
            "  inflating: __MACOSX/collected_metrics/iotdb/._variable.csv  \n",
            "  inflating: collected_metrics/iotdb/class.csv  \n",
            "  inflating: __MACOSX/collected_metrics/iotdb/._class.csv  \n",
            "  inflating: collected_metrics/soda-for-java/field.csv  \n",
            "  inflating: __MACOSX/collected_metrics/soda-for-java/._field.csv  \n",
            "  inflating: collected_metrics/soda-for-java/method.csv  \n",
            "  inflating: __MACOSX/collected_metrics/soda-for-java/._method.csv  \n",
            "  inflating: collected_metrics/soda-for-java/variable.csv  \n",
            "  inflating: __MACOSX/collected_metrics/soda-for-java/._variable.csv  \n",
            "  inflating: collected_metrics/soda-for-java/class.csv  \n",
            "  inflating: __MACOSX/collected_metrics/soda-for-java/._class.csv  \n",
            "  inflating: collected_metrics/db-tutorial/field.csv  \n",
            "  inflating: __MACOSX/collected_metrics/db-tutorial/._field.csv  \n",
            "  inflating: collected_metrics/db-tutorial/method.csv  \n",
            "  inflating: __MACOSX/collected_metrics/db-tutorial/._method.csv  \n",
            "  inflating: collected_metrics/db-tutorial/variable.csv  \n",
            "  inflating: __MACOSX/collected_metrics/db-tutorial/._variable.csv  \n",
            "  inflating: collected_metrics/db-tutorial/class.csv  \n",
            "  inflating: __MACOSX/collected_metrics/db-tutorial/._class.csv  \n",
            "  inflating: collected_metrics/beam/field.csv  \n",
            "  inflating: __MACOSX/collected_metrics/beam/._field.csv  \n",
            "  inflating: collected_metrics/beam/method.csv  \n",
            "  inflating: __MACOSX/collected_metrics/beam/._method.csv  \n",
            "  inflating: collected_metrics/beam/variable.csv  \n",
            "  inflating: __MACOSX/collected_metrics/beam/._variable.csv  \n",
            "  inflating: collected_metrics/beam/class.csv  \n",
            "  inflating: __MACOSX/collected_metrics/beam/._class.csv  \n",
            "  inflating: collected_metrics/mybatis-flex/field.csv  \n",
            "  inflating: __MACOSX/collected_metrics/mybatis-flex/._field.csv  \n",
            "  inflating: collected_metrics/mybatis-flex/method.csv  \n",
            "  inflating: __MACOSX/collected_metrics/mybatis-flex/._method.csv  \n",
            "  inflating: collected_metrics/mybatis-flex/variable.csv  \n",
            "  inflating: __MACOSX/collected_metrics/mybatis-flex/._variable.csv  \n",
            "  inflating: collected_metrics/mybatis-flex/class.csv  \n",
            "  inflating: __MACOSX/collected_metrics/mybatis-flex/._class.csv  \n",
            "  inflating: collected_metrics/questdb/field.csv  \n",
            "  inflating: __MACOSX/collected_metrics/questdb/._field.csv  \n",
            "  inflating: collected_metrics/questdb/method.csv  \n",
            "  inflating: __MACOSX/collected_metrics/questdb/._method.csv  \n",
            "  inflating: collected_metrics/questdb/variable.csv  \n",
            "  inflating: __MACOSX/collected_metrics/questdb/._variable.csv  \n",
            "  inflating: collected_metrics/questdb/class.csv  \n",
            "  inflating: __MACOSX/collected_metrics/questdb/._class.csv  \n",
            "  inflating: collected_metrics/sqlancer/field.csv  \n",
            "  inflating: __MACOSX/collected_metrics/sqlancer/._field.csv  \n",
            "  inflating: collected_metrics/sqlancer/method.csv  \n",
            "  inflating: __MACOSX/collected_metrics/sqlancer/._method.csv  \n",
            "  inflating: collected_metrics/sqlancer/variable.csv  \n",
            "  inflating: __MACOSX/collected_metrics/sqlancer/._variable.csv  \n",
            "  inflating: collected_metrics/sqlancer/class.csv  \n",
            "  inflating: __MACOSX/collected_metrics/sqlancer/._class.csv  \n",
            "  inflating: collected_metrics/CorfuDB/field.csv  \n",
            "  inflating: __MACOSX/collected_metrics/CorfuDB/._field.csv  \n",
            "  inflating: collected_metrics/CorfuDB/method.csv  \n",
            "  inflating: __MACOSX/collected_metrics/CorfuDB/._method.csv  \n",
            "  inflating: collected_metrics/CorfuDB/variable.csv  \n",
            "  inflating: __MACOSX/collected_metrics/CorfuDB/._variable.csv  \n",
            "  inflating: collected_metrics/CorfuDB/class.csv  \n",
            "  inflating: __MACOSX/collected_metrics/CorfuDB/._class.csv  \n",
            "  inflating: collected_metrics/liquibase/field.csv  \n",
            "  inflating: __MACOSX/collected_metrics/liquibase/._field.csv  \n",
            "  inflating: collected_metrics/liquibase/method.csv  \n",
            "  inflating: __MACOSX/collected_metrics/liquibase/._method.csv  \n",
            "  inflating: collected_metrics/liquibase/variable.csv  \n",
            "  inflating: __MACOSX/collected_metrics/liquibase/._variable.csv  \n",
            "  inflating: collected_metrics/liquibase/class.csv  \n",
            "  inflating: __MACOSX/collected_metrics/liquibase/._class.csv  \n",
            "  inflating: collected_metrics/mybatis-plus/field.csv  \n",
            "  inflating: __MACOSX/collected_metrics/mybatis-plus/._field.csv  \n",
            "  inflating: collected_metrics/mybatis-plus/method.csv  \n",
            "  inflating: __MACOSX/collected_metrics/mybatis-plus/._method.csv  \n",
            "  inflating: collected_metrics/mybatis-plus/variable.csv  \n",
            "  inflating: __MACOSX/collected_metrics/mybatis-plus/._variable.csv  \n",
            "  inflating: collected_metrics/mybatis-plus/class.csv  \n",
            "  inflating: __MACOSX/collected_metrics/mybatis-plus/._class.csv  \n",
            "  inflating: collected_metrics/jodd/field.csv  \n",
            "  inflating: __MACOSX/collected_metrics/jodd/._field.csv  \n",
            "  inflating: collected_metrics/jodd/method.csv  \n",
            "  inflating: __MACOSX/collected_metrics/jodd/._method.csv  \n",
            "  inflating: collected_metrics/jodd/variable.csv  \n",
            "  inflating: __MACOSX/collected_metrics/jodd/._variable.csv  \n",
            "  inflating: collected_metrics/jodd/class.csv  \n",
            "  inflating: __MACOSX/collected_metrics/jodd/._class.csv  \n",
            "  inflating: collected_metrics/Summer/field.csv  \n",
            "  inflating: __MACOSX/collected_metrics/Summer/._field.csv  \n",
            "  inflating: collected_metrics/Summer/method.csv  \n",
            "  inflating: __MACOSX/collected_metrics/Summer/._method.csv  \n",
            "  inflating: collected_metrics/Summer/variable.csv  \n",
            "  inflating: __MACOSX/collected_metrics/Summer/._variable.csv  \n",
            "  inflating: collected_metrics/Summer/class.csv  \n",
            "  inflating: __MACOSX/collected_metrics/Summer/._class.csv  \n",
            "  inflating: collected_metrics/esProc/field.csv  \n",
            "  inflating: __MACOSX/collected_metrics/esProc/._field.csv  \n",
            "  inflating: collected_metrics/esProc/method.csv  \n",
            "  inflating: __MACOSX/collected_metrics/esProc/._method.csv  \n",
            "  inflating: collected_metrics/esProc/variable.csv  \n",
            "  inflating: __MACOSX/collected_metrics/esProc/._variable.csv  \n",
            "  inflating: collected_metrics/esProc/class.csv  \n",
            "  inflating: __MACOSX/collected_metrics/esProc/._class.csv  \n",
            "  inflating: collected_metrics/jedis/field.csv  \n",
            "  inflating: __MACOSX/collected_metrics/jedis/._field.csv  \n",
            "  inflating: collected_metrics/jedis/method.csv  \n",
            "  inflating: __MACOSX/collected_metrics/jedis/._method.csv  \n",
            "  inflating: collected_metrics/jedis/variable.csv  \n",
            "  inflating: __MACOSX/collected_metrics/jedis/._variable.csv  \n",
            "  inflating: collected_metrics/jedis/class.csv  \n",
            "  inflating: __MACOSX/collected_metrics/jedis/._class.csv  \n",
            "  inflating: collected_metrics/reladomo/field.csv  \n",
            "  inflating: __MACOSX/collected_metrics/reladomo/._field.csv  \n",
            "  inflating: collected_metrics/reladomo/method.csv  \n",
            "  inflating: __MACOSX/collected_metrics/reladomo/._method.csv  \n",
            "  inflating: collected_metrics/reladomo/variable.csv  \n",
            "  inflating: __MACOSX/collected_metrics/reladomo/._variable.csv  \n",
            "  inflating: collected_metrics/reladomo/class.csv  \n",
            "  inflating: __MACOSX/collected_metrics/reladomo/._class.csv  \n",
            "  inflating: collected_metrics/nosql/field.csv  \n",
            "  inflating: __MACOSX/collected_metrics/nosql/._field.csv  \n",
            "  inflating: collected_metrics/nosql/method.csv  \n",
            "  inflating: __MACOSX/collected_metrics/nosql/._method.csv  \n",
            "  inflating: collected_metrics/nosql/variable.csv  \n",
            "  inflating: __MACOSX/collected_metrics/nosql/._variable.csv  \n",
            "  inflating: collected_metrics/nosql/class.csv  \n",
            "  inflating: __MACOSX/collected_metrics/nosql/._class.csv  \n",
            "  inflating: collected_metrics/xodus/field.csv  \n",
            "  inflating: __MACOSX/collected_metrics/xodus/._field.csv  \n",
            "  inflating: collected_metrics/xodus/method.csv  \n",
            "  inflating: __MACOSX/collected_metrics/xodus/._method.csv  \n",
            "  inflating: collected_metrics/xodus/variable.csv  \n",
            "  inflating: __MACOSX/collected_metrics/xodus/._variable.csv  \n",
            "  inflating: collected_metrics/xodus/class.csv  \n",
            "  inflating: __MACOSX/collected_metrics/xodus/._class.csv  \n",
            "  inflating: collected_metrics/h-store/field.csv  \n",
            "  inflating: __MACOSX/collected_metrics/h-store/._field.csv  \n",
            "  inflating: collected_metrics/h-store/method.csv  \n",
            "  inflating: __MACOSX/collected_metrics/h-store/._method.csv  \n",
            "  inflating: collected_metrics/h-store/variable.csv  \n",
            "  inflating: __MACOSX/collected_metrics/h-store/._variable.csv  \n",
            "  inflating: collected_metrics/h-store/class.csv  \n",
            "  inflating: __MACOSX/collected_metrics/h-store/._class.csv  \n",
            "  inflating: collected_metrics/Lealone/field.csv  \n",
            "  inflating: __MACOSX/collected_metrics/Lealone/._field.csv  \n",
            "  inflating: collected_metrics/Lealone/method.csv  \n",
            "  inflating: __MACOSX/collected_metrics/Lealone/._method.csv  \n",
            "  inflating: collected_metrics/Lealone/variable.csv  \n",
            "  inflating: __MACOSX/collected_metrics/Lealone/._variable.csv  \n",
            "  inflating: collected_metrics/Lealone/class.csv  \n",
            "  inflating: __MACOSX/collected_metrics/Lealone/._class.csv  \n",
            "  inflating: collected_metrics/wyxDBMS/field.csv  \n",
            "  inflating: __MACOSX/collected_metrics/wyxDBMS/._field.csv  \n",
            "  inflating: collected_metrics/wyxDBMS/method.csv  \n",
            "  inflating: __MACOSX/collected_metrics/wyxDBMS/._method.csv  \n",
            "  inflating: collected_metrics/wyxDBMS/variable.csv  \n",
            "  inflating: __MACOSX/collected_metrics/wyxDBMS/._variable.csv  \n",
            "  inflating: collected_metrics/wyxDBMS/class.csv  \n",
            "  inflating: __MACOSX/collected_metrics/wyxDBMS/._class.csv  \n",
            "  inflating: collected_metrics/starrocks/field.csv  \n",
            "  inflating: __MACOSX/collected_metrics/starrocks/._field.csv  \n",
            "  inflating: collected_metrics/starrocks/method.csv  \n",
            "  inflating: __MACOSX/collected_metrics/starrocks/._method.csv  \n",
            "  inflating: collected_metrics/starrocks/variable.csv  \n",
            "  inflating: __MACOSX/collected_metrics/starrocks/._variable.csv  \n",
            "  inflating: collected_metrics/starrocks/class.csv  \n",
            "  inflating: __MACOSX/collected_metrics/starrocks/._class.csv  \n",
            "  inflating: collected_metrics/spring-security-react-ant-design-polls-app/field.csv  \n",
            "  inflating: __MACOSX/collected_metrics/spring-security-react-ant-design-polls-app/._field.csv  \n",
            "  inflating: collected_metrics/spring-security-react-ant-design-polls-app/method.csv  \n",
            "  inflating: __MACOSX/collected_metrics/spring-security-react-ant-design-polls-app/._method.csv  \n",
            "  inflating: collected_metrics/spring-security-react-ant-design-polls-app/variable.csv  \n",
            "  inflating: __MACOSX/collected_metrics/spring-security-react-ant-design-polls-app/._variable.csv  \n",
            "  inflating: collected_metrics/spring-security-react-ant-design-polls-app/class.csv  \n",
            "  inflating: __MACOSX/collected_metrics/spring-security-react-ant-design-polls-app/._class.csv  \n",
            "  inflating: collected_metrics/scalardb/field.csv  \n",
            "  inflating: __MACOSX/collected_metrics/scalardb/._field.csv  \n",
            "  inflating: collected_metrics/scalardb/method.csv  \n",
            "  inflating: __MACOSX/collected_metrics/scalardb/._method.csv  \n",
            "  inflating: collected_metrics/scalardb/variable.csv  \n",
            "  inflating: __MACOSX/collected_metrics/scalardb/._variable.csv  \n",
            "  inflating: collected_metrics/scalardb/class.csv  \n",
            "  inflating: __MACOSX/collected_metrics/scalardb/._class.csv  \n",
            "  inflating: collected_metrics/orientdb/field.csv  \n",
            "  inflating: __MACOSX/collected_metrics/orientdb/._field.csv  \n",
            "  inflating: collected_metrics/orientdb/method.csv  \n",
            "  inflating: __MACOSX/collected_metrics/orientdb/._method.csv  \n",
            "  inflating: collected_metrics/orientdb/variable.csv  \n",
            "  inflating: __MACOSX/collected_metrics/orientdb/._variable.csv  \n",
            "  inflating: collected_metrics/orientdb/class.csv  \n",
            "  inflating: __MACOSX/collected_metrics/orientdb/._class.csv  \n",
            "  inflating: collected_metrics/debezium/field.csv  \n",
            "  inflating: __MACOSX/collected_metrics/debezium/._field.csv  \n",
            "  inflating: collected_metrics/debezium/method.csv  \n",
            "  inflating: __MACOSX/collected_metrics/debezium/._method.csv  \n",
            "  inflating: collected_metrics/debezium/variable.csv  \n",
            "  inflating: __MACOSX/collected_metrics/debezium/._variable.csv  \n",
            "  inflating: collected_metrics/debezium/class.csv  \n",
            "  inflating: __MACOSX/collected_metrics/debezium/._class.csv  \n",
            "  inflating: collected_metrics/ebean/field.csv  \n",
            "  inflating: __MACOSX/collected_metrics/ebean/._field.csv  \n",
            "  inflating: collected_metrics/ebean/method.csv  \n",
            "  inflating: __MACOSX/collected_metrics/ebean/._method.csv  \n",
            "  inflating: collected_metrics/ebean/variable.csv  \n",
            "  inflating: __MACOSX/collected_metrics/ebean/._variable.csv  \n",
            "  inflating: collected_metrics/ebean/class.csv  \n",
            "  inflating: __MACOSX/collected_metrics/ebean/._class.csv  \n",
            "  inflating: collected_metrics/flyway/field.csv  \n",
            "  inflating: __MACOSX/collected_metrics/flyway/._field.csv  \n",
            "  inflating: collected_metrics/flyway/method.csv  \n",
            "  inflating: __MACOSX/collected_metrics/flyway/._method.csv  \n",
            "  inflating: collected_metrics/flyway/variable.csv  \n",
            "  inflating: __MACOSX/collected_metrics/flyway/._variable.csv  \n",
            "  inflating: collected_metrics/flyway/class.csv  \n",
            "  inflating: __MACOSX/collected_metrics/flyway/._class.csv  \n"
          ]
        }
      ]
    },
    {
      "cell_type": "markdown",
      "id": "6f8230c3",
      "metadata": {
        "id": "6f8230c3"
      },
      "source": [
        "# Declare a types"
      ]
    },
    {
      "cell_type": "code",
      "execution_count": null,
      "id": "da019dd1",
      "metadata": {
        "id": "da019dd1"
      },
      "outputs": [],
      "source": [
        "@dataclass\n",
        "class Gene:\n",
        "    metric: str"
      ]
    },
    {
      "cell_type": "code",
      "execution_count": null,
      "id": "0abcdf69",
      "metadata": {
        "id": "0abcdf69"
      },
      "outputs": [],
      "source": [
        "@dataclass\n",
        "class Chromosome:\n",
        "    genes: list[Gene]"
      ]
    },
    {
      "cell_type": "code",
      "execution_count": null,
      "id": "c88aed6d",
      "metadata": {
        "id": "c88aed6d"
      },
      "outputs": [],
      "source": [
        "@dataclass\n",
        "class Population:\n",
        "    chromosomes: list[Chromosome]"
      ]
    },
    {
      "cell_type": "markdown",
      "id": "12f9cb2c1813bb9c",
      "metadata": {
        "id": "12f9cb2c1813bb9c"
      },
      "source": [
        "# Load data"
      ]
    },
    {
      "cell_type": "code",
      "execution_count": null,
      "id": "a98aa011c31b28d4",
      "metadata": {
        "ExecuteTime": {
          "end_time": "2024-05-25T15:41:37.645980Z",
          "start_time": "2024-05-25T15:41:37.634777Z"
        },
        "colab": {
          "base_uri": "https://localhost:8080/",
          "height": 204
        },
        "id": "a98aa011c31b28d4",
        "outputId": "a29d1310-72c5-4bc8-eb27-411fa88c01ec"
      },
      "outputs": [
        {
          "output_type": "execute_result",
          "data": {
            "text/plain": [
              "pandas.core.frame.DataFrame"
            ],
            "text/html": [
              "<div style=\"max-width:800px; border: 1px solid var(--colab-border-color);\"><style>\n",
              "      pre.function-repr-contents {\n",
              "        overflow-x: auto;\n",
              "        padding: 8px 12px;\n",
              "        max-height: 500px;\n",
              "      }\n",
              "\n",
              "      pre.function-repr-contents.function-repr-contents-collapsed {\n",
              "        cursor: pointer;\n",
              "        max-height: 100px;\n",
              "      }\n",
              "    </style>\n",
              "    <pre style=\"white-space: initial; background:\n",
              "         var(--colab-secondary-surface-color); padding: 8px 12px;\n",
              "         border-bottom: 1px solid var(--colab-border-color);\"><b>pandas.core.frame.DataFrame</b><br/>def __init__(data=None, index: Axes | None=None, columns: Axes | None=None, dtype: Dtype | None=None, copy: bool | None=None) -&gt; None</pre><pre class=\"function-repr-contents function-repr-contents-collapsed\" style=\"\"><a class=\"filepath\" style=\"display:none\" href=\"#\">/usr/local/lib/python3.10/dist-packages/pandas/core/frame.py</a>Two-dimensional, size-mutable, potentially heterogeneous tabular data.\n",
              "\n",
              "Data structure also contains labeled axes (rows and columns).\n",
              "Arithmetic operations align on both row and column labels. Can be\n",
              "thought of as a dict-like container for Series objects. The primary\n",
              "pandas data structure.\n",
              "\n",
              "Parameters\n",
              "----------\n",
              "data : ndarray (structured or homogeneous), Iterable, dict, or DataFrame\n",
              "    Dict can contain Series, arrays, constants, dataclass or list-like objects. If\n",
              "    data is a dict, column order follows insertion-order. If a dict contains Series\n",
              "    which have an index defined, it is aligned by its index. This alignment also\n",
              "    occurs if data is a Series or a DataFrame itself. Alignment is done on\n",
              "    Series/DataFrame inputs.\n",
              "\n",
              "    If data is a list of dicts, column order follows insertion-order.\n",
              "\n",
              "index : Index or array-like\n",
              "    Index to use for resulting frame. Will default to RangeIndex if\n",
              "    no indexing information part of input data and no index provided.\n",
              "columns : Index or array-like\n",
              "    Column labels to use for resulting frame when data does not have them,\n",
              "    defaulting to RangeIndex(0, 1, 2, ..., n). If data contains column labels,\n",
              "    will perform column selection instead.\n",
              "dtype : dtype, default None\n",
              "    Data type to force. Only a single dtype is allowed. If None, infer.\n",
              "copy : bool or None, default None\n",
              "    Copy data from inputs.\n",
              "    For dict data, the default of None behaves like ``copy=True``.  For DataFrame\n",
              "    or 2d ndarray input, the default of None behaves like ``copy=False``.\n",
              "    If data is a dict containing one or more Series (possibly of different dtypes),\n",
              "    ``copy=False`` will ensure that these inputs are not copied.\n",
              "\n",
              "    .. versionchanged:: 1.3.0\n",
              "\n",
              "See Also\n",
              "--------\n",
              "DataFrame.from_records : Constructor from tuples, also record arrays.\n",
              "DataFrame.from_dict : From dicts of Series, arrays, or dicts.\n",
              "read_csv : Read a comma-separated values (csv) file into DataFrame.\n",
              "read_table : Read general delimited file into DataFrame.\n",
              "read_clipboard : Read text from clipboard into DataFrame.\n",
              "\n",
              "Notes\n",
              "-----\n",
              "Please reference the :ref:`User Guide &lt;basics.dataframe&gt;` for more information.\n",
              "\n",
              "Examples\n",
              "--------\n",
              "Constructing DataFrame from a dictionary.\n",
              "\n",
              "&gt;&gt;&gt; d = {&#x27;col1&#x27;: [1, 2], &#x27;col2&#x27;: [3, 4]}\n",
              "&gt;&gt;&gt; df = pd.DataFrame(data=d)\n",
              "&gt;&gt;&gt; df\n",
              "   col1  col2\n",
              "0     1     3\n",
              "1     2     4\n",
              "\n",
              "Notice that the inferred dtype is int64.\n",
              "\n",
              "&gt;&gt;&gt; df.dtypes\n",
              "col1    int64\n",
              "col2    int64\n",
              "dtype: object\n",
              "\n",
              "To enforce a single dtype:\n",
              "\n",
              "&gt;&gt;&gt; df = pd.DataFrame(data=d, dtype=np.int8)\n",
              "&gt;&gt;&gt; df.dtypes\n",
              "col1    int8\n",
              "col2    int8\n",
              "dtype: object\n",
              "\n",
              "Constructing DataFrame from a dictionary including Series:\n",
              "\n",
              "&gt;&gt;&gt; d = {&#x27;col1&#x27;: [0, 1, 2, 3], &#x27;col2&#x27;: pd.Series([2, 3], index=[2, 3])}\n",
              "&gt;&gt;&gt; pd.DataFrame(data=d, index=[0, 1, 2, 3])\n",
              "   col1  col2\n",
              "0     0   NaN\n",
              "1     1   NaN\n",
              "2     2   2.0\n",
              "3     3   3.0\n",
              "\n",
              "Constructing DataFrame from numpy ndarray:\n",
              "\n",
              "&gt;&gt;&gt; df2 = pd.DataFrame(np.array([[1, 2, 3], [4, 5, 6], [7, 8, 9]]),\n",
              "...                    columns=[&#x27;a&#x27;, &#x27;b&#x27;, &#x27;c&#x27;])\n",
              "&gt;&gt;&gt; df2\n",
              "   a  b  c\n",
              "0  1  2  3\n",
              "1  4  5  6\n",
              "2  7  8  9\n",
              "\n",
              "Constructing DataFrame from a numpy ndarray that has labeled columns:\n",
              "\n",
              "&gt;&gt;&gt; data = np.array([(1, 2, 3), (4, 5, 6), (7, 8, 9)],\n",
              "...                 dtype=[(&quot;a&quot;, &quot;i4&quot;), (&quot;b&quot;, &quot;i4&quot;), (&quot;c&quot;, &quot;i4&quot;)])\n",
              "&gt;&gt;&gt; df3 = pd.DataFrame(data, columns=[&#x27;c&#x27;, &#x27;a&#x27;])\n",
              "...\n",
              "&gt;&gt;&gt; df3\n",
              "   c  a\n",
              "0  3  1\n",
              "1  6  4\n",
              "2  9  7\n",
              "\n",
              "Constructing DataFrame from dataclass:\n",
              "\n",
              "&gt;&gt;&gt; from dataclasses import make_dataclass\n",
              "&gt;&gt;&gt; Point = make_dataclass(&quot;Point&quot;, [(&quot;x&quot;, int), (&quot;y&quot;, int)])\n",
              "&gt;&gt;&gt; pd.DataFrame([Point(0, 0), Point(0, 3), Point(2, 3)])\n",
              "   x  y\n",
              "0  0  0\n",
              "1  0  3\n",
              "2  2  3\n",
              "\n",
              "Constructing DataFrame from Series/DataFrame:\n",
              "\n",
              "&gt;&gt;&gt; ser = pd.Series([1, 2, 3], index=[&quot;a&quot;, &quot;b&quot;, &quot;c&quot;])\n",
              "&gt;&gt;&gt; df = pd.DataFrame(data=ser, index=[&quot;a&quot;, &quot;c&quot;])\n",
              "&gt;&gt;&gt; df\n",
              "   0\n",
              "a  1\n",
              "c  3\n",
              "\n",
              "&gt;&gt;&gt; df1 = pd.DataFrame([1, 2, 3], index=[&quot;a&quot;, &quot;b&quot;, &quot;c&quot;], columns=[&quot;x&quot;])\n",
              "&gt;&gt;&gt; df2 = pd.DataFrame(data=df1, index=[&quot;a&quot;, &quot;c&quot;])\n",
              "&gt;&gt;&gt; df2\n",
              "   x\n",
              "a  1\n",
              "c  3</pre>\n",
              "      <script>\n",
              "      if (google.colab.kernel.accessAllowed && google.colab.files && google.colab.files.view) {\n",
              "        for (const element of document.querySelectorAll('.filepath')) {\n",
              "          element.style.display = 'block'\n",
              "          element.onclick = (event) => {\n",
              "            event.preventDefault();\n",
              "            event.stopPropagation();\n",
              "            google.colab.files.view(element.textContent, 490);\n",
              "          };\n",
              "        }\n",
              "      }\n",
              "      for (const element of document.querySelectorAll('.function-repr-contents')) {\n",
              "        element.onclick = (event) => {\n",
              "          event.preventDefault();\n",
              "          event.stopPropagation();\n",
              "          element.classList.toggle('function-repr-contents-collapsed');\n",
              "        };\n",
              "      }\n",
              "      </script>\n",
              "      </div>"
            ]
          },
          "metadata": {},
          "execution_count": 189
        }
      ],
      "source": [
        "type(pd.read_csv('collected_metrics/Jailer/class.csv'))"
      ]
    },
    {
      "cell_type": "code",
      "execution_count": null,
      "id": "dc47d12eec049533",
      "metadata": {
        "ExecuteTime": {
          "end_time": "2024-05-25T15:45:38.283321Z",
          "start_time": "2024-05-25T15:45:38.280604Z"
        },
        "id": "dc47d12eec049533"
      },
      "outputs": [],
      "source": [
        "def load_dataframe(filename, columns):\n",
        "    try:\n",
        "        return pd.read_csv(filename)._get_numeric_data().head(100).astype(float)\n",
        "    except pd.errors.EmptyDataError:\n",
        "        df = pd.DataFrame(columns=columns, dtype='float64')\n",
        "        df.loc[0] = [np.nan] * len(columns)\n",
        "        return df\n",
        "    except FileNotFoundError:\n",
        "        return None"
      ]
    },
    {
      "cell_type": "markdown",
      "id": "c664ec603f6bbd3d",
      "metadata": {
        "id": "c664ec603f6bbd3d"
      },
      "source": [
        "## Get all paths"
      ]
    },
    {
      "cell_type": "code",
      "execution_count": null,
      "id": "e2af82ee2c356f62",
      "metadata": {
        "ExecuteTime": {
          "end_time": "2024-05-25T15:42:15.157949Z",
          "start_time": "2024-05-25T15:42:15.154026Z"
        },
        "id": "e2af82ee2c356f62"
      },
      "outputs": [],
      "source": [
        "class_metrics_csvs = glob.glob(\"collected_metrics/*/class.csv\")\n",
        "method_metrics_csvs = glob.glob(\"collected_metrics/*/method.csv\")"
      ]
    },
    {
      "cell_type": "markdown",
      "id": "d03a0cefba82f3d5",
      "metadata": {
        "id": "d03a0cefba82f3d5"
      },
      "source": [
        "## Get class and methods metrics names"
      ]
    },
    {
      "cell_type": "code",
      "execution_count": null,
      "id": "112479ce6561ac36",
      "metadata": {
        "ExecuteTime": {
          "end_time": "2024-05-25T15:49:50.222870Z",
          "start_time": "2024-05-25T15:49:50.191976Z"
        },
        "id": "112479ce6561ac36"
      },
      "outputs": [],
      "source": [
        "class_columns: list[str] = list(pd.read_csv(class_metrics_csvs[0]).columns)[3:]\n",
        "method_columns: list[str] = list(pd.read_csv(method_metrics_csvs[0]).columns)[3:]"
      ]
    },
    {
      "cell_type": "markdown",
      "id": "cbc540da5d3ec302",
      "metadata": {
        "id": "cbc540da5d3ec302"
      },
      "source": [
        "## Instantiate a repository class"
      ]
    },
    {
      "cell_type": "code",
      "execution_count": null,
      "id": "79d3a9dbed393a01",
      "metadata": {
        "ExecuteTime": {
          "end_time": "2024-05-25T15:44:30.406139Z",
          "start_time": "2024-05-25T15:44:30.404132Z"
        },
        "id": "79d3a9dbed393a01"
      },
      "outputs": [],
      "source": [
        "def get_full_path_class(repository_name: str) -> str:\n",
        "    return f\"collected_metrics/{repository_name}/class.csv\"\n",
        "\n",
        "\n",
        "def get_full_path_method(repository_name: str) -> str:\n",
        "    return f\"collected_metrics/{repository_name}/method.csv\""
      ]
    },
    {
      "cell_type": "code",
      "execution_count": null,
      "id": "5366ab3586bba41c",
      "metadata": {
        "ExecuteTime": {
          "end_time": "2024-05-25T16:57:32.709657Z",
          "start_time": "2024-05-25T16:57:32.705768Z"
        },
        "id": "5366ab3586bba41c"
      },
      "outputs": [],
      "source": [
        "class Repo:\n",
        "    def __init__(self, name: str):\n",
        "        self.name: str = name\n",
        "        self.is_load: bool = False\n",
        "\n",
        "    def load(self):\n",
        "        if self.is_load:\n",
        "            return self\n",
        "\n",
        "        class_dataframe_path: str = get_full_path_class(self.name)\n",
        "        method_dataframe_path: str = get_full_path_method(self.name)\n",
        "\n",
        "        # TODO: add to __init__\n",
        "        self._class_df = load_dataframe(class_dataframe_path, class_columns)\n",
        "        self._method_df = load_dataframe(method_dataframe_path, class_columns)\n",
        "\n",
        "        self.is_load = True\n",
        "\n",
        "    def get_class_df(self):\n",
        "        if not self.is_load:\n",
        "            self.load()\n",
        "        return self._class_df\n",
        "\n",
        "    def get_method_df(self):\n",
        "        if not self.is_load:\n",
        "            self.load()\n",
        "        return self._method_df"
      ]
    },
    {
      "cell_type": "markdown",
      "id": "356cb21eeacb747c",
      "metadata": {
        "id": "356cb21eeacb747c"
      },
      "source": [
        "## Impute all data"
      ]
    },
    {
      "cell_type": "code",
      "execution_count": null,
      "id": "42e7c88fdae01891",
      "metadata": {
        "ExecuteTime": {
          "end_time": "2024-05-25T16:57:35.373589Z",
          "start_time": "2024-05-25T16:57:35.370758Z"
        },
        "id": "42e7c88fdae01891"
      },
      "outputs": [],
      "source": [
        "class ImputedRepo(Repo):\n",
        "    def __init__(self, name: str):\n",
        "        super().__init__(name)\n",
        "        self.strategy: str = \"mean\"\n",
        "\n",
        "    def _impute_df(self, df: pd.DataFrame, columns: list[str]) -> pd.DataFrame:\n",
        "        miss_mean_imputer = SimpleImputer(missing_values=np.nan, strategy=self.strategy)\n",
        "        miss_mean_imputer = miss_mean_imputer.fit(df)\n",
        "        imputed_df = miss_mean_imputer.transform(df)\n",
        "\n",
        "        return pd.DataFrame(imputed_df, columns=columns)\n",
        "\n",
        "    def get_class_df(self):\n",
        "        return self._impute_df(super().get_class_df(), class_columns)\n",
        "\n",
        "    def get_method_df(self):\n",
        "        return self._impute_df(super().get_method_df(), method_columns)"
      ]
    },
    {
      "cell_type": "markdown",
      "id": "f9938046",
      "metadata": {
        "id": "f9938046"
      },
      "source": [
        "## Cache all repos"
      ]
    },
    {
      "cell_type": "code",
      "execution_count": null,
      "id": "30248da6",
      "metadata": {
        "id": "30248da6"
      },
      "outputs": [],
      "source": [
        "class CachedRepo(ImputedRepo):\n",
        "    def __init__(self, name: str):\n",
        "        super().__init__(name)\n",
        "\n",
        "        self._class_df = None\n",
        "        self._method_df = None\n",
        "\n",
        "    def get_class_df(self):\n",
        "        if self._class_df is None:\n",
        "            self._class_df = super().get_class_df()\n",
        "        return self._class_df\n",
        "\n",
        "    def get_method_df(self):\n",
        "        if self._method_df is None:\n",
        "            self._method_df = super().get_method_df()\n",
        "        return self._method_df"
      ]
    },
    {
      "cell_type": "markdown",
      "id": "9d2dfa23",
      "metadata": {
        "id": "9d2dfa23"
      },
      "source": [
        "## Collecting repositories data"
      ]
    },
    {
      "cell_type": "code",
      "execution_count": null,
      "id": "bc07445e",
      "metadata": {
        "id": "bc07445e"
      },
      "outputs": [],
      "source": [
        "import os\n",
        "\n",
        "repositories_names: list[str] = list(os.walk(\"collected_metrics\"))[0][1]\n",
        "\n",
        "repositories: list[CachedRepo] = list(map(\n",
        "    lambda repository_name: CachedRepo(repository_name),\n",
        "    repositories_names\n",
        "))"
      ]
    },
    {
      "cell_type": "markdown",
      "id": "059b48af",
      "metadata": {
        "id": "059b48af"
      },
      "source": [
        "# Error functionality"
      ]
    },
    {
      "cell_type": "code",
      "execution_count": null,
      "id": "45fc7bc4",
      "metadata": {
        "id": "45fc7bc4"
      },
      "outputs": [],
      "source": [
        "class ErrorRepositoryResults:\n",
        "    def __init__(self, repo: CachedRepo, error, distance):\n",
        "        self.repo = repo\n",
        "        self.error = error\n",
        "        self.distance = distance\n",
        "\n",
        "    def class_error(self, columns):\n",
        "        class_df = self.repo.get_class_df()\n",
        "\n",
        "        try:\n",
        "            return self.error(class_df, class_df[columns], self.distance)\n",
        "        except KeyError:\n",
        "            raise ValueError()\n",
        "\n",
        "    def method_error(self, columns):\n",
        "        method_df = self.repo.get_method_df()\n",
        "\n",
        "        try:\n",
        "            return self.error(method_df, method_df[columns], self.distance)\n",
        "        except KeyError:\n",
        "            raise ValueError()"
      ]
    },
    {
      "cell_type": "markdown",
      "id": "6b27a80a",
      "metadata": {
        "id": "6b27a80a"
      },
      "source": [
        "## Error function"
      ]
    },
    {
      "cell_type": "code",
      "execution_count": null,
      "id": "3fbee995",
      "metadata": {
        "id": "3fbee995"
      },
      "outputs": [],
      "source": [
        "import tensorflow as tf\n",
        "\n",
        "\n",
        "def kruskal_stress(n_df, l_df, distance_tf):\n",
        "    n_df_tensor = tf.convert_to_tensor(n_df.values, dtype=tf.float64)\n",
        "    l_df_tensor = tf.convert_to_tensor(l_df.values, dtype=tf.float64)\n",
        "\n",
        "    n_distances = distance_tf(n_df_tensor[:, None, :], n_df_tensor[None, :, :])\n",
        "    l_distances = distance_tf(l_df_tensor[:, None, :], l_df_tensor[None, :, :])\n",
        "\n",
        "    numerator = tf.reduce_sum(tf.square(n_distances - l_distances))\n",
        "    denominator = tf.reduce_sum(tf.square(n_distances))\n",
        "\n",
        "    stress = tf.sqrt(numerator) / tf.sqrt(denominator)\n",
        "\n",
        "    return stress.numpy()"
      ]
    },
    {
      "cell_type": "code",
      "execution_count": null,
      "id": "1d096c2d",
      "metadata": {
        "id": "1d096c2d"
      },
      "outputs": [],
      "source": [
        "def eq_distance(vec1, vec2):\n",
        "    vec1 = tf.convert_to_tensor(vec1)\n",
        "    vec2 = tf.convert_to_tensor(vec2)\n",
        "\n",
        "    squared_diff = tf.reduce_sum(tf.square(vec1 - vec2), axis=2)\n",
        "\n",
        "    return tf.sqrt(squared_diff)"
      ]
    },
    {
      "cell_type": "markdown",
      "id": "1111e7d6",
      "metadata": {
        "id": "1111e7d6"
      },
      "source": [
        "# Running experiments"
      ]
    },
    {
      "cell_type": "code",
      "execution_count": null,
      "id": "89cdd63fec36bdb1",
      "metadata": {
        "ExecuteTime": {
          "end_time": "2024-05-25T15:57:17.456511Z",
          "start_time": "2024-05-25T15:57:17.453863Z"
        },
        "id": "89cdd63fec36bdb1"
      },
      "outputs": [],
      "source": [
        "from abc import ABC, abstractmethod\n",
        "from typing import Any\n",
        "\n",
        "\n",
        "class OptimizationAlgorithmInterface(ABC):\n",
        "    @abstractmethod\n",
        "    def run_experiments(self):\n",
        "        pass\n",
        "\n",
        "    def aggregate_results(self, results: np.ndarray) -> Any:\n",
        "        return results.mean()"
      ]
    },
    {
      "cell_type": "code",
      "execution_count": null,
      "id": "4e7e9076aeb07b99",
      "metadata": {
        "ExecuteTime": {
          "end_time": "2024-05-25T15:01:35.901242Z",
          "start_time": "2024-05-25T15:01:35.894377Z"
        },
        "id": "4e7e9076aeb07b99"
      },
      "outputs": [],
      "source": [
        "from typing import Final\n",
        "\n",
        "\n",
        "class GenericAlgorithm(OptimizationAlgorithmInterface):\n",
        "    def __init__(\n",
        "            self,\n",
        "            metrics_labels: list[str],\n",
        "            offsprings_numbers=10,\n",
        "            population_size=10,\n",
        "            mutation_rate=0.5,\n",
        "            max_iterations=100,\n",
        "            max_repeats=5\n",
        "        ):\n",
        "        self.population_size: Final[int] = population_size\n",
        "        self.metrics_labels: Final[list[str]] = metrics_labels\n",
        "        self.offsprings_numbers = offsprings_numbers\n",
        "        self.mutation_rate = mutation_rate\n",
        "        self.max_iterations = max_iterations\n",
        "        self.max_repeats = max_repeats\n",
        "\n",
        "    def _get_initial_population(self, sample_size: int) -> list[list[str]]:\n",
        "        # TODO: type\n",
        "        population: list[list[str]] = []\n",
        "\n",
        "        for _ in range(self.population_size):\n",
        "            while True:\n",
        "                chromosome: Final[list[str]] = random.sample(self.metrics_labels, sample_size)\n",
        "\n",
        "                # test that chromosome contains unique genes\n",
        "                assert sorted(chromosome) == sorted(list(set(chromosome)))\n",
        "\n",
        "                if chromosome in population:\n",
        "                    continue\n",
        "\n",
        "                population.append(chromosome)\n",
        "                break\n",
        "\n",
        "        return population\n",
        "\n",
        "    def _get_parents(self, population: list[list[str]]) -> tuple[list[list[str]], list[list[str]]]:\n",
        "        mothers = population[:(2 * self.offsprings_numbers):2]\n",
        "        fathers = population[1:(2 * self.offsprings_numbers + 1):2]\n",
        "\n",
        "        return mothers, fathers\n",
        "\n",
        "    def _crossover(self, mother: list[str], father: list[str]) -> list[str]:\n",
        "        assert len(mother) == len(father)\n",
        "\n",
        "        possible_offsprings = [mother, father]\n",
        "\n",
        "        for border_left in range(0, len(mother) + 1):\n",
        "            for border_right in range(border_left, len(mother) + 1):\n",
        "                offspring_1: Final[list[str]] = mother[:border_left] + \\\n",
        "                    father[border_left:border_right] + mother[border_right:]\n",
        "\n",
        "                if len(set(offspring_1)) == len(offspring_1):\n",
        "                    possible_offsprings.append(offspring_1)\n",
        "\n",
        "                offspring_2: Final[list[str]] = father[:border_left] + \\\n",
        "                    mother[border_left:border_right] + father[border_right:]\n",
        "\n",
        "                if len(set(offspring_2)) == len(offspring_2):\n",
        "                    possible_offsprings.append(offspring_2)\n",
        "\n",
        "        offspring: Final[list[str]] = random.choice(possible_offsprings)\n",
        "\n",
        "        assert len(set(offspring)) == len(offspring)\n",
        "\n",
        "        return offspring\n",
        "\n",
        "    def _mutate(self, chromosome: list[str]) -> list[str]:\n",
        "        new_chromosome = chromosome[:]\n",
        "\n",
        "        for i in range(len(new_chromosome)):\n",
        "            if random.random() < self.mutation_rate:\n",
        "                while True:\n",
        "                    random_gene = random.choice(class_columns)\n",
        "                    if random_gene not in new_chromosome:\n",
        "                        new_chromosome[i] = random_gene\n",
        "                        break\n",
        "\n",
        "        assert len(set(new_chromosome)) == len(new_chromosome)\n",
        "\n",
        "        return new_chromosome\n",
        "\n",
        "    def _get_class_fitness(self, columns: list[str]) -> np.float64:\n",
        "        results = []\n",
        "\n",
        "        for repository in repositories:\n",
        "            try:\n",
        "                result = ErrorRepositoryResults(repository, kruskal_stress, eq_distance).class_error(columns)\n",
        "            except ValueError:\n",
        "                continue\n",
        "            results.append(result)\n",
        "\n",
        "        return self.aggregate_results(np.array(results))\n",
        "\n",
        "    def _get_method_fitness(self, columns: list[str]) -> np.float64:\n",
        "        results = []\n",
        "\n",
        "        for repository in repositories:\n",
        "            result = ErrorRepositoryResults(repository, kruskal_stress, eq_distance).method_error(columns)\n",
        "            results.append(result)\n",
        "\n",
        "        return self.aggregate_results(np.array(results))\n",
        "\n",
        "    # def _get_class_fitness(self, repository) -> np.float64:\n",
        "    #     return self._get_total_fitness(ErrorRepositoryResults(repository, kruskal_stress, eq_distance).class_error, class_columns)\n",
        "\n",
        "    # def _get_method_fitness(self, repository) -> np.float64:\n",
        "    #     return self._get_total_fitness(ErrorRepositoryResults(repository, kruskal_stress, eq_distance).method_error, method_columns)\n",
        "\n",
        "    def _get_population_fitness(self, population: list[list[str]], fitness_function):\n",
        "        fitness_results = []\n",
        "        for chromosome in population:\n",
        "            fitness_value = fitness_function(chromosome)\n",
        "            fitness_results.append((chromosome, fitness_value))\n",
        "        fitness_results.sort(key=lambda x: x[1])\n",
        "        return fitness_results\n",
        "\n",
        "    def _replace_population(\n",
        "            self,\n",
        "            population: list[list[str]],\n",
        "            new_individuals: list[list[str]],\n",
        "            fitness_function\n",
        "    ):\n",
        "        # Add new chromosomes\n",
        "        population.extend(new_individuals)\n",
        "\n",
        "        # Sort them by fitness score\n",
        "        fitness_results = self._get_population_fitness(population, fitness_function)\n",
        "\n",
        "        population = [a[0] for a in fitness_results]\n",
        "        # Remove the chromosomes that have low fitness score\n",
        "        population = population[:self.population_size]\n",
        "\n",
        "        # Return the updated population\n",
        "        return population\n",
        "\n",
        "    def _evolution_step(self, population: list[list[str]], fitness_function):\n",
        "        # Get the fittest n_offsprings parents from the given population\n",
        "        mothers, fathers = self._get_parents(population)\n",
        "\n",
        "        mothers: list[list[str]]\n",
        "        fathers: list[list[str]]\n",
        "\n",
        "        # Here we will store the offsprings\n",
        "        offsprings: list[list[str]] = []\n",
        "\n",
        "        # Iterate each pair of mother and father\n",
        "        for mother, father in zip(mothers, fathers):\n",
        "            mother: Final[list[str]]\n",
        "            father: Final[list[str]]\n",
        "\n",
        "            # Make a crossover of them, mutate an offspring\n",
        "            offspring: Final[list[str]] = self._mutate(self._crossover(mother, father))\n",
        "\n",
        "            # Add the offspring to the list of offsprings\n",
        "            offsprings.append(offspring)\n",
        "\n",
        "        # Update the population with new offsprings\n",
        "        new_population = self._replace_population(population, offsprings, fitness_function)\n",
        "\n",
        "        # Return the updated population\n",
        "        return new_population\n",
        "\n",
        "    def _run_experiments_on_n_metrics(self, metrics_amount: int, fitness_function):\n",
        "        # TODO: type\n",
        "        population: list[list[str]] = self._get_initial_population(metrics_amount)\n",
        "\n",
        "        prev_value = -1\n",
        "        repeats = 0\n",
        "\n",
        "        for iteration in range(self.max_iterations):\n",
        "            population = self._evolution_step(population, fitness_function)\n",
        "\n",
        "            fitness_scores = self._get_population_fitness(population, fitness_function)\n",
        "            best_fitness = fitness_scores[0][1]\n",
        "            best_result = fitness_scores[0][0]\n",
        "\n",
        "            if prev_value != best_fitness:\n",
        "                prev_value = best_fitness\n",
        "                repeats = 1\n",
        "            else:\n",
        "                repeats += 1\n",
        "\n",
        "            if repeats == self.max_repeats:\n",
        "                break\n",
        "\n",
        "            print(f\"Best fitness: {best_fitness}\")\n",
        "            print(f\"Best result: {best_result}\")\n",
        "            print(f\"Repeats: {repeats}\")\n",
        "            print(f\"Previous value: {prev_value}\")\n",
        "            print()\n",
        "\n",
        "        fitness_scores = self._get_population_fitness(population, fitness_function)\n",
        "\n",
        "        print(f\"subset size: {metrics_amount}\")\n",
        "        print(f\"Final best fitness: {fitness_scores[0][1]}\")\n",
        "        print(f\"Final best result: {fitness_scores[0][0]}\")\n",
        "        print(\"-------------\")\n",
        "        print()\n",
        "\n",
        "    def run_experiments(self):\n",
        "        for metrics_amount in range(1, len(self.metrics_labels)):\n",
        "            self._run_experiments_on_n_metrics(metrics_amount, self._get_class_fitness)\n",
        "\n",
        "        for metrics_amount in range(1, len(self.metrics_labels)):\n",
        "            self._run_experiments_on_n_metrics(metrics_amount, self._get_method_fitness)"
      ]
    },
    {
      "cell_type": "code",
      "execution_count": null,
      "id": "initial_id",
      "metadata": {
        "ExecuteTime": {
          "end_time": "2024-05-25T15:05:16.174070Z",
          "start_time": "2024-05-25T15:05:16.171412Z"
        },
        "collapsed": true,
        "id": "initial_id"
      },
      "outputs": [],
      "source": [
        "class ExperimentRunner:\n",
        "    # TODO: types\n",
        "    def __init__(self, repositories, optimization_algorithm: OptimizationAlgorithmInterface) -> None:\n",
        "        self.repositories = repositories\n",
        "        self.optimization_algorithm: OptimizationAlgorithmInterface = optimization_algorithm\n",
        "\n",
        "    def run_experiments(self):\n",
        "        self.optimization_algorithm.run_experiments()"
      ]
    },
    {
      "cell_type": "code",
      "execution_count": null,
      "id": "816a86207256610d",
      "metadata": {
        "ExecuteTime": {
          "end_time": "2024-05-25T15:05:59.866144Z",
          "start_time": "2024-05-25T15:05:59.767145Z"
        },
        "id": "816a86207256610d"
      },
      "outputs": [],
      "source": [
        "generic_algorithm_runner = ExperimentRunner(repositories, GenericAlgorithm(class_columns))"
      ]
    },
    {
      "cell_type": "code",
      "execution_count": null,
      "id": "ef2f3ded630a0182",
      "metadata": {
        "colab": {
          "base_uri": "https://localhost:8080/",
          "height": 1000
        },
        "id": "ef2f3ded630a0182",
        "outputId": "93d47526-386a-4758-aa2d-2529e2ca4e59"
      },
      "outputs": [
        {
          "output_type": "stream",
          "name": "stdout",
          "text": [
            "Fitness score: [(['stringLiteralsQty'], 0.9530206974242162), (['totalMethodsQty'], 0.9781169946682959), (['fanout'], 0.9854170487299363), (['totalFieldsQty'], 0.9924250647195014), (['mathOperationsQty'], 0.9927136794218588), (['finalFieldsQty'], 0.9956928594269098), (['finalFieldsQty'], 0.9956928594269098), (['staticMethodsQty'], 0.9970890396103446), (['maxNestedBlocksQty'], 0.9976636170409301), (['maxNestedBlocksQty'], 0.9976636170409301), (['publicFieldsQty'], 0.9984945975970464), (['abstractMethodsQty'], 0.999443438930206), (['synchronizedMethodsQty'], 0.9997576459033131), (['synchronizedMethodsQty'], 0.9997576459033131), (['synchronizedFieldsQty'], 1.0)]\n",
            "Best fitness: 0.9530206974242162\n",
            "Best result: ['stringLiteralsQty']\n",
            "Repeats: 1\n",
            "Previous value: 0.9530206974242162\n",
            "\n",
            "Fitness score: [(['stringLiteralsQty'], 0.9530206974242162), (['totalMethodsQty'], 0.9781169946682959), (['fanout'], 0.9854170487299363), (['fanout'], 0.9854170487299363), (['totalFieldsQty'], 0.9924250647195014), (['mathOperationsQty'], 0.9927136794218588), (['privateFieldsQty'], 0.9944525025259983), (['finalFieldsQty'], 0.9956928594269098), (['finalFieldsQty'], 0.9956928594269098), (['defaultMethodsQty'], 0.995778536610753), (['staticMethodsQty'], 0.9970890396103446), (['maxNestedBlocksQty'], 0.9976636170409301), (['maxNestedBlocksQty'], 0.9976636170409301), (['logStatementsQty'], 0.9985193554120217), (['synchronizedMethodsQty'], 0.9997576459033131)]\n",
            "Best fitness: 0.9530206974242162\n",
            "Best result: ['stringLiteralsQty']\n",
            "Repeats: 2\n",
            "Previous value: 0.9530206974242162\n",
            "\n",
            "Fitness score: [(['stringLiteralsQty'], 0.9530206974242162), (['rfc'], 0.9571199419328201), (['totalMethodsQty'], 0.9781169946682959), (['publicMethodsQty'], 0.9839506127106018), (['fanout'], 0.9854170487299363), (['fanout'], 0.9854170487299363), (['totalFieldsQty'], 0.9924250647195014), (['mathOperationsQty'], 0.9927136794218588), (['privateFieldsQty'], 0.9944525025259983), (['privateFieldsQty'], 0.9944525025259983), (['finalFieldsQty'], 0.9956928594269098), (['finalFieldsQty'], 0.9956928594269098), (['defaultMethodsQty'], 0.995778536610753), (['dit'], 0.9986344743353317), (['lcc'], 0.9991872789938774)]\n",
            "Best fitness: 0.9530206974242162\n",
            "Best result: ['stringLiteralsQty']\n",
            "Repeats: 3\n",
            "Previous value: 0.9530206974242162\n",
            "\n",
            "Fitness score: [(['stringLiteralsQty'], 0.9530206974242162), (['assignmentsQty'], 0.9557240888922452), (['rfc'], 0.9571199419328201), (['rfc'], 0.9571199419328201), (['totalMethodsQty'], 0.9781169946682959), (['totalMethodsQty'], 0.9781169946682959), (['publicMethodsQty'], 0.9839506127106018), (['fanout'], 0.9854170487299363), (['fanout'], 0.9854170487299363), (['totalFieldsQty'], 0.9924250647195014), (['totalFieldsQty'], 0.9924250647195014), (['mathOperationsQty'], 0.9927136794218588), (['privateFieldsQty'], 0.9944525025259983), (['privateFieldsQty'], 0.9944525025259983), (['privateFieldsQty'], 0.9944525025259983)]\n",
            "Best fitness: 0.9530206974242162\n",
            "Best result: ['stringLiteralsQty']\n",
            "Repeats: 4\n",
            "Previous value: 0.9530206974242162\n",
            "\n",
            "Fitness score: [(['stringLiteralsQty'], 0.9530206974242162), (['assignmentsQty'], 0.9557240888922452), (['rfc'], 0.9571199419328201), (['rfc'], 0.9571199419328201), (['rfc'], 0.9571199419328201), (['totalMethodsQty'], 0.9781169946682959), (['totalMethodsQty'], 0.9781169946682959), (['totalMethodsQty'], 0.9781169946682959), (['publicMethodsQty'], 0.9839506127106018), (['fanout'], 0.9854170487299363), (['fanout'], 0.9854170487299363), (['fanout'], 0.9854170487299363), (['cbo'], 0.9854322413557804), (['totalFieldsQty'], 0.9924250647195014), (['privateMethodsQty'], 0.9969132038643506)]\n",
            "subset size: 1\n",
            "Final best fitness: 0.9530206974242162\n",
            "Final best result: ['stringLiteralsQty']\n",
            "-------------\n",
            "\n",
            "Fitness score: [(['modifiers', 'lambdasQty'], 0.7267202640389349), (['uniqueWordsQty', 'visibleMethodsQty'], 0.8961004379017765), (['dit', 'uniqueWordsQty'], 0.9001458819385596), (['cboModified', 'variablesQty'], 0.951615483644108), (['staticFieldsQty', 'assignmentsQty'], 0.955037184176264), (['defaultFieldsQty', 'numbersQty'], 0.9765537434689336), (['cboModified', 'lambdasQty'], 0.9765568955228177), (['staticFieldsQty', 'totalMethodsQty'], 0.9768648050507911), (['synchronizedFieldsQty', 'visibleMethodsQty'], 0.9804761705180245), (['nosi', 'finalMethodsQty'], 0.9853909861858344), (['finalFieldsQty', 'comparisonsQty'], 0.9888022353883844), (['synchronizedFieldsQty', 'comparisonsQty'], 0.9914953468837744), (['finalFieldsQty', 'publicFieldsQty'], 0.9949839148114951), (['maxNestedBlocksQty', 'protectedMethodsQty'], 0.9967627377680689), (['dit', 'publicFieldsQty'], 0.9972726902491825)]\n",
            "Best fitness: 0.7267202640389349\n",
            "Best result: ['modifiers', 'lambdasQty']\n",
            "Repeats: 1\n",
            "Previous value: 0.7267202640389349\n",
            "\n",
            "Fitness score: [(['modifiers', 'lambdasQty'], 0.7267202640389349), (['totalMethodsQty', 'uniqueWordsQty'], 0.8956285064742141), (['uniqueWordsQty', 'visibleMethodsQty'], 0.8961004379017765), (['dit', 'uniqueWordsQty'], 0.9001458819385596), (['cboModified', 'variablesQty'], 0.951615483644108), (['staticFieldsQty', 'assignmentsQty'], 0.955037184176264), (['defaultFieldsQty', 'numbersQty'], 0.9765537434689336), (['cboModified', 'lambdasQty'], 0.9765568955228177), (['staticFieldsQty', 'totalMethodsQty'], 0.9768648050507911), (['synchronizedFieldsQty', 'visibleMethodsQty'], 0.9804761705180245), (['returnQty', 'lambdasQty'], 0.9811548985676631), (['nosi', 'finalMethodsQty'], 0.9853909861858344), (['nosi', 'finalMethodsQty'], 0.9853909861858344), (['staticFieldsQty', 'lcc'], 0.9963622802850537), (['defaultFieldsQty', 'protectedMethodsQty'], 0.9980408909214799)]\n",
            "Best fitness: 0.7267202640389349\n",
            "Best result: ['modifiers', 'lambdasQty']\n",
            "Repeats: 2\n",
            "Previous value: 0.7267202640389349\n",
            "\n",
            "Fitness score: [(['modifiers', 'lambdasQty'], 0.7267202640389349), (['totalMethodsQty', 'uniqueWordsQty'], 0.8956285064742141), (['uniqueWordsQty', 'visibleMethodsQty'], 0.8961004379017765), (['dit', 'uniqueWordsQty'], 0.9001458819385596), (['cboModified', 'variablesQty'], 0.951615483644108), (['cboModified', 'variablesQty'], 0.951615483644108), (['staticFieldsQty', 'assignmentsQty'], 0.955037184176264), (['totalMethodsQty', 'mathOperationsQty'], 0.9745923955954341), (['defaultFieldsQty', 'numbersQty'], 0.9765537434689336), (['defaultFieldsQty', 'numbersQty'], 0.9765537434689336), (['cboModified', 'lambdasQty'], 0.9765568955228177), (['staticFieldsQty', 'totalMethodsQty'], 0.9768648050507911), (['synchronizedMethodsQty', 'visibleMethodsQty'], 0.9804008596012478), (['synchronizedFieldsQty', 'visibleMethodsQty'], 0.9804761705180245), (['privateMethodsQty', 'tcc'], 0.9964222650258475)]\n",
            "Best fitness: 0.7267202640389349\n",
            "Best result: ['modifiers', 'lambdasQty']\n",
            "Repeats: 3\n",
            "Previous value: 0.7267202640389349\n",
            "\n",
            "Fitness score: [(['modifiers', 'lambdasQty'], 0.7267202640389349), (['totalMethodsQty', 'uniqueWordsQty'], 0.8956285064742141), (['uniqueWordsQty', 'visibleMethodsQty'], 0.8961004379017765), (['uniqueWordsQty', 'visibleMethodsQty'], 0.8961004379017765), (['uniqueWordsQty', 'comparisonsQty'], 0.8988855847288207), (['dit', 'uniqueWordsQty'], 0.9001458819385596), (['cboModified', 'variablesQty'], 0.951615483644108), (['cboModified', 'variablesQty'], 0.951615483644108), (['staticFieldsQty', 'assignmentsQty'], 0.955037184176264), (['variablesQty', 'lambdasQty'], 0.9631601317405841), (['totalMethodsQty', 'mathOperationsQty'], 0.9745923955954341), (['noc', 'numbersQty'], 0.9762548495981554), (['defaultFieldsQty', 'numbersQty'], 0.9765537434689336), (['defaultFieldsQty', 'numbersQty'], 0.9765537434689336), (['tryCatchQty', 'fanin'], 0.9879982570327603)]\n",
            "Best fitness: 0.7267202640389349\n",
            "Best result: ['modifiers', 'lambdasQty']\n",
            "Repeats: 4\n",
            "Previous value: 0.7267202640389349\n",
            "\n",
            "Fitness score: [(['lcom', 'totalMethodsQty'], 0.6325020491349193), (['modifiers', 'privateFieldsQty'], 0.7241282518006598), (['modifiers', 'lambdasQty'], 0.7267202640389349), (['totalMethodsQty', 'uniqueWordsQty'], 0.8956285064742141), (['uniqueWordsQty', 'visibleMethodsQty'], 0.8961004379017765), (['uniqueWordsQty', 'visibleMethodsQty'], 0.8961004379017765), (['uniqueWordsQty', 'visibleMethodsQty'], 0.8961004379017765), (['uniqueWordsQty', 'comparisonsQty'], 0.8988855847288207), (['dit', 'uniqueWordsQty'], 0.9001458819385596), (['cboModified', 'variablesQty'], 0.951615483644108), (['cboModified', 'variablesQty'], 0.951615483644108), (['staticFieldsQty', 'assignmentsQty'], 0.955037184176264), (['variablesQty', 'lambdasQty'], 0.9631601317405841), (['cboModified', 'privateMethodsQty'], 0.9765031189281265), (['privateMethodsQty', 'staticFieldsQty'], 0.9946881253355154)]\n",
            "Best fitness: 0.6325020491349193\n",
            "Best result: ['lcom', 'totalMethodsQty']\n",
            "Repeats: 1\n",
            "Previous value: 0.6325020491349193\n",
            "\n",
            "Fitness score: [(['modifiers', 'uniqueWordsQty'], 0.6223673684441909), (['lcom', 'totalMethodsQty'], 0.6325020491349193), (['modifiers', 'privateFieldsQty'], 0.7241282518006598), (['modifiers', 'lambdasQty'], 0.7267202640389349), (['totalMethodsQty', 'uniqueWordsQty'], 0.8956285064742141), (['uniqueWordsQty', 'visibleMethodsQty'], 0.8961004379017765), (['uniqueWordsQty', 'visibleMethodsQty'], 0.8961004379017765), (['uniqueWordsQty', 'visibleMethodsQty'], 0.8961004379017765), (['uniqueWordsQty', 'comparisonsQty'], 0.8988855847288207), (['uniqueWordsQty', 'loopQty'], 0.8997955335585661), (['uniqueWordsQty', 'innerClassesQty'], 0.8998932255504112), (['dit', 'uniqueWordsQty'], 0.9001458819385596), (['cboModified', 'variablesQty'], 0.951615483644108), (['finalFieldsQty', 'totalMethodsQty'], 0.976512795687561), (['logStatementsQty', 'cboModified'], 0.9770067099157841)]\n",
            "Best fitness: 0.6223673684441909\n",
            "Best result: ['modifiers', 'uniqueWordsQty']\n",
            "Repeats: 1\n",
            "Previous value: 0.6223673684441909\n",
            "\n",
            "Fitness score: [(['modifiers', 'uniqueWordsQty'], 0.6223673684441909), (['lcom', 'totalMethodsQty'], 0.6325020491349193), (['modifiers', 'privateFieldsQty'], 0.7241282518006598), (['modifiers', 'lambdasQty'], 0.7267202640389349), (['totalMethodsQty', 'uniqueWordsQty'], 0.8956285064742141), (['uniqueWordsQty', 'visibleMethodsQty'], 0.8961004379017765), (['uniqueWordsQty', 'visibleMethodsQty'], 0.8961004379017765), (['uniqueWordsQty', 'visibleMethodsQty'], 0.8961004379017765), (['uniqueWordsQty', 'comparisonsQty'], 0.8988855847288207), (['uniqueWordsQty', 'loopQty'], 0.8997955335585661), (['cboModified', 'tcc'], 0.9774369512053755), (['lcom*', 'fanout'], 0.985344722807441), (['lcom*', 'comparisonsQty'], 0.9912401598856981), (['privateFieldsQty', 'innerClassesQty'], 0.9934755248776824), (['loopQty', 'publicFieldsQty'], 0.9947923010525476)]\n",
            "Best fitness: 0.6223673684441909\n",
            "Best result: ['modifiers', 'uniqueWordsQty']\n",
            "Repeats: 2\n",
            "Previous value: 0.6223673684441909\n",
            "\n"
          ]
        },
        {
          "output_type": "error",
          "ename": "KeyboardInterrupt",
          "evalue": "",
          "traceback": [
            "\u001b[0;31m---------------------------------------------------------------------------\u001b[0m",
            "\u001b[0;31mKeyboardInterrupt\u001b[0m                         Traceback (most recent call last)",
            "\u001b[0;32m<ipython-input-69-a2f9aab9efef>\u001b[0m in \u001b[0;36m<cell line: 1>\u001b[0;34m()\u001b[0m\n\u001b[0;32m----> 1\u001b[0;31m \u001b[0mgeneric_algorithm_runner\u001b[0m\u001b[0;34m.\u001b[0m\u001b[0mrun_experiments\u001b[0m\u001b[0;34m(\u001b[0m\u001b[0;34m)\u001b[0m\u001b[0;34m\u001b[0m\u001b[0;34m\u001b[0m\u001b[0m\n\u001b[0m",
            "\u001b[0;32m<ipython-input-67-0df76b85b77f>\u001b[0m in \u001b[0;36mrun_experiments\u001b[0;34m(self)\u001b[0m\n\u001b[1;32m      6\u001b[0m \u001b[0;34m\u001b[0m\u001b[0m\n\u001b[1;32m      7\u001b[0m     \u001b[0;32mdef\u001b[0m \u001b[0mrun_experiments\u001b[0m\u001b[0;34m(\u001b[0m\u001b[0mself\u001b[0m\u001b[0;34m)\u001b[0m\u001b[0;34m:\u001b[0m\u001b[0;34m\u001b[0m\u001b[0;34m\u001b[0m\u001b[0m\n\u001b[0;32m----> 8\u001b[0;31m         \u001b[0mself\u001b[0m\u001b[0;34m.\u001b[0m\u001b[0moptimization_algorithm\u001b[0m\u001b[0;34m.\u001b[0m\u001b[0mrun_experiments\u001b[0m\u001b[0;34m(\u001b[0m\u001b[0;34m)\u001b[0m\u001b[0;34m\u001b[0m\u001b[0;34m\u001b[0m\u001b[0m\n\u001b[0m",
            "\u001b[0;32m<ipython-input-66-81c6b39db904>\u001b[0m in \u001b[0;36mrun_experiments\u001b[0;34m(self)\u001b[0m\n\u001b[1;32m    206\u001b[0m     \u001b[0;32mdef\u001b[0m \u001b[0mrun_experiments\u001b[0m\u001b[0;34m(\u001b[0m\u001b[0mself\u001b[0m\u001b[0;34m)\u001b[0m\u001b[0;34m:\u001b[0m\u001b[0;34m\u001b[0m\u001b[0;34m\u001b[0m\u001b[0m\n\u001b[1;32m    207\u001b[0m         \u001b[0;32mfor\u001b[0m \u001b[0mmetrics_amount\u001b[0m \u001b[0;32min\u001b[0m \u001b[0mrange\u001b[0m\u001b[0;34m(\u001b[0m\u001b[0;36m1\u001b[0m\u001b[0;34m,\u001b[0m \u001b[0mlen\u001b[0m\u001b[0;34m(\u001b[0m\u001b[0mself\u001b[0m\u001b[0;34m.\u001b[0m\u001b[0mmetrics_labels\u001b[0m\u001b[0;34m)\u001b[0m\u001b[0;34m)\u001b[0m\u001b[0;34m:\u001b[0m\u001b[0;34m\u001b[0m\u001b[0;34m\u001b[0m\u001b[0m\n\u001b[0;32m--> 208\u001b[0;31m             \u001b[0mself\u001b[0m\u001b[0;34m.\u001b[0m\u001b[0m_run_experiments_on_n_metrics\u001b[0m\u001b[0;34m(\u001b[0m\u001b[0mmetrics_amount\u001b[0m\u001b[0;34m,\u001b[0m \u001b[0mself\u001b[0m\u001b[0;34m.\u001b[0m\u001b[0m_get_class_fitness\u001b[0m\u001b[0;34m)\u001b[0m\u001b[0;34m\u001b[0m\u001b[0;34m\u001b[0m\u001b[0m\n\u001b[0m\u001b[1;32m    209\u001b[0m \u001b[0;34m\u001b[0m\u001b[0m\n\u001b[1;32m    210\u001b[0m         \u001b[0;32mfor\u001b[0m \u001b[0mmetrics_amount\u001b[0m \u001b[0;32min\u001b[0m \u001b[0mrange\u001b[0m\u001b[0;34m(\u001b[0m\u001b[0;36m1\u001b[0m\u001b[0;34m,\u001b[0m \u001b[0mlen\u001b[0m\u001b[0;34m(\u001b[0m\u001b[0mself\u001b[0m\u001b[0;34m.\u001b[0m\u001b[0mmetrics_labels\u001b[0m\u001b[0;34m)\u001b[0m\u001b[0;34m)\u001b[0m\u001b[0;34m:\u001b[0m\u001b[0;34m\u001b[0m\u001b[0;34m\u001b[0m\u001b[0m\n",
            "\u001b[0;32m<ipython-input-66-81c6b39db904>\u001b[0m in \u001b[0;36m_run_experiments_on_n_metrics\u001b[0;34m(self, metrics_amount, fitness_function)\u001b[0m\n\u001b[1;32m    175\u001b[0m \u001b[0;34m\u001b[0m\u001b[0m\n\u001b[1;32m    176\u001b[0m         \u001b[0;32mfor\u001b[0m \u001b[0miteration\u001b[0m \u001b[0;32min\u001b[0m \u001b[0mrange\u001b[0m\u001b[0;34m(\u001b[0m\u001b[0mself\u001b[0m\u001b[0;34m.\u001b[0m\u001b[0mmax_iterations\u001b[0m\u001b[0;34m)\u001b[0m\u001b[0;34m:\u001b[0m\u001b[0;34m\u001b[0m\u001b[0;34m\u001b[0m\u001b[0m\n\u001b[0;32m--> 177\u001b[0;31m             \u001b[0mpopulation\u001b[0m \u001b[0;34m=\u001b[0m \u001b[0mself\u001b[0m\u001b[0;34m.\u001b[0m\u001b[0m_evolution_step\u001b[0m\u001b[0;34m(\u001b[0m\u001b[0mpopulation\u001b[0m\u001b[0;34m,\u001b[0m \u001b[0mfitness_function\u001b[0m\u001b[0;34m)\u001b[0m\u001b[0;34m\u001b[0m\u001b[0;34m\u001b[0m\u001b[0m\n\u001b[0m\u001b[1;32m    178\u001b[0m \u001b[0;34m\u001b[0m\u001b[0m\n\u001b[1;32m    179\u001b[0m             \u001b[0mfitness_scores\u001b[0m \u001b[0;34m=\u001b[0m \u001b[0mself\u001b[0m\u001b[0;34m.\u001b[0m\u001b[0m_get_population_fitness\u001b[0m\u001b[0;34m(\u001b[0m\u001b[0mpopulation\u001b[0m\u001b[0;34m,\u001b[0m \u001b[0mfitness_function\u001b[0m\u001b[0;34m)\u001b[0m\u001b[0;34m\u001b[0m\u001b[0;34m\u001b[0m\u001b[0m\n",
            "\u001b[0;32m<ipython-input-66-81c6b39db904>\u001b[0m in \u001b[0;36m_evolution_step\u001b[0;34m(self, population, fitness_function)\u001b[0m\n\u001b[1;32m    162\u001b[0m \u001b[0;34m\u001b[0m\u001b[0m\n\u001b[1;32m    163\u001b[0m         \u001b[0;31m# Update the population with new offsprings\u001b[0m\u001b[0;34m\u001b[0m\u001b[0;34m\u001b[0m\u001b[0m\n\u001b[0;32m--> 164\u001b[0;31m         \u001b[0mnew_population\u001b[0m \u001b[0;34m=\u001b[0m \u001b[0mself\u001b[0m\u001b[0;34m.\u001b[0m\u001b[0m_replace_population\u001b[0m\u001b[0;34m(\u001b[0m\u001b[0mpopulation\u001b[0m\u001b[0;34m,\u001b[0m \u001b[0moffsprings\u001b[0m\u001b[0;34m,\u001b[0m \u001b[0mfitness_function\u001b[0m\u001b[0;34m)\u001b[0m\u001b[0;34m\u001b[0m\u001b[0;34m\u001b[0m\u001b[0m\n\u001b[0m\u001b[1;32m    165\u001b[0m \u001b[0;34m\u001b[0m\u001b[0m\n\u001b[1;32m    166\u001b[0m         \u001b[0;31m# Return the updated population\u001b[0m\u001b[0;34m\u001b[0m\u001b[0;34m\u001b[0m\u001b[0m\n",
            "\u001b[0;32m<ipython-input-66-81c6b39db904>\u001b[0m in \u001b[0;36m_replace_population\u001b[0;34m(self, population, new_individuals, fitness_function)\u001b[0m\n\u001b[1;32m    129\u001b[0m \u001b[0;34m\u001b[0m\u001b[0m\n\u001b[1;32m    130\u001b[0m         \u001b[0;31m# Sort them by fitness score\u001b[0m\u001b[0;34m\u001b[0m\u001b[0;34m\u001b[0m\u001b[0m\n\u001b[0;32m--> 131\u001b[0;31m         \u001b[0mfitness_results\u001b[0m \u001b[0;34m=\u001b[0m \u001b[0mself\u001b[0m\u001b[0;34m.\u001b[0m\u001b[0m_get_population_fitness\u001b[0m\u001b[0;34m(\u001b[0m\u001b[0mpopulation\u001b[0m\u001b[0;34m,\u001b[0m \u001b[0mfitness_function\u001b[0m\u001b[0;34m)\u001b[0m\u001b[0;34m\u001b[0m\u001b[0;34m\u001b[0m\u001b[0m\n\u001b[0m\u001b[1;32m    132\u001b[0m \u001b[0;34m\u001b[0m\u001b[0m\n\u001b[1;32m    133\u001b[0m         \u001b[0mprint\u001b[0m\u001b[0;34m(\u001b[0m\u001b[0;34mf\"Fitness score: {fitness_results}\"\u001b[0m\u001b[0;34m)\u001b[0m\u001b[0;34m\u001b[0m\u001b[0;34m\u001b[0m\u001b[0m\n",
            "\u001b[0;32m<ipython-input-66-81c6b39db904>\u001b[0m in \u001b[0;36m_get_population_fitness\u001b[0;34m(self, population, fitness_function)\u001b[0m\n\u001b[1;32m    114\u001b[0m         \u001b[0mfitness_results\u001b[0m \u001b[0;34m=\u001b[0m \u001b[0;34m[\u001b[0m\u001b[0;34m]\u001b[0m\u001b[0;34m\u001b[0m\u001b[0;34m\u001b[0m\u001b[0m\n\u001b[1;32m    115\u001b[0m         \u001b[0;32mfor\u001b[0m \u001b[0mchromosome\u001b[0m \u001b[0;32min\u001b[0m \u001b[0mpopulation\u001b[0m\u001b[0;34m:\u001b[0m\u001b[0;34m\u001b[0m\u001b[0;34m\u001b[0m\u001b[0m\n\u001b[0;32m--> 116\u001b[0;31m             \u001b[0mfitness_value\u001b[0m \u001b[0;34m=\u001b[0m \u001b[0mfitness_function\u001b[0m\u001b[0;34m(\u001b[0m\u001b[0mchromosome\u001b[0m\u001b[0;34m)\u001b[0m\u001b[0;34m\u001b[0m\u001b[0;34m\u001b[0m\u001b[0m\n\u001b[0m\u001b[1;32m    117\u001b[0m             \u001b[0mfitness_results\u001b[0m\u001b[0;34m.\u001b[0m\u001b[0mappend\u001b[0m\u001b[0;34m(\u001b[0m\u001b[0;34m(\u001b[0m\u001b[0mchromosome\u001b[0m\u001b[0;34m,\u001b[0m \u001b[0mfitness_value\u001b[0m\u001b[0;34m)\u001b[0m\u001b[0;34m)\u001b[0m\u001b[0;34m\u001b[0m\u001b[0;34m\u001b[0m\u001b[0m\n\u001b[1;32m    118\u001b[0m         \u001b[0mfitness_results\u001b[0m\u001b[0;34m.\u001b[0m\u001b[0msort\u001b[0m\u001b[0;34m(\u001b[0m\u001b[0mkey\u001b[0m\u001b[0;34m=\u001b[0m\u001b[0;32mlambda\u001b[0m \u001b[0mx\u001b[0m\u001b[0;34m:\u001b[0m \u001b[0mx\u001b[0m\u001b[0;34m[\u001b[0m\u001b[0;36m1\u001b[0m\u001b[0;34m]\u001b[0m\u001b[0;34m)\u001b[0m\u001b[0;34m\u001b[0m\u001b[0;34m\u001b[0m\u001b[0m\n",
            "\u001b[0;32m<ipython-input-66-81c6b39db904>\u001b[0m in \u001b[0;36m_get_class_fitness\u001b[0;34m(self, columns)\u001b[0m\n\u001b[1;32m     89\u001b[0m         \u001b[0;32mfor\u001b[0m \u001b[0mrepository\u001b[0m \u001b[0;32min\u001b[0m \u001b[0mrepositories\u001b[0m\u001b[0;34m:\u001b[0m\u001b[0;34m\u001b[0m\u001b[0;34m\u001b[0m\u001b[0m\n\u001b[1;32m     90\u001b[0m             \u001b[0;32mtry\u001b[0m\u001b[0;34m:\u001b[0m\u001b[0;34m\u001b[0m\u001b[0;34m\u001b[0m\u001b[0m\n\u001b[0;32m---> 91\u001b[0;31m                 \u001b[0mresult\u001b[0m \u001b[0;34m=\u001b[0m \u001b[0mErrorRepositoryResults\u001b[0m\u001b[0;34m(\u001b[0m\u001b[0mrepository\u001b[0m\u001b[0;34m,\u001b[0m \u001b[0mkruskal_stress\u001b[0m\u001b[0;34m,\u001b[0m \u001b[0meq_distance\u001b[0m\u001b[0;34m)\u001b[0m\u001b[0;34m.\u001b[0m\u001b[0mclass_error\u001b[0m\u001b[0;34m(\u001b[0m\u001b[0mcolumns\u001b[0m\u001b[0;34m)\u001b[0m\u001b[0;34m\u001b[0m\u001b[0;34m\u001b[0m\u001b[0m\n\u001b[0m\u001b[1;32m     92\u001b[0m             \u001b[0;32mexcept\u001b[0m \u001b[0mValueError\u001b[0m\u001b[0;34m:\u001b[0m\u001b[0;34m\u001b[0m\u001b[0;34m\u001b[0m\u001b[0m\n\u001b[1;32m     93\u001b[0m                 \u001b[0;32mcontinue\u001b[0m\u001b[0;34m\u001b[0m\u001b[0;34m\u001b[0m\u001b[0m\n",
            "\u001b[0;32m<ipython-input-30-afa98c36acca>\u001b[0m in \u001b[0;36mclass_error\u001b[0;34m(self, columns)\u001b[0m\n\u001b[1;32m     14\u001b[0m \u001b[0;34m\u001b[0m\u001b[0m\n\u001b[1;32m     15\u001b[0m         \u001b[0;32mtry\u001b[0m\u001b[0;34m:\u001b[0m\u001b[0;34m\u001b[0m\u001b[0;34m\u001b[0m\u001b[0m\n\u001b[0;32m---> 16\u001b[0;31m             \u001b[0;32mreturn\u001b[0m \u001b[0mself\u001b[0m\u001b[0;34m.\u001b[0m\u001b[0merror\u001b[0m\u001b[0;34m(\u001b[0m\u001b[0mclass_df\u001b[0m\u001b[0;34m,\u001b[0m \u001b[0mclass_df\u001b[0m\u001b[0;34m[\u001b[0m\u001b[0mcolumns\u001b[0m\u001b[0;34m]\u001b[0m\u001b[0;34m,\u001b[0m \u001b[0mself\u001b[0m\u001b[0;34m.\u001b[0m\u001b[0mdistance\u001b[0m\u001b[0;34m)\u001b[0m\u001b[0;34m\u001b[0m\u001b[0;34m\u001b[0m\u001b[0m\n\u001b[0m\u001b[1;32m     17\u001b[0m         \u001b[0;32mexcept\u001b[0m \u001b[0mKeyError\u001b[0m\u001b[0;34m:\u001b[0m\u001b[0;34m\u001b[0m\u001b[0;34m\u001b[0m\u001b[0m\n\u001b[1;32m     18\u001b[0m             \u001b[0;32mraise\u001b[0m \u001b[0mValueError\u001b[0m\u001b[0;34m(\u001b[0m\u001b[0;34m)\u001b[0m\u001b[0;34m\u001b[0m\u001b[0;34m\u001b[0m\u001b[0m\n",
            "\u001b[0;32m<ipython-input-31-5ce3b7a3fc7f>\u001b[0m in \u001b[0;36mkruskal_stress\u001b[0;34m(n_df, l_df, distance_tf)\u001b[0m\n\u001b[1;32m      7\u001b[0m \u001b[0;34m\u001b[0m\u001b[0m\n\u001b[1;32m      8\u001b[0m     \u001b[0mn_distances\u001b[0m \u001b[0;34m=\u001b[0m \u001b[0mdistance_tf\u001b[0m\u001b[0;34m(\u001b[0m\u001b[0mn_df_tensor\u001b[0m\u001b[0;34m[\u001b[0m\u001b[0;34m:\u001b[0m\u001b[0;34m,\u001b[0m \u001b[0;32mNone\u001b[0m\u001b[0;34m,\u001b[0m \u001b[0;34m:\u001b[0m\u001b[0;34m]\u001b[0m\u001b[0;34m,\u001b[0m \u001b[0mn_df_tensor\u001b[0m\u001b[0;34m[\u001b[0m\u001b[0;32mNone\u001b[0m\u001b[0;34m,\u001b[0m \u001b[0;34m:\u001b[0m\u001b[0;34m,\u001b[0m \u001b[0;34m:\u001b[0m\u001b[0;34m]\u001b[0m\u001b[0;34m)\u001b[0m\u001b[0;34m\u001b[0m\u001b[0;34m\u001b[0m\u001b[0m\n\u001b[0;32m----> 9\u001b[0;31m     \u001b[0ml_distances\u001b[0m \u001b[0;34m=\u001b[0m \u001b[0mdistance_tf\u001b[0m\u001b[0;34m(\u001b[0m\u001b[0ml_df_tensor\u001b[0m\u001b[0;34m[\u001b[0m\u001b[0;34m:\u001b[0m\u001b[0;34m,\u001b[0m \u001b[0;32mNone\u001b[0m\u001b[0;34m,\u001b[0m \u001b[0;34m:\u001b[0m\u001b[0;34m]\u001b[0m\u001b[0;34m,\u001b[0m \u001b[0ml_df_tensor\u001b[0m\u001b[0;34m[\u001b[0m\u001b[0;32mNone\u001b[0m\u001b[0;34m,\u001b[0m \u001b[0;34m:\u001b[0m\u001b[0;34m,\u001b[0m \u001b[0;34m:\u001b[0m\u001b[0;34m]\u001b[0m\u001b[0;34m)\u001b[0m\u001b[0;34m\u001b[0m\u001b[0;34m\u001b[0m\u001b[0m\n\u001b[0m\u001b[1;32m     10\u001b[0m \u001b[0;34m\u001b[0m\u001b[0m\n\u001b[1;32m     11\u001b[0m     \u001b[0mnumerator\u001b[0m \u001b[0;34m=\u001b[0m \u001b[0mtf\u001b[0m\u001b[0;34m.\u001b[0m\u001b[0mreduce_sum\u001b[0m\u001b[0;34m(\u001b[0m\u001b[0mtf\u001b[0m\u001b[0;34m.\u001b[0m\u001b[0msquare\u001b[0m\u001b[0;34m(\u001b[0m\u001b[0mn_distances\u001b[0m \u001b[0;34m-\u001b[0m \u001b[0ml_distances\u001b[0m\u001b[0;34m)\u001b[0m\u001b[0;34m)\u001b[0m\u001b[0;34m\u001b[0m\u001b[0;34m\u001b[0m\u001b[0m\n",
            "\u001b[0;32m/usr/local/lib/python3.10/dist-packages/tensorflow/python/util/traceback_utils.py\u001b[0m in \u001b[0;36merror_handler\u001b[0;34m(*args, **kwargs)\u001b[0m\n\u001b[1;32m    148\u001b[0m     \u001b[0mfiltered_tb\u001b[0m \u001b[0;34m=\u001b[0m \u001b[0;32mNone\u001b[0m\u001b[0;34m\u001b[0m\u001b[0;34m\u001b[0m\u001b[0m\n\u001b[1;32m    149\u001b[0m     \u001b[0;32mtry\u001b[0m\u001b[0;34m:\u001b[0m\u001b[0;34m\u001b[0m\u001b[0;34m\u001b[0m\u001b[0m\n\u001b[0;32m--> 150\u001b[0;31m       \u001b[0;32mreturn\u001b[0m \u001b[0mfn\u001b[0m\u001b[0;34m(\u001b[0m\u001b[0;34m*\u001b[0m\u001b[0margs\u001b[0m\u001b[0;34m,\u001b[0m \u001b[0;34m**\u001b[0m\u001b[0mkwargs\u001b[0m\u001b[0;34m)\u001b[0m\u001b[0;34m\u001b[0m\u001b[0;34m\u001b[0m\u001b[0m\n\u001b[0m\u001b[1;32m    151\u001b[0m     \u001b[0;32mexcept\u001b[0m \u001b[0mException\u001b[0m \u001b[0;32mas\u001b[0m \u001b[0me\u001b[0m\u001b[0;34m:\u001b[0m\u001b[0;34m\u001b[0m\u001b[0;34m\u001b[0m\u001b[0m\n\u001b[1;32m    152\u001b[0m       \u001b[0mfiltered_tb\u001b[0m \u001b[0;34m=\u001b[0m \u001b[0m_process_traceback_frames\u001b[0m\u001b[0;34m(\u001b[0m\u001b[0me\u001b[0m\u001b[0;34m.\u001b[0m\u001b[0m__traceback__\u001b[0m\u001b[0;34m)\u001b[0m\u001b[0;34m\u001b[0m\u001b[0;34m\u001b[0m\u001b[0m\n",
            "\u001b[0;32m/usr/local/lib/python3.10/dist-packages/tensorflow/python/util/dispatch.py\u001b[0m in \u001b[0;36mop_dispatch_handler\u001b[0;34m(*args, **kwargs)\u001b[0m\n\u001b[1;32m   1258\u001b[0m       \u001b[0;31m# Fallback dispatch system (dispatch v1):\u001b[0m\u001b[0;34m\u001b[0m\u001b[0;34m\u001b[0m\u001b[0m\n\u001b[1;32m   1259\u001b[0m       \u001b[0;32mtry\u001b[0m\u001b[0;34m:\u001b[0m\u001b[0;34m\u001b[0m\u001b[0;34m\u001b[0m\u001b[0m\n\u001b[0;32m-> 1260\u001b[0;31m         \u001b[0;32mreturn\u001b[0m \u001b[0mdispatch_target\u001b[0m\u001b[0;34m(\u001b[0m\u001b[0;34m*\u001b[0m\u001b[0margs\u001b[0m\u001b[0;34m,\u001b[0m \u001b[0;34m**\u001b[0m\u001b[0mkwargs\u001b[0m\u001b[0;34m)\u001b[0m\u001b[0;34m\u001b[0m\u001b[0;34m\u001b[0m\u001b[0m\n\u001b[0m\u001b[1;32m   1261\u001b[0m       \u001b[0;32mexcept\u001b[0m \u001b[0;34m(\u001b[0m\u001b[0mTypeError\u001b[0m\u001b[0;34m,\u001b[0m \u001b[0mValueError\u001b[0m\u001b[0;34m)\u001b[0m\u001b[0;34m:\u001b[0m\u001b[0;34m\u001b[0m\u001b[0;34m\u001b[0m\u001b[0m\n\u001b[1;32m   1262\u001b[0m         \u001b[0;31m# Note: convert_to_eager_tensor currently raises a ValueError, not a\u001b[0m\u001b[0;34m\u001b[0m\u001b[0;34m\u001b[0m\u001b[0m\n",
            "\u001b[0;32m/usr/local/lib/python3.10/dist-packages/tensorflow/python/ops/array_ops.py\u001b[0m in \u001b[0;36m_slice_helper\u001b[0;34m(tensor, slice_spec, var)\u001b[0m\n\u001b[1;32m   1128\u001b[0m     \u001b[0;32mif\u001b[0m \u001b[0mbegin\u001b[0m\u001b[0;34m:\u001b[0m\u001b[0;34m\u001b[0m\u001b[0;34m\u001b[0m\u001b[0m\n\u001b[1;32m   1129\u001b[0m       packed_begin, packed_end, packed_strides = (\n\u001b[0;32m-> 1130\u001b[0;31m           \u001b[0marray_ops_stack\u001b[0m\u001b[0;34m.\u001b[0m\u001b[0mstack\u001b[0m\u001b[0;34m(\u001b[0m\u001b[0mbegin\u001b[0m\u001b[0;34m)\u001b[0m\u001b[0;34m,\u001b[0m\u001b[0;34m\u001b[0m\u001b[0;34m\u001b[0m\u001b[0m\n\u001b[0m\u001b[1;32m   1131\u001b[0m           \u001b[0marray_ops_stack\u001b[0m\u001b[0;34m.\u001b[0m\u001b[0mstack\u001b[0m\u001b[0;34m(\u001b[0m\u001b[0mend\u001b[0m\u001b[0;34m)\u001b[0m\u001b[0;34m,\u001b[0m\u001b[0;34m\u001b[0m\u001b[0;34m\u001b[0m\u001b[0m\n\u001b[1;32m   1132\u001b[0m           array_ops_stack.stack(strides))\n",
            "\u001b[0;32m/usr/local/lib/python3.10/dist-packages/tensorflow/python/util/traceback_utils.py\u001b[0m in \u001b[0;36merror_handler\u001b[0;34m(*args, **kwargs)\u001b[0m\n\u001b[1;32m    148\u001b[0m     \u001b[0mfiltered_tb\u001b[0m \u001b[0;34m=\u001b[0m \u001b[0;32mNone\u001b[0m\u001b[0;34m\u001b[0m\u001b[0;34m\u001b[0m\u001b[0m\n\u001b[1;32m    149\u001b[0m     \u001b[0;32mtry\u001b[0m\u001b[0;34m:\u001b[0m\u001b[0;34m\u001b[0m\u001b[0;34m\u001b[0m\u001b[0m\n\u001b[0;32m--> 150\u001b[0;31m       \u001b[0;32mreturn\u001b[0m \u001b[0mfn\u001b[0m\u001b[0;34m(\u001b[0m\u001b[0;34m*\u001b[0m\u001b[0margs\u001b[0m\u001b[0;34m,\u001b[0m \u001b[0;34m**\u001b[0m\u001b[0mkwargs\u001b[0m\u001b[0;34m)\u001b[0m\u001b[0;34m\u001b[0m\u001b[0;34m\u001b[0m\u001b[0m\n\u001b[0m\u001b[1;32m    151\u001b[0m     \u001b[0;32mexcept\u001b[0m \u001b[0mException\u001b[0m \u001b[0;32mas\u001b[0m \u001b[0me\u001b[0m\u001b[0;34m:\u001b[0m\u001b[0;34m\u001b[0m\u001b[0;34m\u001b[0m\u001b[0m\n\u001b[1;32m    152\u001b[0m       \u001b[0mfiltered_tb\u001b[0m \u001b[0;34m=\u001b[0m \u001b[0m_process_traceback_frames\u001b[0m\u001b[0;34m(\u001b[0m\u001b[0me\u001b[0m\u001b[0;34m.\u001b[0m\u001b[0m__traceback__\u001b[0m\u001b[0;34m)\u001b[0m\u001b[0;34m\u001b[0m\u001b[0;34m\u001b[0m\u001b[0m\n",
            "\u001b[0;32m/usr/local/lib/python3.10/dist-packages/tensorflow/python/util/dispatch.py\u001b[0m in \u001b[0;36mop_dispatch_handler\u001b[0;34m(*args, **kwargs)\u001b[0m\n\u001b[1;32m   1258\u001b[0m       \u001b[0;31m# Fallback dispatch system (dispatch v1):\u001b[0m\u001b[0;34m\u001b[0m\u001b[0;34m\u001b[0m\u001b[0m\n\u001b[1;32m   1259\u001b[0m       \u001b[0;32mtry\u001b[0m\u001b[0;34m:\u001b[0m\u001b[0;34m\u001b[0m\u001b[0;34m\u001b[0m\u001b[0m\n\u001b[0;32m-> 1260\u001b[0;31m         \u001b[0;32mreturn\u001b[0m \u001b[0mdispatch_target\u001b[0m\u001b[0;34m(\u001b[0m\u001b[0;34m*\u001b[0m\u001b[0margs\u001b[0m\u001b[0;34m,\u001b[0m \u001b[0;34m**\u001b[0m\u001b[0mkwargs\u001b[0m\u001b[0;34m)\u001b[0m\u001b[0;34m\u001b[0m\u001b[0;34m\u001b[0m\u001b[0m\n\u001b[0m\u001b[1;32m   1261\u001b[0m       \u001b[0;32mexcept\u001b[0m \u001b[0;34m(\u001b[0m\u001b[0mTypeError\u001b[0m\u001b[0;34m,\u001b[0m \u001b[0mValueError\u001b[0m\u001b[0;34m)\u001b[0m\u001b[0;34m:\u001b[0m\u001b[0;34m\u001b[0m\u001b[0;34m\u001b[0m\u001b[0m\n\u001b[1;32m   1262\u001b[0m         \u001b[0;31m# Note: convert_to_eager_tensor currently raises a ValueError, not a\u001b[0m\u001b[0;34m\u001b[0m\u001b[0;34m\u001b[0m\u001b[0m\n",
            "\u001b[0;32m/usr/local/lib/python3.10/dist-packages/tensorflow/python/ops/array_ops_stack.py\u001b[0m in \u001b[0;36mstack\u001b[0;34m(values, axis, name)\u001b[0m\n\u001b[1;32m     72\u001b[0m     \u001b[0;32mtry\u001b[0m\u001b[0;34m:\u001b[0m\u001b[0;34m\u001b[0m\u001b[0;34m\u001b[0m\u001b[0m\n\u001b[1;32m     73\u001b[0m       \u001b[0;31m# If the input is a constant list, it can be converted to a constant op\u001b[0m\u001b[0;34m\u001b[0m\u001b[0;34m\u001b[0m\u001b[0m\n\u001b[0;32m---> 74\u001b[0;31m       \u001b[0;32mreturn\u001b[0m \u001b[0mops\u001b[0m\u001b[0;34m.\u001b[0m\u001b[0mconvert_to_tensor\u001b[0m\u001b[0;34m(\u001b[0m\u001b[0mvalues\u001b[0m\u001b[0;34m,\u001b[0m \u001b[0mname\u001b[0m\u001b[0;34m=\u001b[0m\u001b[0mname\u001b[0m\u001b[0;34m)\u001b[0m\u001b[0;34m\u001b[0m\u001b[0;34m\u001b[0m\u001b[0m\n\u001b[0m\u001b[1;32m     75\u001b[0m     \u001b[0;32mexcept\u001b[0m \u001b[0;34m(\u001b[0m\u001b[0mTypeError\u001b[0m\u001b[0;34m,\u001b[0m \u001b[0mValueError\u001b[0m\u001b[0;34m,\u001b[0m \u001b[0mNotImplementedError\u001b[0m\u001b[0;34m)\u001b[0m\u001b[0;34m:\u001b[0m\u001b[0;34m\u001b[0m\u001b[0;34m\u001b[0m\u001b[0m\n\u001b[1;32m     76\u001b[0m       \u001b[0;32mpass\u001b[0m  \u001b[0;31m# Input list contains non-constant tensors\u001b[0m\u001b[0;34m\u001b[0m\u001b[0;34m\u001b[0m\u001b[0m\n",
            "\u001b[0;32m/usr/local/lib/python3.10/dist-packages/tensorflow/python/profiler/trace.py\u001b[0m in \u001b[0;36mwrapped\u001b[0;34m(*args, **kwargs)\u001b[0m\n\u001b[1;32m    181\u001b[0m         \u001b[0;32mwith\u001b[0m \u001b[0mTrace\u001b[0m\u001b[0;34m(\u001b[0m\u001b[0mtrace_name\u001b[0m\u001b[0;34m,\u001b[0m \u001b[0;34m**\u001b[0m\u001b[0mtrace_kwargs\u001b[0m\u001b[0;34m)\u001b[0m\u001b[0;34m:\u001b[0m\u001b[0;34m\u001b[0m\u001b[0;34m\u001b[0m\u001b[0m\n\u001b[1;32m    182\u001b[0m           \u001b[0;32mreturn\u001b[0m \u001b[0mfunc\u001b[0m\u001b[0;34m(\u001b[0m\u001b[0;34m*\u001b[0m\u001b[0margs\u001b[0m\u001b[0;34m,\u001b[0m \u001b[0;34m**\u001b[0m\u001b[0mkwargs\u001b[0m\u001b[0;34m)\u001b[0m\u001b[0;34m\u001b[0m\u001b[0;34m\u001b[0m\u001b[0m\n\u001b[0;32m--> 183\u001b[0;31m       \u001b[0;32mreturn\u001b[0m \u001b[0mfunc\u001b[0m\u001b[0;34m(\u001b[0m\u001b[0;34m*\u001b[0m\u001b[0margs\u001b[0m\u001b[0;34m,\u001b[0m \u001b[0;34m**\u001b[0m\u001b[0mkwargs\u001b[0m\u001b[0;34m)\u001b[0m\u001b[0;34m\u001b[0m\u001b[0;34m\u001b[0m\u001b[0m\n\u001b[0m\u001b[1;32m    184\u001b[0m \u001b[0;34m\u001b[0m\u001b[0m\n\u001b[1;32m    185\u001b[0m     \u001b[0;32mreturn\u001b[0m \u001b[0mwrapped\u001b[0m\u001b[0;34m\u001b[0m\u001b[0;34m\u001b[0m\u001b[0m\n",
            "\u001b[0;32m/usr/local/lib/python3.10/dist-packages/tensorflow/python/framework/ops.py\u001b[0m in \u001b[0;36mconvert_to_tensor\u001b[0;34m(value, dtype, name, as_ref, preferred_dtype, dtype_hint, ctx, accepted_result_types)\u001b[0m\n\u001b[1;32m    694\u001b[0m   \u001b[0;31m# TODO(b/142518781): Fix all call-sites and remove redundant arg\u001b[0m\u001b[0;34m\u001b[0m\u001b[0;34m\u001b[0m\u001b[0m\n\u001b[1;32m    695\u001b[0m   \u001b[0mpreferred_dtype\u001b[0m \u001b[0;34m=\u001b[0m \u001b[0mpreferred_dtype\u001b[0m \u001b[0;32mor\u001b[0m \u001b[0mdtype_hint\u001b[0m\u001b[0;34m\u001b[0m\u001b[0;34m\u001b[0m\u001b[0m\n\u001b[0;32m--> 696\u001b[0;31m   return tensor_conversion_registry.convert(\n\u001b[0m\u001b[1;32m    697\u001b[0m       \u001b[0mvalue\u001b[0m\u001b[0;34m,\u001b[0m \u001b[0mdtype\u001b[0m\u001b[0;34m,\u001b[0m \u001b[0mname\u001b[0m\u001b[0;34m,\u001b[0m \u001b[0mas_ref\u001b[0m\u001b[0;34m,\u001b[0m \u001b[0mpreferred_dtype\u001b[0m\u001b[0;34m,\u001b[0m \u001b[0maccepted_result_types\u001b[0m\u001b[0;34m\u001b[0m\u001b[0;34m\u001b[0m\u001b[0m\n\u001b[1;32m    698\u001b[0m   )\n",
            "\u001b[0;32m/usr/local/lib/python3.10/dist-packages/tensorflow/python/framework/tensor_conversion_registry.py\u001b[0m in \u001b[0;36mconvert\u001b[0;34m(value, dtype, name, as_ref, preferred_dtype, accepted_result_types)\u001b[0m\n\u001b[1;32m    232\u001b[0m \u001b[0;34m\u001b[0m\u001b[0m\n\u001b[1;32m    233\u001b[0m     \u001b[0;32mif\u001b[0m \u001b[0mret\u001b[0m \u001b[0;32mis\u001b[0m \u001b[0;32mNone\u001b[0m\u001b[0;34m:\u001b[0m\u001b[0;34m\u001b[0m\u001b[0;34m\u001b[0m\u001b[0m\n\u001b[0;32m--> 234\u001b[0;31m       \u001b[0mret\u001b[0m \u001b[0;34m=\u001b[0m \u001b[0mconversion_func\u001b[0m\u001b[0;34m(\u001b[0m\u001b[0mvalue\u001b[0m\u001b[0;34m,\u001b[0m \u001b[0mdtype\u001b[0m\u001b[0;34m=\u001b[0m\u001b[0mdtype\u001b[0m\u001b[0;34m,\u001b[0m \u001b[0mname\u001b[0m\u001b[0;34m=\u001b[0m\u001b[0mname\u001b[0m\u001b[0;34m,\u001b[0m \u001b[0mas_ref\u001b[0m\u001b[0;34m=\u001b[0m\u001b[0mas_ref\u001b[0m\u001b[0;34m)\u001b[0m\u001b[0;34m\u001b[0m\u001b[0;34m\u001b[0m\u001b[0m\n\u001b[0m\u001b[1;32m    235\u001b[0m \u001b[0;34m\u001b[0m\u001b[0m\n\u001b[1;32m    236\u001b[0m     \u001b[0;32mif\u001b[0m \u001b[0mret\u001b[0m \u001b[0;32mis\u001b[0m \u001b[0mNotImplemented\u001b[0m\u001b[0;34m:\u001b[0m\u001b[0;34m\u001b[0m\u001b[0;34m\u001b[0m\u001b[0m\n",
            "\u001b[0;32m/usr/local/lib/python3.10/dist-packages/tensorflow/python/framework/constant_op.py\u001b[0m in \u001b[0;36m_constant_tensor_conversion_function\u001b[0;34m(v, dtype, name, as_ref)\u001b[0m\n\u001b[1;32m    333\u001b[0m                                          as_ref=False):\n\u001b[1;32m    334\u001b[0m   \u001b[0m_\u001b[0m \u001b[0;34m=\u001b[0m \u001b[0mas_ref\u001b[0m\u001b[0;34m\u001b[0m\u001b[0;34m\u001b[0m\u001b[0m\n\u001b[0;32m--> 335\u001b[0;31m   \u001b[0;32mreturn\u001b[0m \u001b[0mconstant\u001b[0m\u001b[0;34m(\u001b[0m\u001b[0mv\u001b[0m\u001b[0;34m,\u001b[0m \u001b[0mdtype\u001b[0m\u001b[0;34m=\u001b[0m\u001b[0mdtype\u001b[0m\u001b[0;34m,\u001b[0m \u001b[0mname\u001b[0m\u001b[0;34m=\u001b[0m\u001b[0mname\u001b[0m\u001b[0;34m)\u001b[0m\u001b[0;34m\u001b[0m\u001b[0;34m\u001b[0m\u001b[0m\n\u001b[0m\u001b[1;32m    336\u001b[0m \u001b[0;34m\u001b[0m\u001b[0m\n\u001b[1;32m    337\u001b[0m \u001b[0;31m# Register the conversion function for the \"unconvertible\" types\u001b[0m\u001b[0;34m\u001b[0m\u001b[0;34m\u001b[0m\u001b[0m\n",
            "\u001b[0;32m/usr/local/lib/python3.10/dist-packages/tensorflow/python/ops/weak_tensor_ops.py\u001b[0m in \u001b[0;36mwrapper\u001b[0;34m(*args, **kwargs)\u001b[0m\n\u001b[1;32m    140\u001b[0m   \u001b[0;32mdef\u001b[0m \u001b[0mwrapper\u001b[0m\u001b[0;34m(\u001b[0m\u001b[0;34m*\u001b[0m\u001b[0margs\u001b[0m\u001b[0;34m,\u001b[0m \u001b[0;34m**\u001b[0m\u001b[0mkwargs\u001b[0m\u001b[0;34m)\u001b[0m\u001b[0;34m:\u001b[0m\u001b[0;34m\u001b[0m\u001b[0;34m\u001b[0m\u001b[0m\n\u001b[1;32m    141\u001b[0m     \u001b[0;32mif\u001b[0m \u001b[0;32mnot\u001b[0m \u001b[0mops\u001b[0m\u001b[0;34m.\u001b[0m\u001b[0mis_auto_dtype_conversion_enabled\u001b[0m\u001b[0;34m(\u001b[0m\u001b[0;34m)\u001b[0m\u001b[0;34m:\u001b[0m\u001b[0;34m\u001b[0m\u001b[0;34m\u001b[0m\u001b[0m\n\u001b[0;32m--> 142\u001b[0;31m       \u001b[0;32mreturn\u001b[0m \u001b[0mop\u001b[0m\u001b[0;34m(\u001b[0m\u001b[0;34m*\u001b[0m\u001b[0margs\u001b[0m\u001b[0;34m,\u001b[0m \u001b[0;34m**\u001b[0m\u001b[0mkwargs\u001b[0m\u001b[0;34m)\u001b[0m\u001b[0;34m\u001b[0m\u001b[0;34m\u001b[0m\u001b[0m\n\u001b[0m\u001b[1;32m    143\u001b[0m     \u001b[0mbound_arguments\u001b[0m \u001b[0;34m=\u001b[0m \u001b[0msignature\u001b[0m\u001b[0;34m.\u001b[0m\u001b[0mbind\u001b[0m\u001b[0;34m(\u001b[0m\u001b[0;34m*\u001b[0m\u001b[0margs\u001b[0m\u001b[0;34m,\u001b[0m \u001b[0;34m**\u001b[0m\u001b[0mkwargs\u001b[0m\u001b[0;34m)\u001b[0m\u001b[0;34m\u001b[0m\u001b[0;34m\u001b[0m\u001b[0m\n\u001b[1;32m    144\u001b[0m     \u001b[0mbound_arguments\u001b[0m\u001b[0;34m.\u001b[0m\u001b[0mapply_defaults\u001b[0m\u001b[0;34m(\u001b[0m\u001b[0;34m)\u001b[0m\u001b[0;34m\u001b[0m\u001b[0;34m\u001b[0m\u001b[0m\n",
            "\u001b[0;32m/usr/local/lib/python3.10/dist-packages/tensorflow/python/framework/constant_op.py\u001b[0m in \u001b[0;36mconstant\u001b[0;34m(value, dtype, shape, name)\u001b[0m\n\u001b[1;32m    269\u001b[0m     \u001b[0mValueError\u001b[0m\u001b[0;34m:\u001b[0m \u001b[0;32mif\u001b[0m \u001b[0mcalled\u001b[0m \u001b[0mon\u001b[0m \u001b[0ma\u001b[0m \u001b[0msymbolic\u001b[0m \u001b[0mtensor\u001b[0m\u001b[0;34m.\u001b[0m\u001b[0;34m\u001b[0m\u001b[0;34m\u001b[0m\u001b[0m\n\u001b[1;32m    270\u001b[0m   \"\"\"\n\u001b[0;32m--> 271\u001b[0;31m   return _constant_impl(value, dtype, shape, name, verify_shape=False,\n\u001b[0m\u001b[1;32m    272\u001b[0m                         allow_broadcast=True)\n\u001b[1;32m    273\u001b[0m \u001b[0;34m\u001b[0m\u001b[0m\n",
            "\u001b[0;32m/usr/local/lib/python3.10/dist-packages/tensorflow/python/framework/constant_op.py\u001b[0m in \u001b[0;36m_constant_impl\u001b[0;34m(value, dtype, shape, name, verify_shape, allow_broadcast)\u001b[0m\n\u001b[1;32m    282\u001b[0m       \u001b[0;32mwith\u001b[0m \u001b[0mtrace\u001b[0m\u001b[0;34m.\u001b[0m\u001b[0mTrace\u001b[0m\u001b[0;34m(\u001b[0m\u001b[0;34m\"tf.constant\"\u001b[0m\u001b[0;34m)\u001b[0m\u001b[0;34m:\u001b[0m\u001b[0;34m\u001b[0m\u001b[0;34m\u001b[0m\u001b[0m\n\u001b[1;32m    283\u001b[0m         \u001b[0;32mreturn\u001b[0m \u001b[0m_constant_eager_impl\u001b[0m\u001b[0;34m(\u001b[0m\u001b[0mctx\u001b[0m\u001b[0;34m,\u001b[0m \u001b[0mvalue\u001b[0m\u001b[0;34m,\u001b[0m \u001b[0mdtype\u001b[0m\u001b[0;34m,\u001b[0m \u001b[0mshape\u001b[0m\u001b[0;34m,\u001b[0m \u001b[0mverify_shape\u001b[0m\u001b[0;34m)\u001b[0m\u001b[0;34m\u001b[0m\u001b[0;34m\u001b[0m\u001b[0m\n\u001b[0;32m--> 284\u001b[0;31m     \u001b[0;32mreturn\u001b[0m \u001b[0m_constant_eager_impl\u001b[0m\u001b[0;34m(\u001b[0m\u001b[0mctx\u001b[0m\u001b[0;34m,\u001b[0m \u001b[0mvalue\u001b[0m\u001b[0;34m,\u001b[0m \u001b[0mdtype\u001b[0m\u001b[0;34m,\u001b[0m \u001b[0mshape\u001b[0m\u001b[0;34m,\u001b[0m \u001b[0mverify_shape\u001b[0m\u001b[0;34m)\u001b[0m\u001b[0;34m\u001b[0m\u001b[0;34m\u001b[0m\u001b[0m\n\u001b[0m\u001b[1;32m    285\u001b[0m \u001b[0;34m\u001b[0m\u001b[0m\n\u001b[1;32m    286\u001b[0m   const_tensor = ops._create_graph_constant(  # pylint: disable=protected-access\n",
            "\u001b[0;32m/usr/local/lib/python3.10/dist-packages/tensorflow/python/framework/constant_op.py\u001b[0m in \u001b[0;36m_constant_eager_impl\u001b[0;34m(ctx, value, dtype, shape, verify_shape)\u001b[0m\n\u001b[1;32m    294\u001b[0m ) -> ops._EagerTensorBase:\n\u001b[1;32m    295\u001b[0m   \u001b[0;34m\"\"\"Creates a constant on the current device.\"\"\"\u001b[0m\u001b[0;34m\u001b[0m\u001b[0;34m\u001b[0m\u001b[0m\n\u001b[0;32m--> 296\u001b[0;31m   \u001b[0mt\u001b[0m \u001b[0;34m=\u001b[0m \u001b[0mconvert_to_eager_tensor\u001b[0m\u001b[0;34m(\u001b[0m\u001b[0mvalue\u001b[0m\u001b[0;34m,\u001b[0m \u001b[0mctx\u001b[0m\u001b[0;34m,\u001b[0m \u001b[0mdtype\u001b[0m\u001b[0;34m)\u001b[0m\u001b[0;34m\u001b[0m\u001b[0;34m\u001b[0m\u001b[0m\n\u001b[0m\u001b[1;32m    297\u001b[0m   \u001b[0;32mif\u001b[0m \u001b[0mshape\u001b[0m \u001b[0;32mis\u001b[0m \u001b[0;32mNone\u001b[0m\u001b[0;34m:\u001b[0m\u001b[0;34m\u001b[0m\u001b[0;34m\u001b[0m\u001b[0m\n\u001b[1;32m    298\u001b[0m     \u001b[0;32mreturn\u001b[0m \u001b[0mt\u001b[0m\u001b[0;34m\u001b[0m\u001b[0;34m\u001b[0m\u001b[0m\n",
            "\u001b[0;32m/usr/local/lib/python3.10/dist-packages/tensorflow/python/framework/constant_op.py\u001b[0m in \u001b[0;36mconvert_to_eager_tensor\u001b[0;34m(value, ctx, dtype)\u001b[0m\n\u001b[1;32m    101\u001b[0m       \u001b[0mdtype\u001b[0m \u001b[0;34m=\u001b[0m \u001b[0mdtypes\u001b[0m\u001b[0;34m.\u001b[0m\u001b[0mas_dtype\u001b[0m\u001b[0;34m(\u001b[0m\u001b[0mdtype\u001b[0m\u001b[0;34m)\u001b[0m\u001b[0;34m.\u001b[0m\u001b[0mas_datatype_enum\u001b[0m\u001b[0;34m\u001b[0m\u001b[0;34m\u001b[0m\u001b[0m\n\u001b[1;32m    102\u001b[0m   \u001b[0mctx\u001b[0m\u001b[0;34m.\u001b[0m\u001b[0mensure_initialized\u001b[0m\u001b[0;34m(\u001b[0m\u001b[0;34m)\u001b[0m\u001b[0;34m\u001b[0m\u001b[0;34m\u001b[0m\u001b[0m\n\u001b[0;32m--> 103\u001b[0;31m   \u001b[0;32mreturn\u001b[0m \u001b[0mops\u001b[0m\u001b[0;34m.\u001b[0m\u001b[0mEagerTensor\u001b[0m\u001b[0;34m(\u001b[0m\u001b[0mvalue\u001b[0m\u001b[0;34m,\u001b[0m \u001b[0mctx\u001b[0m\u001b[0;34m.\u001b[0m\u001b[0mdevice_name\u001b[0m\u001b[0;34m,\u001b[0m \u001b[0mdtype\u001b[0m\u001b[0;34m)\u001b[0m\u001b[0;34m\u001b[0m\u001b[0;34m\u001b[0m\u001b[0m\n\u001b[0m\u001b[1;32m    104\u001b[0m \u001b[0;34m\u001b[0m\u001b[0m\n\u001b[1;32m    105\u001b[0m \u001b[0;34m\u001b[0m\u001b[0m\n",
            "\u001b[0;31mKeyboardInterrupt\u001b[0m: "
          ]
        }
      ],
      "source": [
        "generic_algorithm_runner.run_experiments()"
      ]
    },
    {
      "cell_type": "code",
      "execution_count": null,
      "id": "1f440a1c",
      "metadata": {
        "id": "1f440a1c"
      },
      "outputs": [],
      "source": [
        "class PSOAlgorithm(OptimizationAlgorithmInterface):\n",
        "    def __init__(self, repos_train):\n",
        "        self.n = 10\n",
        "        self.repos_train = repos_train\n",
        "\n",
        "    def _all_nans(self, dataset):\n",
        "        flag = True\n",
        "\n",
        "        for index, row in dataset.iterrows():\n",
        "            for cell in row:\n",
        "                if not pd.isnull(cell):\n",
        "                    flag = False\n",
        "                    break\n",
        "            if not flag:\n",
        "                break\n",
        "\n",
        "        return flag\n",
        "\n",
        "    def _total_error_method(self, columns):\n",
        "        results = []\n",
        "\n",
        "        # collect errors\n",
        "        for repo in repositories:\n",
        "            try:\n",
        "                if self._all_nans(repo.get_method_df()):\n",
        "                    continue\n",
        "            except ValueError:\n",
        "                continue\n",
        "\n",
        "            try:\n",
        "                result = ErrorRepositoryResults(repo, kruskal_stress, eq_distance).method_error(columns)\n",
        "            except ValueError:\n",
        "                continue\n",
        "\n",
        "            results.append(result)\n",
        "\n",
        "        return self.aggregate_results(np.array(results))\n",
        "\n",
        "    def _total_error_class(self, columns):\n",
        "        results = []\n",
        "\n",
        "        # collect errors\n",
        "        for repo in repositories:\n",
        "            try:\n",
        "                if self._all_nans(repo.get_class_df()):\n",
        "                    continue\n",
        "            except ValueError:\n",
        "                continue\n",
        "\n",
        "            try:\n",
        "                result = ErrorRepositoryResults(repo, kruskal_stress, eq_distance).class_error(columns)\n",
        "                # print(\"result: \" + str(result))\n",
        "            except ValueError:\n",
        "                continue\n",
        "\n",
        "            results.append(result)\n",
        "\n",
        "        return self.aggregate_results(np.array(results))\n",
        "\n",
        "    def _class_error_wrapper(self, repo):\n",
        "        def error(x):\n",
        "            x = np.array(x)\n",
        "\n",
        "            subset = [class_columns[i] for i in x.argsort()[-self.n:][::-1]]\n",
        "\n",
        "            if len(subset) == 0:\n",
        "                return float('inf')  # Avoid empty subset\n",
        "            else:\n",
        "                try:\n",
        "                    return ErrorRepositoryResults(repo, kruskal_stress, eq_distance).class_error(subset)\n",
        "                except ValueError:\n",
        "                    return float('inf')\n",
        "\n",
        "        return error\n",
        "\n",
        "    def _method_error_wrapper(self, repo):\n",
        "        def error(x):\n",
        "            x = np.array(x)\n",
        "\n",
        "            subset = [class_columns[i] for i in x.argsort()[-self.n:][::-1]]\n",
        "\n",
        "            if len(subset) == 0:\n",
        "                return float('inf')  # Avoid empty subset\n",
        "            else:\n",
        "                try:\n",
        "                    return ErrorRepositoryResults(repo, kruskal_stress, eq_distance).method_error(subset)\n",
        "                except ValueError:\n",
        "                    return float('inf')\n",
        "\n",
        "        return error\n",
        "\n",
        "    def _run_experiments_on_classes(self):\n",
        "        lower_bounds = [0] * len(class_columns)\n",
        "        upper_bounds = [1] * len(class_columns)\n",
        "\n",
        "        for subset_size in range (1, len(class_columns) + 1):\n",
        "            best_subset = []\n",
        "            best_error = 1\n",
        "            for i in tqdm(range(len(self.repos_train))):\n",
        "                if self._all_nans(self.repos_train[i].get_class_df()):\n",
        "                    continue\n",
        "\n",
        "                repo = self.repos_train[i]\n",
        "\n",
        "                N = subset_size\n",
        "\n",
        "                try:\n",
        "                    pso = PSO(func=self._class_error_wrapper(repo), n_dim=len(class_columns),pop=30, max_iter=30, lb=lower_bounds, ub=upper_bounds,w=0.6, c1=2, c2=2, verbose=False)\n",
        "                    pso.record_mode = True\n",
        "                    pso.run()\n",
        "                except ValueError:\n",
        "                    continue\n",
        "\n",
        "                x = np.array(pso.gbest_x)[0]\n",
        "\n",
        "                optimal_subset = [class_columns[i] for i in x.argsort()[-N:][::-1]]\n",
        "                optimal_subset_error = self._total_error_class(optimal_subset)\n",
        "\n",
        "                print(\"optimal subset: \" + str(optimal_subset))\n",
        "                print(\"optimal subset error: \" + str(optimal_subset_error))\n",
        "\n",
        "                if optimal_subset_error < best_error:\n",
        "                    best_error = optimal_subset_error\n",
        "                    best_subset = optimal_subset\n",
        "\n",
        "            print(f\"subset: {best_subset}\")\n",
        "            print(f\"subset size: {len(best_subset)}\")\n",
        "            print(f\"error: {best_error}\")\n",
        "\n",
        "    def _run_experiments_on_methods(self):\n",
        "        lower_bounds = [0] * len(method_columns)\n",
        "        upper_bounds = [1] * len(method_columns)\n",
        "\n",
        "        for subset_size in range (1, len(method_columns) + 1):\n",
        "            best_subset = []\n",
        "            best_error = 1\n",
        "            for i in tqdm(range(len(self.repos_train))):\n",
        "                if self._all_nans(self.repos_train[i].get_method_df()):\n",
        "                    continue\n",
        "\n",
        "                repo = self.repos_train[i]\n",
        "\n",
        "                N = subset_size\n",
        "\n",
        "                try:\n",
        "                    pso = PSO(func=self._method_error_wrapper(repo), n_dim=len(method_columns),pop=30, max_iter=30, lb=lower_bounds, ub=upper_bounds,w=0.6, c1=2, c2=2, verbose=False)\n",
        "                    pso.record_mode = True\n",
        "                    pso.run()\n",
        "                except ValueError:\n",
        "                    continue\n",
        "\n",
        "                x = np.array(pso.gbest_x)[0]\n",
        "\n",
        "                optimal_subset = [method_columns[i] for i in x.argsort()[-N:][::-1]]\n",
        "                optimal_subset_error = self._total_error_method(optimal_subset)\n",
        "\n",
        "                print(\"optimal subset: \" + str(optimal_subset))\n",
        "                print(\"optimal subset error: \" + str(optimal_subset_error))\n",
        "\n",
        "                if optimal_subset_error < best_error:\n",
        "                    best_error = optimal_subset_error\n",
        "                    best_subset = optimal_subset\n",
        "\n",
        "            print(f\"subset: {best_subset}\")\n",
        "            print(f\"subset size: {len(best_subset)}\")\n",
        "            print(f\"error: {best_error}\")\n",
        "\n",
        "    def run_experiments(self):\n",
        "        self._run_experiments_on_classes()\n",
        "\n",
        "        self._run_experiments_on_methods()"
      ]
    },
    {
      "cell_type": "code",
      "source": [
        "from sklearn.model_selection import train_test_split\n",
        "repos_train, repos_test = train_test_split(repositories, test_size=0.2, random_state=1)"
      ],
      "metadata": {
        "id": "u1UTNKHi9ey3"
      },
      "id": "u1UTNKHi9ey3",
      "execution_count": null,
      "outputs": []
    },
    {
      "cell_type": "code",
      "source": [
        "pso_algorithm_runner = ExperimentRunner(repositories, PSOAlgorithm(repos_train))"
      ],
      "metadata": {
        "id": "03dcrqY29QZw"
      },
      "id": "03dcrqY29QZw",
      "execution_count": null,
      "outputs": []
    },
    {
      "cell_type": "code",
      "source": [
        "pso_algorithm_runner.run_experiments()"
      ],
      "metadata": {
        "colab": {
          "base_uri": "https://localhost:8080/",
          "height": 1000
        },
        "id": "7xNiKQR_9iVF",
        "outputId": "3a7b981e-e4fe-4197-ca63-eff122aef14b"
      },
      "id": "7xNiKQR_9iVF",
      "execution_count": null,
      "outputs": [
        {
          "output_type": "stream",
          "name": "stderr",
          "text": [
            "  1%|          | 1/96 [00:02<03:40,  2.32s/it]"
          ]
        },
        {
          "output_type": "stream",
          "name": "stdout",
          "text": [
            "optimal subset: ['assignmentsQty']\n",
            "optimal subset error: 0.9931091822373502\n"
          ]
        },
        {
          "output_type": "stream",
          "name": "stderr",
          "text": [
            "\r  2%|▏         | 2/96 [00:04<03:21,  2.15s/it]"
          ]
        },
        {
          "output_type": "stream",
          "name": "stdout",
          "text": [
            "optimal subset: ['lambdasQty']\n",
            "optimal subset error: 0.9996979617848296\n"
          ]
        },
        {
          "output_type": "stream",
          "name": "stderr",
          "text": [
            "\r  3%|▎         | 3/96 [00:05<02:45,  1.78s/it]"
          ]
        },
        {
          "output_type": "stream",
          "name": "stdout",
          "text": [
            "optimal subset: ['returnsQty']\n",
            "optimal subset error: 0.9980988968956733\n"
          ]
        },
        {
          "output_type": "stream",
          "name": "stderr",
          "text": [
            "\r  4%|▍         | 4/96 [00:06<02:05,  1.37s/it]"
          ]
        },
        {
          "output_type": "stream",
          "name": "stdout",
          "text": [
            "optimal subset: ['fanin']\n",
            "optimal subset error: 0.9950294681451853\n"
          ]
        },
        {
          "output_type": "stream",
          "name": "stderr",
          "text": [
            "\r  5%|▌         | 5/96 [00:07<01:43,  1.13s/it]"
          ]
        },
        {
          "output_type": "stream",
          "name": "stdout",
          "text": [
            "optimal subset: ['hasJavaDoc']\n",
            "optimal subset error: 0.9993259491070883\n"
          ]
        },
        {
          "output_type": "stream",
          "name": "stderr",
          "text": [
            "\r  6%|▋         | 6/96 [00:07<01:29,  1.01it/s]"
          ]
        },
        {
          "output_type": "stream",
          "name": "stdout",
          "text": [
            "optimal subset: ['fanin']\n",
            "optimal subset error: 0.9950294681451853\n"
          ]
        },
        {
          "output_type": "stream",
          "name": "stderr",
          "text": [
            "\r  7%|▋         | 7/96 [00:08<01:20,  1.10it/s]"
          ]
        },
        {
          "output_type": "stream",
          "name": "stdout",
          "text": [
            "optimal subset: ['variablesQty']\n",
            "optimal subset error: 0.9949437316461129\n"
          ]
        },
        {
          "output_type": "stream",
          "name": "stderr",
          "text": [
            "\r  8%|▊         | 8/96 [00:09<01:14,  1.18it/s]"
          ]
        },
        {
          "output_type": "stream",
          "name": "stdout",
          "text": [
            "optimal subset: ['variablesQty']\n",
            "optimal subset error: 0.9949437316461129\n"
          ]
        },
        {
          "output_type": "stream",
          "name": "stderr",
          "text": [
            "\r  9%|▉         | 9/96 [00:10<01:10,  1.23it/s]"
          ]
        },
        {
          "output_type": "stream",
          "name": "stdout",
          "text": [
            "optimal subset: ['comparisonsQty']\n",
            "optimal subset error: 0.998703154146952\n"
          ]
        },
        {
          "output_type": "stream",
          "name": "stderr",
          "text": [
            "\r 10%|█         | 10/96 [00:10<01:07,  1.28it/s]"
          ]
        },
        {
          "output_type": "stream",
          "name": "stdout",
          "text": [
            "optimal subset: ['uniqueWordsQty']\n",
            "optimal subset error: 0.9735487366182595\n"
          ]
        },
        {
          "output_type": "stream",
          "name": "stderr",
          "text": [
            "\r 11%|█▏        | 11/96 [00:11<01:04,  1.31it/s]"
          ]
        },
        {
          "output_type": "stream",
          "name": "stdout",
          "text": [
            "optimal subset: ['loc']\n",
            "optimal subset error: 0.978934230136263\n"
          ]
        },
        {
          "output_type": "stream",
          "name": "stderr",
          "text": [
            "\r 12%|█▎        | 12/96 [00:12<01:03,  1.33it/s]"
          ]
        },
        {
          "output_type": "stream",
          "name": "stdout",
          "text": [
            "optimal subset: ['anonymousClassesQty']\n",
            "optimal subset error: 0.9999254047719159\n"
          ]
        },
        {
          "output_type": "stream",
          "name": "stderr",
          "text": [
            "\r 14%|█▎        | 13/96 [00:12<01:01,  1.35it/s]"
          ]
        },
        {
          "output_type": "stream",
          "name": "stdout",
          "text": [
            "optimal subset: ['methodsInvokedQty']\n",
            "optimal subset error: 0.9877234891636131\n"
          ]
        },
        {
          "output_type": "stream",
          "name": "stderr",
          "text": [
            "\r 15%|█▍        | 14/96 [00:13<00:59,  1.37it/s]"
          ]
        },
        {
          "output_type": "stream",
          "name": "stdout",
          "text": [
            "optimal subset: ['methodsInvokedLocalQty']\n",
            "optimal subset error: 0.9989151073466435\n"
          ]
        },
        {
          "output_type": "stream",
          "name": "stderr",
          "text": [
            "\r 16%|█▌        | 15/96 [00:14<00:58,  1.38it/s]"
          ]
        },
        {
          "output_type": "stream",
          "name": "stdout",
          "text": [
            "optimal subset: ['cboModified']\n",
            "optimal subset error: 0.9887828519259149\n"
          ]
        },
        {
          "output_type": "stream",
          "name": "stderr",
          "text": [
            "\r 17%|█▋        | 16/96 [00:15<00:57,  1.38it/s]"
          ]
        },
        {
          "output_type": "stream",
          "name": "stdout",
          "text": [
            "optimal subset: ['rfc']\n",
            "optimal subset error: 0.9877234891636131\n"
          ]
        },
        {
          "output_type": "stream",
          "name": "stderr",
          "text": [
            "\r 18%|█▊        | 17/96 [00:15<01:01,  1.28it/s]"
          ]
        },
        {
          "output_type": "stream",
          "name": "stdout",
          "text": [
            "optimal subset: ['comparisonsQty']\n",
            "optimal subset error: 0.998703154146952\n"
          ]
        },
        {
          "output_type": "stream",
          "name": "stderr",
          "text": [
            "\r 19%|█▉        | 18/96 [00:16<01:05,  1.19it/s]"
          ]
        },
        {
          "output_type": "stream",
          "name": "stdout",
          "text": [
            "optimal subset: ['loc']\n",
            "optimal subset error: 0.978934230136263\n"
          ]
        },
        {
          "output_type": "stream",
          "name": "stderr",
          "text": [
            "\r 20%|█▉        | 19/96 [00:17<01:08,  1.13it/s]"
          ]
        },
        {
          "output_type": "stream",
          "name": "stdout",
          "text": [
            "optimal subset: ['parametersQty']\n",
            "optimal subset error: 0.9970786553288948\n"
          ]
        },
        {
          "output_type": "stream",
          "name": "stderr",
          "text": [
            "\r 21%|██        | 20/96 [00:18<01:10,  1.07it/s]"
          ]
        },
        {
          "output_type": "stream",
          "name": "stdout",
          "text": [
            "optimal subset: ['cboModified']\n",
            "optimal subset error: 0.9887828519259149\n"
          ]
        },
        {
          "output_type": "stream",
          "name": "stderr",
          "text": [
            "\r 22%|██▏       | 21/96 [00:19<01:05,  1.14it/s]"
          ]
        },
        {
          "output_type": "stream",
          "name": "stdout",
          "text": [
            "optimal subset: ['line']\n",
            "optimal subset error: 0.36112540586326536\n"
          ]
        },
        {
          "output_type": "stream",
          "name": "stderr",
          "text": [
            "\r 23%|██▎       | 22/96 [00:20<01:01,  1.20it/s]"
          ]
        },
        {
          "output_type": "stream",
          "name": "stdout",
          "text": [
            "optimal subset: ['fanin']\n",
            "optimal subset error: 0.9950294681451853\n"
          ]
        },
        {
          "output_type": "stream",
          "name": "stderr",
          "text": [
            "\r 24%|██▍       | 23/96 [00:21<00:58,  1.25it/s]"
          ]
        },
        {
          "output_type": "stream",
          "name": "stdout",
          "text": [
            "optimal subset: ['tryCatchQty']\n",
            "optimal subset error: 0.99952823095344\n"
          ]
        },
        {
          "output_type": "stream",
          "name": "stderr",
          "text": [
            "\r 25%|██▌       | 24/96 [00:21<00:55,  1.29it/s]"
          ]
        },
        {
          "output_type": "stream",
          "name": "stdout",
          "text": [
            "optimal subset: ['maxNestedBlocksQty']\n",
            "optimal subset error: 0.9982715552960392\n"
          ]
        },
        {
          "output_type": "stream",
          "name": "stderr",
          "text": [
            "\r 26%|██▌       | 25/96 [00:22<00:54,  1.31it/s]"
          ]
        },
        {
          "output_type": "stream",
          "name": "stdout",
          "text": [
            "optimal subset: ['innerClassesQty']\n",
            "optimal subset error: 0.9999991817274121\n"
          ]
        },
        {
          "output_type": "stream",
          "name": "stderr",
          "text": [
            "\r 27%|██▋       | 26/96 [00:23<00:52,  1.33it/s]"
          ]
        },
        {
          "output_type": "stream",
          "name": "stdout",
          "text": [
            "optimal subset: ['comparisonsQty']\n",
            "optimal subset error: 0.998703154146952\n"
          ]
        },
        {
          "output_type": "stream",
          "name": "stderr",
          "text": [
            "\r 28%|██▊       | 27/96 [00:24<00:51,  1.35it/s]"
          ]
        },
        {
          "output_type": "stream",
          "name": "stdout",
          "text": [
            "optimal subset: ['innerClassesQty']\n",
            "optimal subset error: 0.9999991817274121\n"
          ]
        },
        {
          "output_type": "stream",
          "name": "stderr",
          "text": [
            "\r 29%|██▉       | 28/96 [00:24<00:49,  1.36it/s]"
          ]
        },
        {
          "output_type": "stream",
          "name": "stdout",
          "text": [
            "optimal subset: ['hasJavaDoc']\n",
            "optimal subset error: 0.9993259491070883\n"
          ]
        },
        {
          "output_type": "stream",
          "name": "stderr",
          "text": [
            "\r 30%|███       | 29/96 [00:25<00:48,  1.38it/s]"
          ]
        },
        {
          "output_type": "stream",
          "name": "stdout",
          "text": [
            "optimal subset: ['variablesQty']\n",
            "optimal subset error: 0.9949437316461129\n"
          ]
        },
        {
          "output_type": "stream",
          "name": "stderr",
          "text": [
            "\r 31%|███▏      | 30/96 [00:26<00:47,  1.38it/s]"
          ]
        },
        {
          "output_type": "stream",
          "name": "stdout",
          "text": [
            "optimal subset: ['parenthesizedExpsQty']\n",
            "optimal subset error: 0.9996228745505789\n"
          ]
        },
        {
          "output_type": "stream",
          "name": "stderr",
          "text": [
            "\r 32%|███▏      | 31/96 [00:26<00:47,  1.38it/s]"
          ]
        },
        {
          "output_type": "stream",
          "name": "stdout",
          "text": [
            "optimal subset: ['loc']\n",
            "optimal subset error: 0.978934230136263\n"
          ]
        },
        {
          "output_type": "stream",
          "name": "stderr",
          "text": [
            "\r 33%|███▎      | 32/96 [00:27<00:46,  1.39it/s]"
          ]
        },
        {
          "output_type": "stream",
          "name": "stdout",
          "text": [
            "optimal subset: ['returnsQty']\n",
            "optimal subset error: 0.9980988968956733\n"
          ]
        },
        {
          "output_type": "stream",
          "name": "stderr",
          "text": [
            "\r 34%|███▍      | 33/96 [00:28<00:45,  1.39it/s]"
          ]
        },
        {
          "output_type": "stream",
          "name": "stdout",
          "text": [
            "optimal subset: ['loopQty']\n",
            "optimal subset error: 0.9994307797728791\n"
          ]
        },
        {
          "output_type": "stream",
          "name": "stderr",
          "text": [
            "\r 35%|███▌      | 34/96 [00:29<00:45,  1.35it/s]"
          ]
        },
        {
          "output_type": "stream",
          "name": "stdout",
          "text": [
            "optimal subset: ['numbersQty']\n",
            "optimal subset error: 0.9965515315020408\n"
          ]
        },
        {
          "output_type": "stream",
          "name": "stderr",
          "text": [
            "\r 36%|███▋      | 35/96 [00:30<00:49,  1.24it/s]"
          ]
        },
        {
          "output_type": "stream",
          "name": "stdout",
          "text": [
            "optimal subset: ['innerClassesQty']\n",
            "optimal subset error: 0.9999991817274121\n"
          ]
        },
        {
          "output_type": "stream",
          "name": "stderr",
          "text": [
            "\r 38%|███▊      | 36/96 [00:31<00:50,  1.19it/s]"
          ]
        },
        {
          "output_type": "stream",
          "name": "stdout",
          "text": [
            "optimal subset: ['loopQty']\n",
            "optimal subset error: 0.9994307797728791\n"
          ]
        },
        {
          "output_type": "stream",
          "name": "stderr",
          "text": [
            "\r 40%|███▉      | 38/96 [00:32<00:40,  1.44it/s]"
          ]
        },
        {
          "output_type": "stream",
          "name": "stdout",
          "text": [
            "optimal subset: ['anonymousClassesQty']\n",
            "optimal subset error: 0.9999254047719159\n"
          ]
        },
        {
          "output_type": "stream",
          "name": "stderr",
          "text": [
            "\r 41%|████      | 39/96 [00:32<00:42,  1.35it/s]"
          ]
        },
        {
          "output_type": "stream",
          "name": "stdout",
          "text": [
            "optimal subset: ['methodsInvokedLocalQty']\n",
            "optimal subset error: 0.9989151073466435\n"
          ]
        },
        {
          "output_type": "stream",
          "name": "stderr",
          "text": [
            "\r 42%|████▏     | 40/96 [00:33<00:40,  1.37it/s]"
          ]
        },
        {
          "output_type": "stream",
          "name": "stdout",
          "text": [
            "optimal subset: ['innerClassesQty']\n",
            "optimal subset error: 0.9999991817274121\n"
          ]
        },
        {
          "output_type": "stream",
          "name": "stderr",
          "text": [
            "\r 43%|████▎     | 41/96 [00:34<00:40,  1.37it/s]"
          ]
        },
        {
          "output_type": "stream",
          "name": "stdout",
          "text": [
            "optimal subset: ['fanin']\n",
            "optimal subset error: 0.9950294681451853\n"
          ]
        },
        {
          "output_type": "stream",
          "name": "stderr",
          "text": [
            "\r 44%|████▍     | 42/96 [00:35<00:39,  1.37it/s]"
          ]
        },
        {
          "output_type": "stream",
          "name": "stdout",
          "text": [
            "optimal subset: ['cboModified']\n",
            "optimal subset error: 0.9887828519259149\n"
          ]
        },
        {
          "output_type": "stream",
          "name": "stderr",
          "text": [
            "\r 45%|████▍     | 43/96 [00:35<00:38,  1.37it/s]"
          ]
        },
        {
          "output_type": "stream",
          "name": "stdout",
          "text": [
            "optimal subset: ['parametersQty']\n",
            "optimal subset error: 0.9970786553288948\n"
          ]
        },
        {
          "output_type": "stream",
          "name": "stderr",
          "text": [
            "\r 46%|████▌     | 44/96 [00:36<00:38,  1.37it/s]"
          ]
        },
        {
          "output_type": "stream",
          "name": "stdout",
          "text": [
            "optimal subset: ['fanout']\n",
            "optimal subset error: 0.9921595304407008\n"
          ]
        },
        {
          "output_type": "stream",
          "name": "stderr",
          "text": [
            "\r 47%|████▋     | 45/96 [00:37<00:37,  1.38it/s]"
          ]
        },
        {
          "output_type": "stream",
          "name": "stdout",
          "text": [
            "optimal subset: ['mathOperationsQty']\n",
            "optimal subset error: 0.9988283489924792\n"
          ]
        },
        {
          "output_type": "stream",
          "name": "stderr",
          "text": [
            "\r 48%|████▊     | 46/96 [00:38<00:36,  1.39it/s]"
          ]
        },
        {
          "output_type": "stream",
          "name": "stdout",
          "text": [
            "optimal subset: ['parenthesizedExpsQty']\n",
            "optimal subset error: 0.9996228745505789\n"
          ]
        },
        {
          "output_type": "stream",
          "name": "stderr",
          "text": [
            "\r 49%|████▉     | 47/96 [00:38<00:35,  1.40it/s]"
          ]
        },
        {
          "output_type": "stream",
          "name": "stdout",
          "text": [
            "optimal subset: ['fanout']\n",
            "optimal subset error: 0.9921595304407008\n"
          ]
        },
        {
          "output_type": "stream",
          "name": "stderr",
          "text": [
            "\r 50%|█████     | 48/96 [00:39<00:34,  1.39it/s]"
          ]
        },
        {
          "output_type": "stream",
          "name": "stdout",
          "text": [
            "optimal subset: ['assignmentsQty']\n",
            "optimal subset error: 0.9931091822373502\n"
          ]
        },
        {
          "output_type": "stream",
          "name": "stderr",
          "text": [
            "\r 51%|█████     | 49/96 [00:40<00:33,  1.39it/s]"
          ]
        },
        {
          "output_type": "stream",
          "name": "stdout",
          "text": [
            "optimal subset: ['mathOperationsQty']\n",
            "optimal subset error: 0.9988283489924792\n"
          ]
        },
        {
          "output_type": "stream",
          "name": "stderr",
          "text": [
            "\r 52%|█████▏    | 50/96 [00:40<00:32,  1.40it/s]"
          ]
        },
        {
          "output_type": "stream",
          "name": "stdout",
          "text": [
            "optimal subset: ['constructor']\n",
            "optimal subset error: 0.9995336737632572\n"
          ]
        },
        {
          "output_type": "stream",
          "name": "stderr",
          "text": [
            "\r 53%|█████▎    | 51/96 [00:41<00:32,  1.40it/s]"
          ]
        },
        {
          "output_type": "stream",
          "name": "stdout",
          "text": [
            "optimal subset: ['constructor']\n",
            "optimal subset error: 0.9995336737632572\n"
          ]
        },
        {
          "output_type": "stream",
          "name": "stderr",
          "text": [
            "\r 55%|█████▌    | 53/96 [00:42<00:23,  1.82it/s]"
          ]
        },
        {
          "output_type": "stream",
          "name": "stdout",
          "text": [
            "optimal subset: ['fanout']\n",
            "optimal subset error: 0.9921595304407008\n"
          ]
        },
        {
          "output_type": "stream",
          "name": "stderr",
          "text": [
            "\r 56%|█████▋    | 54/96 [00:43<00:27,  1.55it/s]"
          ]
        },
        {
          "output_type": "stream",
          "name": "stdout",
          "text": [
            "optimal subset: ['rfc']\n",
            "optimal subset error: 0.9877234891636131\n"
          ]
        },
        {
          "output_type": "stream",
          "name": "stderr",
          "text": [
            "\r 57%|█████▋    | 55/96 [00:44<00:30,  1.36it/s]"
          ]
        },
        {
          "output_type": "stream",
          "name": "stdout",
          "text": [
            "optimal subset: ['stringLiteralsQty']\n",
            "optimal subset error: 0.9930531578863202\n"
          ]
        },
        {
          "output_type": "stream",
          "name": "stderr",
          "text": [
            "\r 58%|█████▊    | 56/96 [00:45<00:32,  1.23it/s]"
          ]
        },
        {
          "output_type": "stream",
          "name": "stdout",
          "text": [
            "optimal subset: ['lambdasQty']\n",
            "optimal subset error: 0.9996979617848296\n"
          ]
        },
        {
          "output_type": "stream",
          "name": "stderr",
          "text": [
            "\r 59%|█████▉    | 57/96 [00:46<00:34,  1.12it/s]"
          ]
        },
        {
          "output_type": "stream",
          "name": "stdout",
          "text": [
            "optimal subset: ['wmc']\n",
            "optimal subset error: 0.9961651422158556\n"
          ]
        },
        {
          "output_type": "stream",
          "name": "stderr",
          "text": [
            "\r 60%|██████    | 58/96 [00:47<00:32,  1.19it/s]"
          ]
        },
        {
          "output_type": "stream",
          "name": "stdout",
          "text": [
            "optimal subset: ['methodsInvokedQty']\n",
            "optimal subset error: 0.9877234891636131\n"
          ]
        },
        {
          "output_type": "stream",
          "name": "stderr",
          "text": [
            "\r 61%|██████▏   | 59/96 [00:47<00:29,  1.24it/s]"
          ]
        },
        {
          "output_type": "stream",
          "name": "stdout",
          "text": [
            "optimal subset: ['constructor']\n",
            "optimal subset error: 0.9995336737632572\n"
          ]
        },
        {
          "output_type": "stream",
          "name": "stderr",
          "text": [
            "\r 62%|██████▎   | 60/96 [00:48<00:28,  1.28it/s]"
          ]
        },
        {
          "output_type": "stream",
          "name": "stdout",
          "text": [
            "optimal subset: ['modifiers']\n",
            "optimal subset error: 0.7282976013165374\n"
          ]
        },
        {
          "output_type": "stream",
          "name": "stderr",
          "text": [
            "\r 64%|██████▎   | 61/96 [00:49<00:26,  1.30it/s]"
          ]
        },
        {
          "output_type": "stream",
          "name": "stdout",
          "text": [
            "optimal subset: ['loopQty']\n",
            "optimal subset error: 0.9994307797728791\n"
          ]
        },
        {
          "output_type": "stream",
          "name": "stderr",
          "text": [
            "\r 65%|██████▍   | 62/96 [00:50<00:26,  1.30it/s]"
          ]
        },
        {
          "output_type": "stream",
          "name": "stdout",
          "text": [
            "optimal subset: ['parametersQty']\n",
            "optimal subset error: 0.9970786553288948\n"
          ]
        },
        {
          "output_type": "stream",
          "name": "stderr",
          "text": [
            "\r 66%|██████▌   | 63/96 [00:50<00:24,  1.32it/s]"
          ]
        },
        {
          "output_type": "stream",
          "name": "stdout",
          "text": [
            "optimal subset: ['tryCatchQty']\n",
            "optimal subset error: 0.99952823095344\n"
          ]
        },
        {
          "output_type": "stream",
          "name": "stderr",
          "text": [
            "\r 67%|██████▋   | 64/96 [00:51<00:23,  1.34it/s]"
          ]
        },
        {
          "output_type": "stream",
          "name": "stdout",
          "text": [
            "optimal subset: ['loc']\n",
            "optimal subset error: 0.978934230136263\n"
          ]
        },
        {
          "output_type": "stream",
          "name": "stderr",
          "text": [
            "\r 68%|██████▊   | 65/96 [00:52<00:23,  1.35it/s]"
          ]
        },
        {
          "output_type": "stream",
          "name": "stdout",
          "text": [
            "optimal subset: ['methodsInvokedLocalQty']\n",
            "optimal subset error: 0.9989151073466435\n"
          ]
        },
        {
          "output_type": "stream",
          "name": "stderr",
          "text": [
            "\r 69%|██████▉   | 66/96 [00:52<00:22,  1.36it/s]"
          ]
        },
        {
          "output_type": "stream",
          "name": "stdout",
          "text": [
            "optimal subset: ['logStatementsQty']\n",
            "optimal subset error: 0.9995529126468089\n"
          ]
        },
        {
          "output_type": "stream",
          "name": "stderr",
          "text": [
            "\r 70%|██████▉   | 67/96 [00:53<00:21,  1.37it/s]"
          ]
        },
        {
          "output_type": "stream",
          "name": "stdout",
          "text": [
            "optimal subset: ['cbo']\n",
            "optimal subset error: 0.9942937568616161\n"
          ]
        },
        {
          "output_type": "stream",
          "name": "stderr",
          "text": [
            "\r 71%|███████   | 68/96 [00:54<00:20,  1.38it/s]"
          ]
        },
        {
          "output_type": "stream",
          "name": "stdout",
          "text": [
            "optimal subset: ['rfc']\n",
            "optimal subset error: 0.9877234891636131\n"
          ]
        },
        {
          "output_type": "stream",
          "name": "stderr",
          "text": [
            "\r 72%|███████▏  | 69/96 [00:55<00:19,  1.38it/s]"
          ]
        },
        {
          "output_type": "stream",
          "name": "stdout",
          "text": [
            "optimal subset: ['maxNestedBlocksQty']\n",
            "optimal subset error: 0.9982715552960392\n"
          ]
        },
        {
          "output_type": "stream",
          "name": "stderr",
          "text": [
            "\r 73%|███████▎  | 70/96 [00:55<00:18,  1.39it/s]"
          ]
        },
        {
          "output_type": "stream",
          "name": "stdout",
          "text": [
            "optimal subset: ['returnsQty']\n",
            "optimal subset error: 0.9980988968956733\n"
          ]
        },
        {
          "output_type": "stream",
          "name": "stderr",
          "text": [
            "\r 74%|███████▍  | 71/96 [00:56<00:18,  1.35it/s]"
          ]
        },
        {
          "output_type": "stream",
          "name": "stdout",
          "text": [
            "optimal subset: ['cbo']\n",
            "optimal subset error: 0.9942937568616161\n"
          ]
        },
        {
          "output_type": "stream",
          "name": "stderr",
          "text": [
            "\r 75%|███████▌  | 72/96 [00:57<00:19,  1.25it/s]"
          ]
        },
        {
          "output_type": "stream",
          "name": "stdout",
          "text": [
            "optimal subset: ['constructor']\n",
            "optimal subset error: 0.9995336737632572\n"
          ]
        },
        {
          "output_type": "stream",
          "name": "stderr",
          "text": [
            "\r 76%|███████▌  | 73/96 [00:58<00:19,  1.19it/s]"
          ]
        },
        {
          "output_type": "stream",
          "name": "stdout",
          "text": [
            "optimal subset: ['modifiers']\n",
            "optimal subset error: 0.7282976013165374\n"
          ]
        },
        {
          "output_type": "stream",
          "name": "stderr",
          "text": [
            "\r 77%|███████▋  | 74/96 [00:59<00:19,  1.10it/s]"
          ]
        },
        {
          "output_type": "stream",
          "name": "stdout",
          "text": [
            "optimal subset: ['uniqueWordsQty']\n",
            "optimal subset error: 0.9735487366182595\n"
          ]
        },
        {
          "output_type": "stream",
          "name": "stderr",
          "text": [
            "\r 78%|███████▊  | 75/96 [01:00<00:19,  1.08it/s]"
          ]
        },
        {
          "output_type": "stream",
          "name": "stdout",
          "text": [
            "optimal subset: ['variablesQty']\n",
            "optimal subset error: 0.9949437316461129\n"
          ]
        },
        {
          "output_type": "stream",
          "name": "stderr",
          "text": [
            "\r 79%|███████▉  | 76/96 [01:01<00:17,  1.15it/s]"
          ]
        },
        {
          "output_type": "stream",
          "name": "stdout",
          "text": [
            "optimal subset: ['loc']\n",
            "optimal subset error: 0.978934230136263\n"
          ]
        },
        {
          "output_type": "stream",
          "name": "stderr",
          "text": [
            "\r 80%|████████  | 77/96 [01:01<00:15,  1.21it/s]"
          ]
        },
        {
          "output_type": "stream",
          "name": "stdout",
          "text": [
            "optimal subset: ['comparisonsQty']\n",
            "optimal subset error: 0.998703154146952\n"
          ]
        },
        {
          "output_type": "stream",
          "name": "stderr",
          "text": [
            "\r 81%|████████▏ | 78/96 [01:02<00:14,  1.26it/s]"
          ]
        },
        {
          "output_type": "stream",
          "name": "stdout",
          "text": [
            "optimal subset: ['fanin']\n",
            "optimal subset error: 0.9950294681451853\n"
          ]
        },
        {
          "output_type": "stream",
          "name": "stderr",
          "text": [
            "\r 82%|████████▏ | 79/96 [01:03<00:13,  1.29it/s]"
          ]
        },
        {
          "output_type": "stream",
          "name": "stdout",
          "text": [
            "optimal subset: ['loopQty']\n",
            "optimal subset error: 0.9994307797728791\n"
          ]
        },
        {
          "output_type": "stream",
          "name": "stderr",
          "text": [
            "\r 83%|████████▎ | 80/96 [01:04<00:12,  1.30it/s]"
          ]
        },
        {
          "output_type": "stream",
          "name": "stdout",
          "text": [
            "optimal subset: ['returnsQty']\n",
            "optimal subset error: 0.9980988968956733\n"
          ]
        },
        {
          "output_type": "stream",
          "name": "stderr",
          "text": [
            "\r 84%|████████▍ | 81/96 [01:04<00:11,  1.30it/s]"
          ]
        },
        {
          "output_type": "stream",
          "name": "stdout",
          "text": [
            "optimal subset: ['line']\n",
            "optimal subset error: 0.36112540586326536\n"
          ]
        },
        {
          "output_type": "stream",
          "name": "stderr",
          "text": [
            "\r 85%|████████▌ | 82/96 [01:05<00:10,  1.32it/s]"
          ]
        },
        {
          "output_type": "stream",
          "name": "stdout",
          "text": [
            "optimal subset: ['lambdasQty']\n",
            "optimal subset error: 0.9996979617848296\n"
          ]
        },
        {
          "output_type": "stream",
          "name": "stderr",
          "text": [
            "\r 86%|████████▋ | 83/96 [01:06<00:09,  1.33it/s]"
          ]
        },
        {
          "output_type": "stream",
          "name": "stdout",
          "text": [
            "optimal subset: ['returnsQty']\n",
            "optimal subset error: 0.9980988968956733\n"
          ]
        },
        {
          "output_type": "stream",
          "name": "stderr",
          "text": [
            "\r 88%|████████▊ | 84/96 [01:07<00:08,  1.36it/s]"
          ]
        },
        {
          "output_type": "stream",
          "name": "stdout",
          "text": [
            "optimal subset: ['fanout']\n",
            "optimal subset error: 0.9921595304407008\n"
          ]
        },
        {
          "output_type": "stream",
          "name": "stderr",
          "text": [
            "\r 89%|████████▊ | 85/96 [01:07<00:08,  1.36it/s]"
          ]
        },
        {
          "output_type": "stream",
          "name": "stdout",
          "text": [
            "optimal subset: ['anonymousClassesQty']\n",
            "optimal subset error: 0.9999254047719159\n"
          ]
        },
        {
          "output_type": "stream",
          "name": "stderr",
          "text": [
            "\r 90%|████████▉ | 86/96 [01:08<00:07,  1.37it/s]"
          ]
        },
        {
          "output_type": "stream",
          "name": "stdout",
          "text": [
            "optimal subset: ['innerClassesQty']\n",
            "optimal subset error: 0.9999991817274121\n"
          ]
        },
        {
          "output_type": "stream",
          "name": "stderr",
          "text": [
            "\r 91%|█████████ | 87/96 [01:09<00:06,  1.38it/s]"
          ]
        },
        {
          "output_type": "stream",
          "name": "stdout",
          "text": [
            "optimal subset: ['fanout']\n",
            "optimal subset error: 0.9921595304407008\n"
          ]
        },
        {
          "output_type": "stream",
          "name": "stderr",
          "text": [
            "\r 92%|█████████▏| 88/96 [01:09<00:05,  1.38it/s]"
          ]
        },
        {
          "output_type": "stream",
          "name": "stdout",
          "text": [
            "optimal subset: ['rfc']\n",
            "optimal subset error: 0.9877234891636131\n"
          ]
        },
        {
          "output_type": "stream",
          "name": "stderr",
          "text": [
            "\r 93%|█████████▎| 89/96 [01:10<00:05,  1.29it/s]"
          ]
        },
        {
          "output_type": "stream",
          "name": "stdout",
          "text": [
            "optimal subset: ['constructor']\n",
            "optimal subset error: 0.9995336737632572\n"
          ]
        },
        {
          "output_type": "stream",
          "name": "stderr",
          "text": [
            "\r 94%|█████████▍| 90/96 [01:11<00:05,  1.19it/s]"
          ]
        },
        {
          "output_type": "stream",
          "name": "stdout",
          "text": [
            "optimal subset: ['methodsInvokedIndirectLocalQty']\n",
            "optimal subset error: 0.9988911245453778\n"
          ]
        },
        {
          "output_type": "stream",
          "name": "stderr",
          "text": [
            "\r 95%|█████████▍| 91/96 [01:12<00:04,  1.13it/s]"
          ]
        },
        {
          "output_type": "stream",
          "name": "stdout",
          "text": [
            "optimal subset: ['mathOperationsQty']\n",
            "optimal subset error: 0.9988283489924792\n"
          ]
        },
        {
          "output_type": "stream",
          "name": "stderr",
          "text": [
            "\r 96%|█████████▌| 92/96 [01:13<00:03,  1.07it/s]"
          ]
        },
        {
          "output_type": "stream",
          "name": "stdout",
          "text": [
            "optimal subset: ['wmc']\n",
            "optimal subset error: 0.9961651422158556\n"
          ]
        },
        {
          "output_type": "stream",
          "name": "stderr",
          "text": [
            "\r 97%|█████████▋| 93/96 [01:14<00:02,  1.13it/s]"
          ]
        },
        {
          "output_type": "stream",
          "name": "stdout",
          "text": [
            "optimal subset: ['methodsInvokedIndirectLocalQty']\n",
            "optimal subset error: 0.9988911245453778\n"
          ]
        },
        {
          "output_type": "stream",
          "name": "stderr",
          "text": [
            "\r 98%|█████████▊| 94/96 [01:15<00:01,  1.20it/s]"
          ]
        },
        {
          "output_type": "stream",
          "name": "stdout",
          "text": [
            "optimal subset: ['uniqueWordsQty']\n",
            "optimal subset error: 0.9735487366182595\n"
          ]
        },
        {
          "output_type": "stream",
          "name": "stderr",
          "text": [
            "\r 99%|█████████▉| 95/96 [01:16<00:00,  1.25it/s]"
          ]
        },
        {
          "output_type": "stream",
          "name": "stdout",
          "text": [
            "optimal subset: ['fanout']\n",
            "optimal subset error: 0.9921595304407008\n"
          ]
        },
        {
          "output_type": "stream",
          "name": "stderr",
          "text": [
            "100%|██████████| 96/96 [01:16<00:00,  1.25it/s]\n"
          ]
        },
        {
          "output_type": "stream",
          "name": "stdout",
          "text": [
            "optimal subset: ['rfc']\n",
            "optimal subset error: 0.9877234891636131\n",
            "subset: ['line']\n",
            "subset size: 1\n",
            "error: 0.36112540586326536\n"
          ]
        },
        {
          "output_type": "stream",
          "name": "stderr",
          "text": [
            "  1%|          | 1/96 [00:00<01:07,  1.40it/s]"
          ]
        },
        {
          "output_type": "stream",
          "name": "stdout",
          "text": [
            "optimal subset: ['constructor', 'hasJavaDoc']\n",
            "optimal subset error: 0.9989238924533211\n"
          ]
        },
        {
          "output_type": "stream",
          "name": "stderr",
          "text": [
            "\r  2%|▏         | 2/96 [00:01<01:07,  1.39it/s]"
          ]
        },
        {
          "output_type": "stream",
          "name": "stdout",
          "text": [
            "optimal subset: ['mathOperationsQty', 'uniqueWordsQty']\n",
            "optimal subset error: 0.9733189619782343\n"
          ]
        },
        {
          "output_type": "stream",
          "name": "stderr",
          "text": [
            "\r  3%|▎         | 3/96 [00:02<01:07,  1.37it/s]"
          ]
        },
        {
          "output_type": "stream",
          "name": "stdout",
          "text": [
            "optimal subset: ['maxNestedBlocksQty', 'fanout']\n",
            "optimal subset error: 0.9913610950208988\n"
          ]
        },
        {
          "output_type": "stream",
          "name": "stderr",
          "text": [
            "\r  4%|▍         | 4/96 [00:02<01:07,  1.36it/s]"
          ]
        },
        {
          "output_type": "stream",
          "name": "stdout",
          "text": [
            "optimal subset: ['numbersQty', 'cboModified']\n",
            "optimal subset error: 0.9866387657689843\n"
          ]
        },
        {
          "output_type": "stream",
          "name": "stderr",
          "text": [
            "\r  5%|▌         | 5/96 [00:03<01:06,  1.37it/s]"
          ]
        },
        {
          "output_type": "stream",
          "name": "stdout",
          "text": [
            "optimal subset: ['lambdasQty', 'anonymousClassesQty']\n",
            "optimal subset error: 0.9996278996503897\n"
          ]
        },
        {
          "output_type": "stream",
          "name": "stderr",
          "text": [
            "\r  6%|▋         | 6/96 [00:04<01:05,  1.37it/s]"
          ]
        },
        {
          "output_type": "stream",
          "name": "stdout",
          "text": [
            "optimal subset: ['cboModified', 'uniqueWordsQty']\n",
            "optimal subset error: 0.9673792920380379\n"
          ]
        },
        {
          "output_type": "stream",
          "name": "stderr",
          "text": [
            "\r  7%|▋         | 7/96 [00:05<01:04,  1.37it/s]"
          ]
        },
        {
          "output_type": "stream",
          "name": "stdout",
          "text": [
            "optimal subset: ['comparisonsQty', 'fanin']\n",
            "optimal subset error: 0.9940902504690919\n"
          ]
        },
        {
          "output_type": "stream",
          "name": "stderr",
          "text": [
            "\r  8%|▊         | 8/96 [00:05<01:04,  1.37it/s]"
          ]
        },
        {
          "output_type": "stream",
          "name": "stdout",
          "text": [
            "optimal subset: ['loopQty', 'methodsInvokedLocalQty']\n",
            "optimal subset error: 0.9984769923695723\n"
          ]
        },
        {
          "output_type": "stream",
          "name": "stderr",
          "text": [
            "\r  9%|▉         | 9/96 [00:06<01:02,  1.38it/s]"
          ]
        },
        {
          "output_type": "stream",
          "name": "stdout",
          "text": [
            "optimal subset: ['lambdasQty', 'tryCatchQty']\n",
            "optimal subset error: 0.9992647716088419\n"
          ]
        },
        {
          "output_type": "stream",
          "name": "stderr",
          "text": [
            "\r 10%|█         | 10/96 [00:07<01:04,  1.33it/s]"
          ]
        },
        {
          "output_type": "stream",
          "name": "stdout",
          "text": [
            "optimal subset: ['hasJavaDoc', 'line']\n",
            "optimal subset error: 0.36109493710644996\n"
          ]
        },
        {
          "output_type": "stream",
          "name": "stderr",
          "text": [
            "\r 11%|█▏        | 11/96 [00:08<01:09,  1.22it/s]"
          ]
        },
        {
          "output_type": "stream",
          "name": "stdout",
          "text": [
            "optimal subset: ['returnsQty', 'parametersQty']\n",
            "optimal subset error: 0.9959049793998825\n"
          ]
        },
        {
          "output_type": "stream",
          "name": "stderr",
          "text": [
            "\r 12%|█▎        | 12/96 [00:09<01:12,  1.16it/s]"
          ]
        },
        {
          "output_type": "stream",
          "name": "stdout",
          "text": [
            "optimal subset: ['innerClassesQty', 'assignmentsQty']\n",
            "optimal subset error: 0.9931089466907684\n"
          ]
        },
        {
          "output_type": "stream",
          "name": "stderr",
          "text": [
            "\r 14%|█▎        | 13/96 [00:10<01:16,  1.09it/s]"
          ]
        },
        {
          "output_type": "stream",
          "name": "stdout",
          "text": [
            "optimal subset: ['loopQty', 'cboModified']\n",
            "optimal subset error: 0.9885867458832617\n"
          ]
        },
        {
          "output_type": "stream",
          "name": "stderr",
          "text": [
            "\r 15%|█▍        | 14/96 [00:11<01:15,  1.09it/s]"
          ]
        },
        {
          "output_type": "stream",
          "name": "stdout",
          "text": [
            "optimal subset: ['mathOperationsQty', 'stringLiteralsQty']\n",
            "optimal subset error: 0.9925713176674531\n"
          ]
        },
        {
          "output_type": "stream",
          "name": "stderr",
          "text": [
            "\r 16%|█▌        | 15/96 [00:11<01:09,  1.17it/s]"
          ]
        },
        {
          "output_type": "stream",
          "name": "stdout",
          "text": [
            "optimal subset: ['innerClassesQty', 'logStatementsQty']\n",
            "optimal subset error: 0.9995520943742211\n"
          ]
        },
        {
          "output_type": "stream",
          "name": "stderr",
          "text": [
            "\r 17%|█▋        | 16/96 [00:12<01:05,  1.23it/s]"
          ]
        },
        {
          "output_type": "stream",
          "name": "stdout",
          "text": [
            "optimal subset: ['rfc', 'loc']\n",
            "optimal subset error: 0.9743981387045387\n"
          ]
        },
        {
          "output_type": "stream",
          "name": "stderr",
          "text": [
            "\r 18%|█▊        | 17/96 [00:13<01:02,  1.27it/s]"
          ]
        },
        {
          "output_type": "stream",
          "name": "stdout",
          "text": [
            "optimal subset: ['cboModified', 'wmc']\n",
            "optimal subset error: 0.9865609198770798\n"
          ]
        },
        {
          "output_type": "stream",
          "name": "stderr",
          "text": [
            "\r 19%|█▉        | 18/96 [00:14<01:00,  1.30it/s]"
          ]
        },
        {
          "output_type": "stream",
          "name": "stdout",
          "text": [
            "optimal subset: ['fanout', 'methodsInvokedIndirectLocalQty']\n",
            "optimal subset error: 0.991695032172239\n"
          ]
        },
        {
          "output_type": "stream",
          "name": "stderr",
          "text": [
            "\r 20%|█▉        | 19/96 [00:14<00:58,  1.32it/s]"
          ]
        },
        {
          "output_type": "stream",
          "name": "stdout",
          "text": [
            "optimal subset: ['logStatementsQty', 'wmc']\n",
            "optimal subset error: 0.9959928166841682\n"
          ]
        },
        {
          "output_type": "stream",
          "name": "stderr",
          "text": [
            "\r 21%|██        | 20/96 [00:15<00:57,  1.33it/s]"
          ]
        },
        {
          "output_type": "stream",
          "name": "stdout",
          "text": [
            "optimal subset: ['fanout', 'comparisonsQty']\n",
            "optimal subset error: 0.9914240451685074\n"
          ]
        },
        {
          "output_type": "stream",
          "name": "stderr",
          "text": [
            "\r 22%|██▏       | 21/96 [00:16<00:56,  1.34it/s]"
          ]
        },
        {
          "output_type": "stream",
          "name": "stdout",
          "text": [
            "optimal subset: ['fanin', 'cbo']\n",
            "optimal subset error: 0.9905300261320231\n"
          ]
        },
        {
          "output_type": "stream",
          "name": "stderr",
          "text": [
            "\r 23%|██▎       | 22/96 [00:17<00:55,  1.34it/s]"
          ]
        },
        {
          "output_type": "stream",
          "name": "stdout",
          "text": [
            "optimal subset: ['methodsInvokedIndirectLocalQty', 'rfc']\n",
            "optimal subset error: 0.9873649407829665\n"
          ]
        },
        {
          "output_type": "stream",
          "name": "stderr",
          "text": [
            "\r 24%|██▍       | 23/96 [00:17<00:54,  1.34it/s]"
          ]
        },
        {
          "output_type": "stream",
          "name": "stdout",
          "text": [
            "optimal subset: ['modifiers', 'hasJavaDoc']\n",
            "optimal subset error: 0.7279002388677726\n"
          ]
        },
        {
          "output_type": "stream",
          "name": "stderr",
          "text": [
            "\r 25%|██▌       | 24/96 [00:18<00:53,  1.35it/s]"
          ]
        },
        {
          "output_type": "stream",
          "name": "stdout",
          "text": [
            "optimal subset: ['cboModified', 'methodsInvokedIndirectLocalQty']\n",
            "optimal subset error: 0.9883527998407464\n"
          ]
        },
        {
          "output_type": "stream",
          "name": "stderr",
          "text": [
            "\r 26%|██▌       | 25/96 [00:19<00:52,  1.36it/s]"
          ]
        },
        {
          "output_type": "stream",
          "name": "stdout",
          "text": [
            "optimal subset: ['mathOperationsQty', 'comparisonsQty']\n",
            "optimal subset error: 0.9977962157008771\n"
          ]
        },
        {
          "output_type": "stream",
          "name": "stderr",
          "text": [
            "\r 27%|██▋       | 26/96 [00:20<00:50,  1.38it/s]"
          ]
        },
        {
          "output_type": "stream",
          "name": "stdout",
          "text": [
            "optimal subset: ['assignmentsQty', 'maxNestedBlocksQty']\n",
            "optimal subset error: 0.9925007499726506\n"
          ]
        },
        {
          "output_type": "stream",
          "name": "stderr",
          "text": [
            "\r 28%|██▊       | 27/96 [00:20<00:50,  1.37it/s]"
          ]
        },
        {
          "output_type": "stream",
          "name": "stdout",
          "text": [
            "optimal subset: ['rfc', 'innerClassesQty']\n",
            "optimal subset error: 0.9877234233235223\n"
          ]
        },
        {
          "output_type": "stream",
          "name": "stderr",
          "text": [
            "\r 29%|██▉       | 28/96 [00:21<00:54,  1.25it/s]"
          ]
        },
        {
          "output_type": "stream",
          "name": "stdout",
          "text": [
            "optimal subset: ['fanin', 'maxNestedBlocksQty']\n",
            "optimal subset error: 0.9938740110905918\n"
          ]
        },
        {
          "output_type": "stream",
          "name": "stderr",
          "text": [
            "\r 30%|███       | 29/96 [00:23<01:05,  1.02it/s]"
          ]
        },
        {
          "output_type": "stream",
          "name": "stdout",
          "text": [
            "optimal subset: ['lambdasQty', 'maxNestedBlocksQty']\n",
            "optimal subset error: 0.9980829870228608\n"
          ]
        },
        {
          "output_type": "stream",
          "name": "stderr",
          "text": [
            "\r 31%|███▏      | 30/96 [00:24<01:06,  1.00s/it]"
          ]
        },
        {
          "output_type": "stream",
          "name": "stdout",
          "text": [
            "optimal subset: ['cboModified', 'loc']\n",
            "optimal subset error: 0.972306204268165\n"
          ]
        },
        {
          "output_type": "stream",
          "name": "stderr",
          "text": [
            "\r 32%|███▏      | 31/96 [00:25<01:04,  1.01it/s]"
          ]
        },
        {
          "output_type": "stream",
          "name": "stdout",
          "text": [
            "optimal subset: ['rfc', 'anonymousClassesQty']\n",
            "optimal subset error: 0.9877026992550685\n"
          ]
        },
        {
          "output_type": "stream",
          "name": "stderr",
          "text": [
            "\r 33%|███▎      | 32/96 [00:25<00:58,  1.10it/s]"
          ]
        },
        {
          "output_type": "stream",
          "name": "stdout",
          "text": [
            "optimal subset: ['uniqueWordsQty', 'loc']\n",
            "optimal subset error: 0.9636663013536302\n"
          ]
        },
        {
          "output_type": "stream",
          "name": "stderr",
          "text": [
            "\r 34%|███▍      | 33/96 [00:26<00:53,  1.17it/s]"
          ]
        },
        {
          "output_type": "stream",
          "name": "stdout",
          "text": [
            "optimal subset: ['constructor', 'wmc']\n",
            "optimal subset error: 0.9958068383689525\n"
          ]
        },
        {
          "output_type": "stream",
          "name": "stderr",
          "text": [
            "\r 35%|███▌      | 34/96 [00:27<00:56,  1.09it/s]"
          ]
        },
        {
          "output_type": "stream",
          "name": "stdout",
          "text": [
            "optimal subset: ['methodsInvokedQty', 'anonymousClassesQty']\n",
            "optimal subset error: 0.9877026992550685\n"
          ]
        },
        {
          "output_type": "stream",
          "name": "stderr",
          "text": [
            "\r 36%|███▋      | 35/96 [00:28<00:52,  1.16it/s]"
          ]
        },
        {
          "output_type": "stream",
          "name": "stdout",
          "text": [
            "optimal subset: ['rfc', 'loopQty']\n",
            "optimal subset error: 0.9876250045640208\n"
          ]
        },
        {
          "output_type": "stream",
          "name": "stderr",
          "text": [
            "\r 38%|███▊      | 36/96 [00:29<00:49,  1.21it/s]"
          ]
        },
        {
          "output_type": "stream",
          "name": "stdout",
          "text": [
            "optimal subset: ['loc', 'parenthesizedExpsQty']\n",
            "optimal subset error: 0.9788641198219851\n"
          ]
        },
        {
          "output_type": "stream",
          "name": "stderr",
          "text": [
            "\r 40%|███▉      | 38/96 [00:29<00:36,  1.61it/s]"
          ]
        },
        {
          "output_type": "stream",
          "name": "stdout",
          "text": [
            "optimal subset: ['anonymousClassesQty', 'returnsQty']\n",
            "optimal subset error: 0.9980474069716364\n"
          ]
        },
        {
          "output_type": "stream",
          "name": "stderr",
          "text": [
            "\r 41%|████      | 39/96 [00:30<00:37,  1.51it/s]"
          ]
        },
        {
          "output_type": "stream",
          "name": "stdout",
          "text": [
            "optimal subset: ['line', 'methodsInvokedLocalQty']\n",
            "optimal subset error: 0.36104029066277077\n"
          ]
        },
        {
          "output_type": "stream",
          "name": "stderr",
          "text": [
            "\r 42%|████▏     | 40/96 [00:31<00:40,  1.37it/s]"
          ]
        },
        {
          "output_type": "stream",
          "name": "stdout",
          "text": [
            "optimal subset: ['line', 'methodsInvokedQty']\n",
            "optimal subset error: 0.3568347106113865\n"
          ]
        },
        {
          "output_type": "stream",
          "name": "stderr",
          "text": [
            "\r 43%|████▎     | 41/96 [00:32<00:43,  1.28it/s]"
          ]
        },
        {
          "output_type": "stream",
          "name": "stdout",
          "text": [
            "optimal subset: ['numbersQty', 'loopQty']\n",
            "optimal subset error: 0.9962961947310848\n"
          ]
        },
        {
          "output_type": "stream",
          "name": "stderr",
          "text": [
            "\r 44%|████▍     | 42/96 [00:33<00:42,  1.27it/s]"
          ]
        },
        {
          "output_type": "stream",
          "name": "stdout",
          "text": [
            "optimal subset: ['cbo', 'parametersQty']\n",
            "optimal subset error: 0.9927276520678167\n"
          ]
        },
        {
          "output_type": "stream",
          "name": "stderr",
          "text": [
            "\r 45%|████▍     | 43/96 [00:34<00:40,  1.30it/s]"
          ]
        },
        {
          "output_type": "stream",
          "name": "stdout",
          "text": [
            "optimal subset: ['variablesQty', 'constructor']\n",
            "optimal subset error: 0.9946045387794117\n"
          ]
        },
        {
          "output_type": "stream",
          "name": "stderr",
          "text": [
            "\r 46%|████▌     | 44/96 [00:34<00:39,  1.31it/s]"
          ]
        },
        {
          "output_type": "stream",
          "name": "stdout",
          "text": [
            "optimal subset: ['cboModified', 'fanout']\n",
            "optimal subset error: 0.9859525172943882\n"
          ]
        },
        {
          "output_type": "stream",
          "name": "stderr",
          "text": [
            "\r 47%|████▋     | 45/96 [00:35<00:41,  1.22it/s]"
          ]
        },
        {
          "output_type": "stream",
          "name": "stdout",
          "text": [
            "optimal subset: ['loopQty', 'parametersQty']\n",
            "optimal subset error: 0.996727385646402\n"
          ]
        },
        {
          "output_type": "stream",
          "name": "stderr",
          "text": [
            "\r 48%|████▊     | 46/96 [00:36<00:43,  1.15it/s]"
          ]
        },
        {
          "output_type": "stream",
          "name": "stdout",
          "text": [
            "optimal subset: ['numbersQty', 'returnsQty']\n",
            "optimal subset error: 0.9951289650701021\n"
          ]
        },
        {
          "output_type": "stream",
          "name": "stderr",
          "text": [
            "\r 49%|████▉     | 47/96 [00:37<00:45,  1.08it/s]"
          ]
        },
        {
          "output_type": "stream",
          "name": "stdout",
          "text": [
            "optimal subset: ['methodsInvokedIndirectLocalQty', 'parametersQty']\n",
            "optimal subset error: 0.9963395558876349\n"
          ]
        },
        {
          "output_type": "stream",
          "name": "stderr",
          "text": [
            "\r 50%|█████     | 48/96 [00:38<00:45,  1.05it/s]"
          ]
        },
        {
          "output_type": "stream",
          "name": "stdout",
          "text": [
            "optimal subset: ['cboModified', 'logStatementsQty']\n",
            "optimal subset error: 0.9886051096354567\n"
          ]
        },
        {
          "output_type": "stream",
          "name": "stderr",
          "text": [
            "\r 51%|█████     | 49/96 [00:39<00:41,  1.13it/s]"
          ]
        },
        {
          "output_type": "stream",
          "name": "stdout",
          "text": [
            "optimal subset: ['rfc', 'anonymousClassesQty']\n",
            "optimal subset error: 0.9877026992550685\n"
          ]
        },
        {
          "output_type": "stream",
          "name": "stderr",
          "text": [
            "\r 52%|█████▏    | 50/96 [00:40<00:38,  1.19it/s]"
          ]
        },
        {
          "output_type": "stream",
          "name": "stdout",
          "text": [
            "optimal subset: ['parametersQty', 'assignmentsQty']\n",
            "optimal subset error: 0.991473152985515\n"
          ]
        },
        {
          "output_type": "stream",
          "name": "stderr",
          "text": [
            "\r 53%|█████▎    | 51/96 [00:40<00:35,  1.25it/s]"
          ]
        },
        {
          "output_type": "stream",
          "name": "stdout",
          "text": [
            "optimal subset: ['wmc', 'assignmentsQty']\n",
            "optimal subset error: 0.991231216771598\n"
          ]
        },
        {
          "output_type": "stream",
          "name": "stderr",
          "text": [
            "\r 55%|█████▌    | 53/96 [00:41<00:25,  1.67it/s]"
          ]
        },
        {
          "output_type": "stream",
          "name": "stdout",
          "text": [
            "optimal subset: ['returnsQty', 'modifiers']\n",
            "optimal subset error: 0.727025995944975\n"
          ]
        },
        {
          "output_type": "stream",
          "name": "stderr",
          "text": [
            "\r 56%|█████▋    | 54/96 [00:42<00:26,  1.58it/s]"
          ]
        },
        {
          "output_type": "stream",
          "name": "stdout",
          "text": [
            "optimal subset: ['anonymousClassesQty', 'constructor']\n",
            "optimal subset error: 0.9994635871534744\n"
          ]
        },
        {
          "output_type": "stream",
          "name": "stderr",
          "text": [
            "\r 57%|█████▋    | 55/96 [00:43<00:26,  1.52it/s]"
          ]
        },
        {
          "output_type": "stream",
          "name": "stdout",
          "text": [
            "optimal subset: ['returnsQty', 'fanin']\n",
            "optimal subset error: 0.9937810049250553\n"
          ]
        },
        {
          "output_type": "stream",
          "name": "stderr",
          "text": [
            "\r 58%|█████▊    | 56/96 [00:43<00:26,  1.49it/s]"
          ]
        },
        {
          "output_type": "stream",
          "name": "stdout",
          "text": [
            "optimal subset: ['lambdasQty', 'cboModified']\n",
            "optimal subset error: 0.9886770579333475\n"
          ]
        },
        {
          "output_type": "stream",
          "name": "stderr",
          "text": [
            "\r 59%|█████▉    | 57/96 [00:44<00:26,  1.46it/s]"
          ]
        },
        {
          "output_type": "stream",
          "name": "stdout",
          "text": [
            "optimal subset: ['rfc', 'methodsInvokedLocalQty']\n",
            "optimal subset error: 0.9874387940157341\n"
          ]
        },
        {
          "output_type": "stream",
          "name": "stderr",
          "text": [
            "\r 60%|██████    | 58/96 [00:45<00:26,  1.44it/s]"
          ]
        },
        {
          "output_type": "stream",
          "name": "stdout",
          "text": [
            "optimal subset: ['numbersQty', 'maxNestedBlocksQty']\n",
            "optimal subset error: 0.9954357661148423\n"
          ]
        },
        {
          "output_type": "stream",
          "name": "stderr",
          "text": [
            "\r 61%|██████▏   | 59/96 [00:46<00:26,  1.42it/s]"
          ]
        },
        {
          "output_type": "stream",
          "name": "stdout",
          "text": [
            "optimal subset: ['rfc', 'methodsInvokedQty']\n",
            "optimal subset error: 0.9829465072263418\n"
          ]
        },
        {
          "output_type": "stream",
          "name": "stderr",
          "text": [
            "\r 62%|██████▎   | 60/96 [00:46<00:25,  1.42it/s]"
          ]
        },
        {
          "output_type": "stream",
          "name": "stdout",
          "text": [
            "optimal subset: ['innerClassesQty', 'variablesQty']\n",
            "optimal subset error: 0.9949436060847072\n"
          ]
        },
        {
          "output_type": "stream",
          "name": "stderr",
          "text": [
            "\r 64%|██████▎   | 61/96 [00:47<00:24,  1.41it/s]"
          ]
        },
        {
          "output_type": "stream",
          "name": "stdout",
          "text": [
            "optimal subset: ['loc', 'rfc']\n",
            "optimal subset error: 0.9743981387045387\n"
          ]
        },
        {
          "output_type": "stream",
          "name": "stderr",
          "text": [
            "\r 65%|██████▍   | 62/96 [00:48<00:24,  1.40it/s]"
          ]
        },
        {
          "output_type": "stream",
          "name": "stdout",
          "text": [
            "optimal subset: ['wmc', 'uniqueWordsQty']\n",
            "optimal subset error: 0.9726419948489156\n"
          ]
        },
        {
          "output_type": "stream",
          "name": "stderr",
          "text": [
            "\r 66%|██████▌   | 63/96 [00:48<00:24,  1.35it/s]"
          ]
        },
        {
          "output_type": "stream",
          "name": "stdout",
          "text": [
            "optimal subset: ['wmc', 'methodsInvokedLocalQty']\n",
            "optimal subset error: 0.9955096751704455\n"
          ]
        },
        {
          "output_type": "stream",
          "name": "stderr",
          "text": [
            "\r 67%|██████▋   | 64/96 [00:49<00:26,  1.23it/s]"
          ]
        },
        {
          "output_type": "stream",
          "name": "stdout",
          "text": [
            "optimal subset: ['lambdasQty', 'uniqueWordsQty']\n",
            "optimal subset error: 0.9735042282729643\n"
          ]
        },
        {
          "output_type": "stream",
          "name": "stderr",
          "text": [
            "\r 68%|██████▊   | 65/96 [00:50<00:27,  1.15it/s]"
          ]
        },
        {
          "output_type": "stream",
          "name": "stdout",
          "text": [
            "optimal subset: ['line', 'cbo']\n",
            "optimal subset error: 0.36029797950964043\n"
          ]
        },
        {
          "output_type": "stream",
          "name": "stderr",
          "text": [
            "\r 69%|██████▉   | 66/96 [00:52<00:27,  1.08it/s]"
          ]
        },
        {
          "output_type": "stream",
          "name": "stdout",
          "text": [
            "optimal subset: ['assignmentsQty', 'rfc']\n",
            "optimal subset error: 0.98475758629604\n"
          ]
        },
        {
          "output_type": "stream",
          "name": "stderr",
          "text": [
            "\r 70%|██████▉   | 67/96 [00:53<00:27,  1.05it/s]"
          ]
        },
        {
          "output_type": "stream",
          "name": "stdout",
          "text": [
            "optimal subset: ['hasJavaDoc', 'logStatementsQty']\n",
            "optimal subset error: 0.9989270589824357\n"
          ]
        },
        {
          "output_type": "stream",
          "name": "stderr",
          "text": [
            "\r 71%|███████   | 68/96 [00:53<00:24,  1.12it/s]"
          ]
        },
        {
          "output_type": "stream",
          "name": "stdout",
          "text": [
            "optimal subset: ['returnsQty', 'cbo']\n",
            "optimal subset error: 0.993334975320069\n"
          ]
        },
        {
          "output_type": "stream",
          "name": "stderr",
          "text": [
            "\r 72%|███████▏  | 69/96 [00:54<00:22,  1.19it/s]"
          ]
        },
        {
          "output_type": "stream",
          "name": "stdout",
          "text": [
            "optimal subset: ['modifiers', 'logStatementsQty']\n",
            "optimal subset error: 0.7280010170962495\n"
          ]
        },
        {
          "output_type": "stream",
          "name": "stderr",
          "text": [
            "\r 73%|███████▎  | 70/96 [00:55<00:20,  1.25it/s]"
          ]
        },
        {
          "output_type": "stream",
          "name": "stdout",
          "text": [
            "optimal subset: ['innerClassesQty', 'maxNestedBlocksQty']\n",
            "optimal subset error: 0.9982707938236698\n"
          ]
        },
        {
          "output_type": "stream",
          "name": "stderr",
          "text": [
            "\r 74%|███████▍  | 71/96 [00:55<00:19,  1.28it/s]"
          ]
        },
        {
          "output_type": "stream",
          "name": "stdout",
          "text": [
            "optimal subset: ['logStatementsQty', 'fanin']\n",
            "optimal subset error: 0.9947199556925739\n"
          ]
        },
        {
          "output_type": "stream",
          "name": "stderr",
          "text": [
            "\r 75%|███████▌  | 72/96 [00:56<00:18,  1.31it/s]"
          ]
        },
        {
          "output_type": "stream",
          "name": "stdout",
          "text": [
            "optimal subset: ['innerClassesQty', 'wmc']\n",
            "optimal subset error: 0.9961643743886875\n"
          ]
        },
        {
          "output_type": "stream",
          "name": "stderr",
          "text": [
            "\r 76%|███████▌  | 73/96 [00:57<00:17,  1.33it/s]"
          ]
        },
        {
          "output_type": "stream",
          "name": "stdout",
          "text": [
            "optimal subset: ['anonymousClassesQty', 'methodsInvokedQty']\n",
            "optimal subset error: 0.9877026992550685\n"
          ]
        },
        {
          "output_type": "stream",
          "name": "stderr",
          "text": [
            "\r 77%|███████▋  | 74/96 [00:58<00:16,  1.35it/s]"
          ]
        },
        {
          "output_type": "stream",
          "name": "stdout",
          "text": [
            "optimal subset: ['hasJavaDoc', 'mathOperationsQty']\n",
            "optimal subset error: 0.9982462008146428\n"
          ]
        },
        {
          "output_type": "stream",
          "name": "stderr",
          "text": [
            "\r 78%|███████▊  | 75/96 [00:58<00:15,  1.34it/s]"
          ]
        },
        {
          "output_type": "stream",
          "name": "stdout",
          "text": [
            "optimal subset: ['hasJavaDoc', 'numbersQty']\n",
            "optimal subset error: 0.9960455575391863\n"
          ]
        },
        {
          "output_type": "stream",
          "name": "stderr",
          "text": [
            "\r 79%|███████▉  | 76/96 [00:59<00:14,  1.36it/s]"
          ]
        },
        {
          "output_type": "stream",
          "name": "stdout",
          "text": [
            "optimal subset: ['assignmentsQty', 'parenthesizedExpsQty']\n",
            "optimal subset error: 0.9929783512191922\n"
          ]
        },
        {
          "output_type": "stream",
          "name": "stderr",
          "text": [
            "\r 80%|████████  | 77/96 [01:00<00:13,  1.37it/s]"
          ]
        },
        {
          "output_type": "stream",
          "name": "stdout",
          "text": [
            "optimal subset: ['parenthesizedExpsQty', 'maxNestedBlocksQty']\n",
            "optimal subset error: 0.9980350283827376\n"
          ]
        },
        {
          "output_type": "stream",
          "name": "stderr",
          "text": [
            "\r 81%|████████▏ | 78/96 [01:01<00:13,  1.37it/s]"
          ]
        },
        {
          "output_type": "stream",
          "name": "stdout",
          "text": [
            "optimal subset: ['methodsInvokedIndirectLocalQty', 'loopQty']\n",
            "optimal subset error: 0.9984487820797984\n"
          ]
        },
        {
          "output_type": "stream",
          "name": "stderr",
          "text": [
            "\r 82%|████████▏ | 79/96 [01:01<00:12,  1.37it/s]"
          ]
        },
        {
          "output_type": "stream",
          "name": "stdout",
          "text": [
            "optimal subset: ['innerClassesQty', 'logStatementsQty']\n",
            "optimal subset error: 0.9995520943742211\n"
          ]
        },
        {
          "output_type": "stream",
          "name": "stderr",
          "text": [
            "\r 83%|████████▎ | 80/96 [01:02<00:11,  1.37it/s]"
          ]
        },
        {
          "output_type": "stream",
          "name": "stdout",
          "text": [
            "optimal subset: ['innerClassesQty', 'modifiers']\n",
            "optimal subset error: 0.7282970621043965\n"
          ]
        },
        {
          "output_type": "stream",
          "name": "stderr",
          "text": [
            "\r 84%|████████▍ | 81/96 [01:03<00:11,  1.26it/s]"
          ]
        },
        {
          "output_type": "stream",
          "name": "stdout",
          "text": [
            "optimal subset: ['lambdasQty', 'tryCatchQty']\n",
            "optimal subset error: 0.9992647716088419\n"
          ]
        },
        {
          "output_type": "stream",
          "name": "stderr",
          "text": [
            "\r 85%|████████▌ | 82/96 [01:04<00:11,  1.17it/s]"
          ]
        },
        {
          "output_type": "stream",
          "name": "stdout",
          "text": [
            "optimal subset: ['fanin', 'methodsInvokedLocalQty']\n",
            "optimal subset error: 0.9942966691612738\n"
          ]
        },
        {
          "output_type": "stream",
          "name": "stderr",
          "text": [
            "\r 86%|████████▋ | 83/96 [01:05<00:11,  1.12it/s]"
          ]
        },
        {
          "output_type": "stream",
          "name": "stdout",
          "text": [
            "optimal subset: ['parenthesizedExpsQty', 'comparisonsQty']\n",
            "optimal subset error: 0.9984729414732791\n"
          ]
        },
        {
          "output_type": "stream",
          "name": "stderr",
          "text": [
            "\r 88%|████████▊ | 84/96 [01:06<00:11,  1.07it/s]"
          ]
        },
        {
          "output_type": "stream",
          "name": "stdout",
          "text": [
            "optimal subset: ['methodsInvokedIndirectLocalQty', 'logStatementsQty']\n",
            "optimal subset error: 0.9985263782036213\n"
          ]
        },
        {
          "output_type": "stream",
          "name": "stderr",
          "text": [
            "\r 89%|████████▊ | 85/96 [01:07<00:10,  1.08it/s]"
          ]
        },
        {
          "output_type": "stream",
          "name": "stdout",
          "text": [
            "optimal subset: ['fanout', 'innerClassesQty']\n",
            "optimal subset error: 0.9921588751553592\n"
          ]
        },
        {
          "output_type": "stream",
          "name": "stderr",
          "text": [
            "\r 90%|████████▉ | 86/96 [01:08<00:08,  1.14it/s]"
          ]
        },
        {
          "output_type": "stream",
          "name": "stdout",
          "text": [
            "optimal subset: ['methodsInvokedLocalQty', 'tryCatchQty']\n",
            "optimal subset error: 0.9985657222589062\n"
          ]
        },
        {
          "output_type": "stream",
          "name": "stderr",
          "text": [
            "\r 91%|█████████ | 87/96 [01:08<00:07,  1.20it/s]"
          ]
        },
        {
          "output_type": "stream",
          "name": "stdout",
          "text": [
            "optimal subset: ['methodsInvokedLocalQty', 'parenthesizedExpsQty']\n",
            "optimal subset error: 0.9986014023739238\n"
          ]
        },
        {
          "output_type": "stream",
          "name": "stderr",
          "text": [
            "\r 92%|█████████▏| 88/96 [01:09<00:06,  1.24it/s]"
          ]
        },
        {
          "output_type": "stream",
          "name": "stdout",
          "text": [
            "optimal subset: ['loopQty', 'methodsInvokedIndirectLocalQty']\n",
            "optimal subset error: 0.9984487820797984\n"
          ]
        },
        {
          "output_type": "stream",
          "name": "stderr",
          "text": [
            "\r 93%|█████████▎| 89/96 [01:10<00:05,  1.26it/s]"
          ]
        },
        {
          "output_type": "stream",
          "name": "stdout",
          "text": [
            "optimal subset: ['logStatementsQty', 'hasJavaDoc']\n",
            "optimal subset error: 0.9989270589824357\n"
          ]
        },
        {
          "output_type": "stream",
          "name": "stderr",
          "text": [
            "\r 94%|█████████▍| 90/96 [01:11<00:04,  1.28it/s]"
          ]
        },
        {
          "output_type": "stream",
          "name": "stdout",
          "text": [
            "optimal subset: ['comparisonsQty', 'numbersQty']\n",
            "optimal subset error: 0.9957130981484447\n"
          ]
        },
        {
          "output_type": "stream",
          "name": "stderr",
          "text": [
            "\r 95%|█████████▍| 91/96 [01:11<00:03,  1.31it/s]"
          ]
        },
        {
          "output_type": "stream",
          "name": "stdout",
          "text": [
            "optimal subset: ['methodsInvokedQty', 'numbersQty']\n",
            "optimal subset error: 0.9862357464811532\n"
          ]
        },
        {
          "output_type": "stream",
          "name": "stderr",
          "text": [
            "\r 96%|█████████▌| 92/96 [01:12<00:03,  1.32it/s]"
          ]
        },
        {
          "output_type": "stream",
          "name": "stdout",
          "text": [
            "optimal subset: ['methodsInvokedQty', 'rfc']\n",
            "optimal subset error: 0.9829465072263418\n"
          ]
        },
        {
          "output_type": "stream",
          "name": "stderr",
          "text": [
            "\r 97%|█████████▋| 93/96 [01:13<00:02,  1.33it/s]"
          ]
        },
        {
          "output_type": "stream",
          "name": "stdout",
          "text": [
            "optimal subset: ['methodsInvokedLocalQty', 'hasJavaDoc']\n",
            "optimal subset error: 0.9983646429234293\n"
          ]
        },
        {
          "output_type": "stream",
          "name": "stderr",
          "text": [
            "\r 98%|█████████▊| 94/96 [01:14<00:01,  1.34it/s]"
          ]
        },
        {
          "output_type": "stream",
          "name": "stdout",
          "text": [
            "optimal subset: ['cbo', 'methodsInvokedLocalQty']\n",
            "optimal subset error: 0.9938074340979822\n"
          ]
        },
        {
          "output_type": "stream",
          "name": "stderr",
          "text": [
            "\r 99%|█████████▉| 95/96 [01:14<00:00,  1.36it/s]"
          ]
        },
        {
          "output_type": "stream",
          "name": "stdout",
          "text": [
            "optimal subset: ['rfc', 'parametersQty']\n",
            "optimal subset error: 0.9862913608561475\n"
          ]
        },
        {
          "output_type": "stream",
          "name": "stderr",
          "text": [
            "100%|██████████| 96/96 [01:15<00:00,  1.27it/s]\n"
          ]
        },
        {
          "output_type": "stream",
          "name": "stdout",
          "text": [
            "optimal subset: ['loc', 'fanin']\n",
            "optimal subset error: 0.9757765674788741\n",
            "subset: ['line', 'methodsInvokedQty']\n",
            "subset size: 2\n",
            "error: 0.3568347106113865\n"
          ]
        },
        {
          "output_type": "stream",
          "name": "stderr",
          "text": [
            "  1%|          | 1/96 [00:00<01:10,  1.35it/s]"
          ]
        },
        {
          "output_type": "stream",
          "name": "stdout",
          "text": [
            "optimal subset: ['wmc', 'rfc', 'mathOperationsQty']\n",
            "optimal subset error: 0.9859706981149684\n"
          ]
        },
        {
          "output_type": "stream",
          "name": "stderr",
          "text": [
            "\r  2%|▏         | 2/96 [00:01<01:12,  1.30it/s]"
          ]
        },
        {
          "output_type": "stream",
          "name": "stdout",
          "text": [
            "optimal subset: ['stringLiteralsQty', 'mathOperationsQty', 'lambdasQty']\n",
            "optimal subset error: 0.9924404331054227\n"
          ]
        },
        {
          "output_type": "stream",
          "name": "stderr",
          "text": [
            "\r  3%|▎         | 3/96 [00:02<01:20,  1.16it/s]"
          ]
        },
        {
          "output_type": "stream",
          "name": "stdout",
          "text": [
            "optimal subset: ['tryCatchQty', 'fanout', 'loopQty']\n",
            "optimal subset error: 0.991782079828448\n"
          ]
        },
        {
          "output_type": "stream",
          "name": "stderr",
          "text": [
            "\r  4%|▍         | 4/96 [00:03<01:23,  1.10it/s]"
          ]
        },
        {
          "output_type": "stream",
          "name": "stdout",
          "text": [
            "optimal subset: ['line', 'uniqueWordsQty', 'variablesQty']\n",
            "optimal subset error: 0.34971126236339006\n"
          ]
        },
        {
          "output_type": "stream",
          "name": "stderr",
          "text": [
            "\r  5%|▌         | 5/96 [00:04<01:28,  1.03it/s]"
          ]
        },
        {
          "output_type": "stream",
          "name": "stdout",
          "text": [
            "optimal subset: ['modifiers', 'comparisonsQty', 'innerClassesQty']\n",
            "optimal subset error: 0.7274070279103501\n"
          ]
        },
        {
          "output_type": "stream",
          "name": "stderr",
          "text": [
            "\r  6%|▋         | 6/96 [00:05<01:27,  1.03it/s]"
          ]
        },
        {
          "output_type": "stream",
          "name": "stdout",
          "text": [
            "optimal subset: ['lambdasQty', 'maxNestedBlocksQty', 'wmc']\n",
            "optimal subset error: 0.9954392065534294\n"
          ]
        },
        {
          "output_type": "stream",
          "name": "stderr",
          "text": [
            "\r  7%|▋         | 7/96 [00:06<01:20,  1.11it/s]"
          ]
        },
        {
          "output_type": "stream",
          "name": "stdout",
          "text": [
            "optimal subset: ['cbo', 'returnsQty', 'constructor']\n",
            "optimal subset error: 0.9931689431626823\n"
          ]
        },
        {
          "output_type": "stream",
          "name": "stderr",
          "text": [
            "\r  8%|▊         | 8/96 [00:07<01:15,  1.16it/s]"
          ]
        },
        {
          "output_type": "stream",
          "name": "stdout",
          "text": [
            "optimal subset: ['modifiers', 'uniqueWordsQty', 'wmc']\n",
            "optimal subset error: 0.7029641899310692\n"
          ]
        },
        {
          "output_type": "stream",
          "name": "stderr",
          "text": [
            "\r  9%|▉         | 9/96 [00:07<01:11,  1.21it/s]"
          ]
        },
        {
          "output_type": "stream",
          "name": "stdout",
          "text": [
            "optimal subset: ['constructor', 'methodsInvokedLocalQty', 'cboModified']\n",
            "optimal subset error: 0.9882198922268288\n"
          ]
        },
        {
          "output_type": "stream",
          "name": "stderr",
          "text": [
            "\r 10%|█         | 10/96 [00:08<01:08,  1.26it/s]"
          ]
        },
        {
          "output_type": "stream",
          "name": "stdout",
          "text": [
            "optimal subset: ['modifiers', 'variablesQty', 'comparisonsQty']\n",
            "optimal subset error: 0.7237304742859864\n"
          ]
        },
        {
          "output_type": "stream",
          "name": "stderr",
          "text": [
            "\r 11%|█▏        | 11/96 [00:09<01:08,  1.25it/s]"
          ]
        },
        {
          "output_type": "stream",
          "name": "stdout",
          "text": [
            "optimal subset: ['lambdasQty', 'returnsQty', 'mathOperationsQty']\n",
            "optimal subset error: 0.997002608011591\n"
          ]
        },
        {
          "output_type": "stream",
          "name": "stderr",
          "text": [
            "\r 12%|█▎        | 12/96 [00:10<01:04,  1.29it/s]"
          ]
        },
        {
          "output_type": "stream",
          "name": "stdout",
          "text": [
            "optimal subset: ['cbo', 'anonymousClassesQty', 'innerClassesQty']\n",
            "optimal subset error: 0.9942702731229958\n"
          ]
        },
        {
          "output_type": "stream",
          "name": "stderr",
          "text": [
            "\r 14%|█▎        | 13/96 [00:10<01:02,  1.32it/s]"
          ]
        },
        {
          "output_type": "stream",
          "name": "stdout",
          "text": [
            "optimal subset: ['hasJavaDoc', 'maxNestedBlocksQty', 'variablesQty']\n",
            "optimal subset error: 0.9938826563803436\n"
          ]
        },
        {
          "output_type": "stream",
          "name": "stderr",
          "text": [
            "\r 15%|█▍        | 14/96 [00:11<01:01,  1.34it/s]"
          ]
        },
        {
          "output_type": "stream",
          "name": "stdout",
          "text": [
            "optimal subset: ['returnsQty', 'numbersQty', 'lambdasQty']\n",
            "optimal subset error: 0.9949874261432511\n"
          ]
        },
        {
          "output_type": "stream",
          "name": "stderr",
          "text": [
            "\r 16%|█▌        | 15/96 [00:12<00:59,  1.35it/s]"
          ]
        },
        {
          "output_type": "stream",
          "name": "stdout",
          "text": [
            "optimal subset: ['constructor', 'uniqueWordsQty', 'parenthesizedExpsQty']\n",
            "optimal subset error: 0.9733803984387686\n"
          ]
        },
        {
          "output_type": "stream",
          "name": "stderr",
          "text": [
            "\r 17%|█▋        | 16/96 [00:12<00:59,  1.35it/s]"
          ]
        },
        {
          "output_type": "stream",
          "name": "stdout",
          "text": [
            "optimal subset: ['constructor', 'rfc', 'loc']\n",
            "optimal subset error: 0.9742701213953928\n"
          ]
        },
        {
          "output_type": "stream",
          "name": "stderr",
          "text": [
            "\r 18%|█▊        | 17/96 [00:13<00:58,  1.35it/s]"
          ]
        },
        {
          "output_type": "stream",
          "name": "stdout",
          "text": [
            "optimal subset: ['hasJavaDoc', 'maxNestedBlocksQty', 'cboModified']\n",
            "optimal subset error: 0.9878758523765802\n"
          ]
        },
        {
          "output_type": "stream",
          "name": "stderr",
          "text": [
            "\r 19%|█▉        | 18/96 [00:14<00:58,  1.34it/s]"
          ]
        },
        {
          "output_type": "stream",
          "name": "stdout",
          "text": [
            "optimal subset: ['stringLiteralsQty', 'uniqueWordsQty', 'logStatementsQty']\n",
            "optimal subset error: 0.9711392980857121\n"
          ]
        },
        {
          "output_type": "stream",
          "name": "stderr",
          "text": [
            "\r 20%|█▉        | 19/96 [00:15<00:57,  1.34it/s]"
          ]
        },
        {
          "output_type": "stream",
          "name": "stdout",
          "text": [
            "optimal subset: ['hasJavaDoc', 'parenthesizedExpsQty', 'mathOperationsQty']\n",
            "optimal subset error: 0.9980430795189488\n"
          ]
        },
        {
          "output_type": "stream",
          "name": "stderr",
          "text": [
            "\r 21%|██        | 20/96 [00:16<01:02,  1.21it/s]"
          ]
        },
        {
          "output_type": "stream",
          "name": "stdout",
          "text": [
            "optimal subset: ['returnsQty', 'uniqueWordsQty', 'logStatementsQty']\n",
            "optimal subset error: 0.9730777890964739\n"
          ]
        },
        {
          "output_type": "stream",
          "name": "stderr",
          "text": [
            "\r 22%|██▏       | 21/96 [00:17<01:05,  1.14it/s]"
          ]
        },
        {
          "output_type": "stream",
          "name": "stdout",
          "text": [
            "optimal subset: ['wmc', 'methodsInvokedQty', 'assignmentsQty']\n",
            "optimal subset error: 0.9836084203662148\n"
          ]
        },
        {
          "output_type": "stream",
          "name": "stderr",
          "text": [
            "\r 23%|██▎       | 22/96 [00:18<01:09,  1.06it/s]"
          ]
        },
        {
          "output_type": "stream",
          "name": "stdout",
          "text": [
            "optimal subset: ['logStatementsQty', 'methodsInvokedQty', 'cboModified']\n",
            "optimal subset error: 0.9805759589968448\n"
          ]
        },
        {
          "output_type": "stream",
          "name": "stderr",
          "text": [
            "\r 24%|██▍       | 23/96 [00:19<01:09,  1.05it/s]"
          ]
        },
        {
          "output_type": "stream",
          "name": "stdout",
          "text": [
            "optimal subset: ['modifiers', 'variablesQty', 'mathOperationsQty']\n",
            "optimal subset error: 0.7237748491221506\n"
          ]
        },
        {
          "output_type": "stream",
          "name": "stderr",
          "text": [
            "\r 25%|██▌       | 24/96 [00:20<01:03,  1.14it/s]"
          ]
        },
        {
          "output_type": "stream",
          "name": "stdout",
          "text": [
            "optimal subset: ['methodsInvokedQty', 'mathOperationsQty', 'numbersQty']\n",
            "optimal subset error: 0.985944666482614\n"
          ]
        },
        {
          "output_type": "stream",
          "name": "stderr",
          "text": [
            "\r 26%|██▌       | 25/96 [00:20<00:59,  1.20it/s]"
          ]
        },
        {
          "output_type": "stream",
          "name": "stdout",
          "text": [
            "optimal subset: ['innerClassesQty', 'modifiers', 'numbersQty']\n",
            "optimal subset error: 0.7253890616546271\n"
          ]
        },
        {
          "output_type": "stream",
          "name": "stderr",
          "text": [
            "\r 27%|██▋       | 26/96 [00:21<00:56,  1.24it/s]"
          ]
        },
        {
          "output_type": "stream",
          "name": "stdout",
          "text": [
            "optimal subset: ['returnsQty', 'maxNestedBlocksQty', 'anonymousClassesQty']\n",
            "optimal subset error: 0.9968727785722422\n"
          ]
        },
        {
          "output_type": "stream",
          "name": "stderr",
          "text": [
            "\r 28%|██▊       | 27/96 [00:22<00:53,  1.28it/s]"
          ]
        },
        {
          "output_type": "stream",
          "name": "stdout",
          "text": [
            "optimal subset: ['fanin', 'line', 'mathOperationsQty']\n",
            "optimal subset error: 0.35835238720500084\n"
          ]
        },
        {
          "output_type": "stream",
          "name": "stderr",
          "text": [
            "\r 29%|██▉       | 28/96 [00:22<00:51,  1.32it/s]"
          ]
        },
        {
          "output_type": "stream",
          "name": "stdout",
          "text": [
            "optimal subset: ['line', 'mathOperationsQty', 'cboModified']\n",
            "optimal subset error: 0.35303817743310834\n"
          ]
        },
        {
          "output_type": "stream",
          "name": "stderr",
          "text": [
            "\r 30%|███       | 29/96 [00:23<00:50,  1.33it/s]"
          ]
        },
        {
          "output_type": "stream",
          "name": "stdout",
          "text": [
            "optimal subset: ['methodsInvokedIndirectLocalQty', 'maxNestedBlocksQty', 'mathOperationsQty']\n",
            "optimal subset error: 0.9967474525120291\n"
          ]
        },
        {
          "output_type": "stream",
          "name": "stderr",
          "text": [
            "\r 31%|███▏      | 30/96 [00:24<00:49,  1.34it/s]"
          ]
        },
        {
          "output_type": "stream",
          "name": "stdout",
          "text": [
            "optimal subset: ['uniqueWordsQty', 'methodsInvokedQty', 'logStatementsQty']\n",
            "optimal subset error: 0.9692087848310031\n"
          ]
        },
        {
          "output_type": "stream",
          "name": "stderr",
          "text": [
            "\r 32%|███▏      | 31/96 [00:25<00:47,  1.36it/s]"
          ]
        },
        {
          "output_type": "stream",
          "name": "stdout",
          "text": [
            "optimal subset: ['returnsQty', 'mathOperationsQty', 'logStatementsQty']\n",
            "optimal subset error: 0.9969036212601988\n"
          ]
        },
        {
          "output_type": "stream",
          "name": "stderr",
          "text": [
            "\r 33%|███▎      | 32/96 [00:25<00:47,  1.35it/s]"
          ]
        },
        {
          "output_type": "stream",
          "name": "stdout",
          "text": [
            "optimal subset: ['innerClassesQty', 'methodsInvokedLocalQty', 'line']\n",
            "optimal subset error: 0.3610402426014426\n"
          ]
        },
        {
          "output_type": "stream",
          "name": "stderr",
          "text": [
            "\r 34%|███▍      | 33/96 [00:26<00:46,  1.35it/s]"
          ]
        },
        {
          "output_type": "stream",
          "name": "stdout",
          "text": [
            "optimal subset: ['wmc', 'assignmentsQty', 'loopQty']\n",
            "optimal subset error: 0.9911523701056174\n"
          ]
        },
        {
          "output_type": "stream",
          "name": "stderr",
          "text": [
            "\r 35%|███▌      | 34/96 [00:27<00:45,  1.36it/s]"
          ]
        },
        {
          "output_type": "stream",
          "name": "stdout",
          "text": [
            "optimal subset: ['rfc', 'hasJavaDoc', 'loc']\n",
            "optimal subset error: 0.9742368787915942\n"
          ]
        },
        {
          "output_type": "stream",
          "name": "stderr",
          "text": [
            "\r 36%|███▋      | 35/96 [00:28<00:44,  1.37it/s]"
          ]
        },
        {
          "output_type": "stream",
          "name": "stdout",
          "text": [
            "optimal subset: ['innerClassesQty', 'parametersQty', 'cbo']\n",
            "optimal subset error: 0.9927274857727246\n"
          ]
        },
        {
          "output_type": "stream",
          "name": "stderr",
          "text": [
            "\r 38%|███▊      | 36/96 [00:28<00:44,  1.36it/s]"
          ]
        },
        {
          "output_type": "stream",
          "name": "stdout",
          "text": [
            "optimal subset: ['wmc', 'line', 'loc']\n",
            "optimal subset error: 0.34964810064497315\n"
          ]
        },
        {
          "output_type": "stream",
          "name": "stderr",
          "text": [
            "\r 40%|███▉      | 38/96 [00:29<00:35,  1.62it/s]"
          ]
        },
        {
          "output_type": "stream",
          "name": "stdout",
          "text": [
            "optimal subset: ['loc', 'mathOperationsQty', 'returnsQty']\n",
            "optimal subset error: 0.9781520526085761\n"
          ]
        },
        {
          "output_type": "stream",
          "name": "stderr",
          "text": [
            "\r 41%|████      | 39/96 [00:30<00:40,  1.42it/s]"
          ]
        },
        {
          "output_type": "stream",
          "name": "stdout",
          "text": [
            "optimal subset: ['variablesQty', 'cboModified', 'wmc']\n",
            "optimal subset error: 0.984353840139047\n"
          ]
        },
        {
          "output_type": "stream",
          "name": "stderr",
          "text": [
            "\r 42%|████▏     | 40/96 [00:31<00:44,  1.26it/s]"
          ]
        },
        {
          "output_type": "stream",
          "name": "stdout",
          "text": [
            "optimal subset: ['loc', 'tryCatchQty', 'returnsQty']\n",
            "optimal subset error: 0.9783489339024726\n"
          ]
        },
        {
          "output_type": "stream",
          "name": "stderr",
          "text": [
            "\r 43%|████▎     | 41/96 [00:32<00:47,  1.17it/s]"
          ]
        },
        {
          "output_type": "stream",
          "name": "stdout",
          "text": [
            "optimal subset: ['numbersQty', 'lambdasQty', 'variablesQty']\n",
            "optimal subset error: 0.9928331476822327\n"
          ]
        },
        {
          "output_type": "stream",
          "name": "stderr",
          "text": [
            "\r 44%|████▍     | 42/96 [00:33<00:44,  1.22it/s]"
          ]
        },
        {
          "output_type": "stream",
          "name": "stdout",
          "text": [
            "optimal subset: ['cboModified', 'mathOperationsQty', 'uniqueWordsQty']\n",
            "optimal subset error: 0.967193335369229\n"
          ]
        },
        {
          "output_type": "stream",
          "name": "stderr",
          "text": [
            "\r 45%|████▍     | 43/96 [00:34<00:42,  1.26it/s]"
          ]
        },
        {
          "output_type": "stream",
          "name": "stdout",
          "text": [
            "optimal subset: ['fanout', 'logStatementsQty', 'returnsQty']\n",
            "optimal subset error: 0.9908432020458373\n"
          ]
        },
        {
          "output_type": "stream",
          "name": "stderr",
          "text": [
            "\r 46%|████▌     | 44/96 [00:34<00:41,  1.26it/s]"
          ]
        },
        {
          "output_type": "stream",
          "name": "stdout",
          "text": [
            "optimal subset: ['numbersQty', 'parametersQty', 'hasJavaDoc']\n",
            "optimal subset error: 0.9938827907120785\n"
          ]
        },
        {
          "output_type": "stream",
          "name": "stderr",
          "text": [
            "\r 47%|████▋     | 45/96 [00:35<00:39,  1.29it/s]"
          ]
        },
        {
          "output_type": "stream",
          "name": "stdout",
          "text": [
            "optimal subset: ['methodsInvokedQty', 'parametersQty', 'methodsInvokedLocalQty']\n",
            "optimal subset error: 0.986052882037698\n"
          ]
        },
        {
          "output_type": "stream",
          "name": "stderr",
          "text": [
            "\r 48%|████▊     | 46/96 [00:36<00:38,  1.30it/s]"
          ]
        },
        {
          "output_type": "stream",
          "name": "stdout",
          "text": [
            "optimal subset: ['cboModified', 'parenthesizedExpsQty', 'anonymousClassesQty']\n",
            "optimal subset error: 0.9885725668888066\n"
          ]
        },
        {
          "output_type": "stream",
          "name": "stderr",
          "text": [
            "\r 49%|████▉     | 47/96 [00:37<00:37,  1.31it/s]"
          ]
        },
        {
          "output_type": "stream",
          "name": "stdout",
          "text": [
            "optimal subset: ['methodsInvokedLocalQty', 'mathOperationsQty', 'methodsInvokedIndirectLocalQty']\n",
            "optimal subset error: 0.9974175005818583\n"
          ]
        },
        {
          "output_type": "stream",
          "name": "stderr",
          "text": [
            "\r 50%|█████     | 48/96 [00:37<00:36,  1.32it/s]"
          ]
        },
        {
          "output_type": "stream",
          "name": "stdout",
          "text": [
            "optimal subset: ['innerClassesQty', 'tryCatchQty', 'methodsInvokedQty']\n",
            "optimal subset error: 0.98765266563215\n"
          ]
        },
        {
          "output_type": "stream",
          "name": "stderr",
          "text": [
            "\r 51%|█████     | 49/96 [00:38<00:35,  1.33it/s]"
          ]
        },
        {
          "output_type": "stream",
          "name": "stdout",
          "text": [
            "optimal subset: ['parametersQty', 'constructor', 'loopQty']\n",
            "optimal subset error: 0.9965107151601531\n"
          ]
        },
        {
          "output_type": "stream",
          "name": "stderr",
          "text": [
            "\r 52%|█████▏    | 50/96 [00:39<00:34,  1.34it/s]"
          ]
        },
        {
          "output_type": "stream",
          "name": "stdout",
          "text": [
            "optimal subset: ['constructor', 'mathOperationsQty', 'anonymousClassesQty']\n",
            "optimal subset error: 0.9983586943625296\n"
          ]
        },
        {
          "output_type": "stream",
          "name": "stderr",
          "text": [
            "\r 53%|█████▎    | 51/96 [00:40<00:33,  1.35it/s]"
          ]
        },
        {
          "output_type": "stream",
          "name": "stdout",
          "text": [
            "optimal subset: ['assignmentsQty', 'methodsInvokedQty', 'comparisonsQty']\n",
            "optimal subset error: 0.9844160139817502\n"
          ]
        },
        {
          "output_type": "stream",
          "name": "stderr",
          "text": [
            "\r 55%|█████▌    | 53/96 [00:40<00:24,  1.77it/s]"
          ]
        },
        {
          "output_type": "stream",
          "name": "stdout",
          "text": [
            "optimal subset: ['methodsInvokedIndirectLocalQty', 'cbo', 'line']\n",
            "optimal subset error: 0.3602555700325549\n"
          ]
        },
        {
          "output_type": "stream",
          "name": "stderr",
          "text": [
            "\r 56%|█████▋    | 54/96 [00:41<00:25,  1.66it/s]"
          ]
        },
        {
          "output_type": "stream",
          "name": "stdout",
          "text": [
            "optimal subset: ['loopQty', 'numbersQty', 'mathOperationsQty']\n",
            "optimal subset error: 0.9956789779863172\n"
          ]
        },
        {
          "output_type": "stream",
          "name": "stderr",
          "text": [
            "\r 57%|█████▋    | 55/96 [00:42<00:26,  1.56it/s]"
          ]
        },
        {
          "output_type": "stream",
          "name": "stdout",
          "text": [
            "optimal subset: ['logStatementsQty', 'wmc', 'returnsQty']\n",
            "optimal subset error: 0.9948839546591504\n"
          ]
        },
        {
          "output_type": "stream",
          "name": "stderr",
          "text": [
            "\r 58%|█████▊    | 56/96 [00:43<00:28,  1.39it/s]"
          ]
        },
        {
          "output_type": "stream",
          "name": "stdout",
          "text": [
            "optimal subset: ['constructor', 'returnsQty', 'comparisonsQty']\n",
            "optimal subset error: 0.9969043406948382\n"
          ]
        },
        {
          "output_type": "stream",
          "name": "stderr",
          "text": [
            "\r 59%|█████▉    | 57/96 [00:44<00:31,  1.26it/s]"
          ]
        },
        {
          "output_type": "stream",
          "name": "stdout",
          "text": [
            "optimal subset: ['variablesQty', 'modifiers', 'methodsInvokedQty']\n",
            "optimal subset error: 0.7161722727883004\n"
          ]
        },
        {
          "output_type": "stream",
          "name": "stderr",
          "text": [
            "\r 60%|██████    | 58/96 [00:45<00:32,  1.16it/s]"
          ]
        },
        {
          "output_type": "stream",
          "name": "stdout",
          "text": [
            "optimal subset: ['logStatementsQty', 'rfc', 'innerClassesQty']\n",
            "optimal subset error: 0.9876259146610308\n"
          ]
        },
        {
          "output_type": "stream",
          "name": "stderr",
          "text": [
            "\r 61%|██████▏   | 59/96 [00:46<00:34,  1.09it/s]"
          ]
        },
        {
          "output_type": "stream",
          "name": "stdout",
          "text": [
            "optimal subset: ['tryCatchQty', 'parenthesizedExpsQty', 'stringLiteralsQty']\n",
            "optimal subset error: 0.9926849848510274\n"
          ]
        },
        {
          "output_type": "stream",
          "name": "stderr",
          "text": [
            "\r 62%|██████▎   | 60/96 [00:47<00:31,  1.13it/s]"
          ]
        },
        {
          "output_type": "stream",
          "name": "stdout",
          "text": [
            "optimal subset: ['logStatementsQty', 'assignmentsQty', 'parametersQty']\n",
            "optimal subset error: 0.9913494032765732\n"
          ]
        },
        {
          "output_type": "stream",
          "name": "stderr",
          "text": [
            "\r 64%|██████▎   | 61/96 [00:47<00:29,  1.18it/s]"
          ]
        },
        {
          "output_type": "stream",
          "name": "stdout",
          "text": [
            "optimal subset: ['rfc', 'loc', 'hasJavaDoc']\n",
            "optimal subset error: 0.9742368787915942\n"
          ]
        },
        {
          "output_type": "stream",
          "name": "stderr",
          "text": [
            "\r 65%|██████▍   | 62/96 [00:48<00:27,  1.23it/s]"
          ]
        },
        {
          "output_type": "stream",
          "name": "stdout",
          "text": [
            "optimal subset: ['cbo', 'methodsInvokedLocalQty', 'stringLiteralsQty']\n",
            "optimal subset error: 0.9889200834992962\n"
          ]
        },
        {
          "output_type": "stream",
          "name": "stderr",
          "text": [
            "\r 66%|██████▌   | 63/96 [00:49<00:25,  1.28it/s]"
          ]
        },
        {
          "output_type": "stream",
          "name": "stdout",
          "text": [
            "optimal subset: ['comparisonsQty', 'assignmentsQty', 'methodsInvokedLocalQty']\n",
            "optimal subset error: 0.9920892149468709\n"
          ]
        },
        {
          "output_type": "stream",
          "name": "stderr",
          "text": [
            "\r 67%|██████▋   | 64/96 [00:50<00:24,  1.31it/s]"
          ]
        },
        {
          "output_type": "stream",
          "name": "stdout",
          "text": [
            "optimal subset: ['line', 'constructor', 'lambdasQty']\n",
            "optimal subset error: 0.3610728139423782\n"
          ]
        },
        {
          "output_type": "stream",
          "name": "stderr",
          "text": [
            "\r 68%|██████▊   | 65/96 [00:50<00:23,  1.33it/s]"
          ]
        },
        {
          "output_type": "stream",
          "name": "stdout",
          "text": [
            "optimal subset: ['stringLiteralsQty', 'lambdasQty', 'variablesQty']\n",
            "optimal subset error: 0.990102081651219\n"
          ]
        },
        {
          "output_type": "stream",
          "name": "stderr",
          "text": [
            "\r 69%|██████▉   | 66/96 [00:51<00:22,  1.34it/s]"
          ]
        },
        {
          "output_type": "stream",
          "name": "stdout",
          "text": [
            "optimal subset: ['methodsInvokedLocalQty', 'comparisonsQty', 'cbo']\n",
            "optimal subset error: 0.9931518833457743\n"
          ]
        },
        {
          "output_type": "stream",
          "name": "stderr",
          "text": [
            "\r 70%|██████▉   | 67/96 [00:52<00:21,  1.35it/s]"
          ]
        },
        {
          "output_type": "stream",
          "name": "stdout",
          "text": [
            "optimal subset: ['fanin', 'innerClassesQty', 'anonymousClassesQty']\n",
            "optimal subset error: 0.9949766343747625\n"
          ]
        },
        {
          "output_type": "stream",
          "name": "stderr",
          "text": [
            "\r 71%|███████   | 68/96 [00:53<00:20,  1.36it/s]"
          ]
        },
        {
          "output_type": "stream",
          "name": "stdout",
          "text": [
            "optimal subset: ['wmc', 'fanin', 'line']\n",
            "optimal subset error: 0.35758775073833887\n"
          ]
        },
        {
          "output_type": "stream",
          "name": "stderr",
          "text": [
            "\r 72%|███████▏  | 69/96 [00:53<00:19,  1.37it/s]"
          ]
        },
        {
          "output_type": "stream",
          "name": "stdout",
          "text": [
            "optimal subset: ['tryCatchQty', 'mathOperationsQty', 'fanout']\n",
            "optimal subset error: 0.9913748141447661\n"
          ]
        },
        {
          "output_type": "stream",
          "name": "stderr",
          "text": [
            "\r 73%|███████▎  | 70/96 [00:54<00:18,  1.38it/s]"
          ]
        },
        {
          "output_type": "stream",
          "name": "stdout",
          "text": [
            "optimal subset: ['modifiers', 'stringLiteralsQty', 'anonymousClassesQty']\n",
            "optimal subset error: 0.7220639675878047\n"
          ]
        },
        {
          "output_type": "stream",
          "name": "stderr",
          "text": [
            "\r 74%|███████▍  | 71/96 [00:55<00:18,  1.39it/s]"
          ]
        },
        {
          "output_type": "stream",
          "name": "stdout",
          "text": [
            "optimal subset: ['maxNestedBlocksQty', 'assignmentsQty', 'uniqueWordsQty']\n",
            "optimal subset error: 0.9716669235794798\n"
          ]
        },
        {
          "output_type": "stream",
          "name": "stderr",
          "text": [
            "\r 75%|███████▌  | 72/96 [00:55<00:17,  1.37it/s]"
          ]
        },
        {
          "output_type": "stream",
          "name": "stdout",
          "text": [
            "optimal subset: ['methodsInvokedIndirectLocalQty', 'fanout', 'comparisonsQty']\n",
            "optimal subset error: 0.9909953324044013\n"
          ]
        },
        {
          "output_type": "stream",
          "name": "stderr",
          "text": [
            "\r 76%|███████▌  | 73/96 [00:56<00:17,  1.35it/s]"
          ]
        },
        {
          "output_type": "stream",
          "name": "stdout",
          "text": [
            "optimal subset: ['hasJavaDoc', 'uniqueWordsQty', 'maxNestedBlocksQty']\n",
            "optimal subset error: 0.9732378125776128\n"
          ]
        },
        {
          "output_type": "stream",
          "name": "stderr",
          "text": [
            "\r 77%|███████▋  | 74/96 [00:57<00:18,  1.21it/s]"
          ]
        },
        {
          "output_type": "stream",
          "name": "stdout",
          "text": [
            "optimal subset: ['parametersQty', 'variablesQty', 'logStatementsQty']\n",
            "optimal subset error: 0.9927949860691331\n"
          ]
        },
        {
          "output_type": "stream",
          "name": "stderr",
          "text": [
            "\r 78%|███████▊  | 75/96 [00:59<00:21,  1.04s/it]"
          ]
        },
        {
          "output_type": "stream",
          "name": "stdout",
          "text": [
            "optimal subset: ['methodsInvokedLocalQty', 'uniqueWordsQty', 'methodsInvokedIndirectLocalQty']\n",
            "optimal subset error: 0.9731889897407349\n"
          ]
        },
        {
          "output_type": "stream",
          "name": "stderr",
          "text": [
            "\r 79%|███████▉  | 76/96 [01:00<00:21,  1.05s/it]"
          ]
        },
        {
          "output_type": "stream",
          "name": "stdout",
          "text": [
            "optimal subset: ['methodsInvokedQty', 'uniqueWordsQty', 'parametersQty']\n",
            "optimal subset error: 0.9686620629923215\n"
          ]
        },
        {
          "output_type": "stream",
          "name": "stderr",
          "text": [
            "\r 80%|████████  | 77/96 [01:01<00:18,  1.03it/s]"
          ]
        },
        {
          "output_type": "stream",
          "name": "stdout",
          "text": [
            "optimal subset: ['logStatementsQty', 'rfc', 'parametersQty']\n",
            "optimal subset error: 0.9862098548772408\n"
          ]
        },
        {
          "output_type": "stream",
          "name": "stderr",
          "text": [
            "\r 81%|████████▏ | 78/96 [01:01<00:16,  1.12it/s]"
          ]
        },
        {
          "output_type": "stream",
          "name": "stdout",
          "text": [
            "optimal subset: ['mathOperationsQty', 'line', 'lambdasQty']\n",
            "optimal subset error: 0.3609320159135351\n"
          ]
        },
        {
          "output_type": "stream",
          "name": "stderr",
          "text": [
            "\r 82%|████████▏ | 79/96 [01:02<00:14,  1.18it/s]"
          ]
        },
        {
          "output_type": "stream",
          "name": "stdout",
          "text": [
            "optimal subset: ['uniqueWordsQty', 'cboModified', 'loopQty']\n",
            "optimal subset error: 0.9673300029398281\n"
          ]
        },
        {
          "output_type": "stream",
          "name": "stderr",
          "text": [
            "\r 83%|████████▎ | 80/96 [01:03<00:13,  1.22it/s]"
          ]
        },
        {
          "output_type": "stream",
          "name": "stdout",
          "text": [
            "optimal subset: ['logStatementsQty', 'parametersQty', 'uniqueWordsQty']\n",
            "optimal subset error: 0.9727776615786564\n"
          ]
        },
        {
          "output_type": "stream",
          "name": "stderr",
          "text": [
            "\r 84%|████████▍ | 81/96 [01:04<00:11,  1.26it/s]"
          ]
        },
        {
          "output_type": "stream",
          "name": "stdout",
          "text": [
            "optimal subset: ['assignmentsQty', 'numbersQty', 'comparisonsQty']\n",
            "optimal subset error: 0.990954056735443\n"
          ]
        },
        {
          "output_type": "stream",
          "name": "stderr",
          "text": [
            "\r 85%|████████▌ | 82/96 [01:04<00:11,  1.26it/s]"
          ]
        },
        {
          "output_type": "stream",
          "name": "stdout",
          "text": [
            "optimal subset: ['tryCatchQty', 'modifiers', 'methodsInvokedLocalQty']\n",
            "optimal subset error: 0.7273549843369377\n"
          ]
        },
        {
          "output_type": "stream",
          "name": "stderr",
          "text": [
            "\r 86%|████████▋ | 83/96 [01:05<00:10,  1.29it/s]"
          ]
        },
        {
          "output_type": "stream",
          "name": "stdout",
          "text": [
            "optimal subset: ['rfc', 'tryCatchQty', 'modifiers']\n",
            "optimal subset error: 0.7175422665754007\n"
          ]
        },
        {
          "output_type": "stream",
          "name": "stderr",
          "text": [
            "\r 88%|████████▊ | 84/96 [01:06<00:09,  1.30it/s]"
          ]
        },
        {
          "output_type": "stream",
          "name": "stdout",
          "text": [
            "optimal subset: ['fanout', 'numbersQty', 'mathOperationsQty']\n",
            "optimal subset error: 0.989499499793796\n"
          ]
        },
        {
          "output_type": "stream",
          "name": "stderr",
          "text": [
            "\r 89%|████████▊ | 85/96 [01:07<00:08,  1.32it/s]"
          ]
        },
        {
          "output_type": "stream",
          "name": "stdout",
          "text": [
            "optimal subset: ['loopQty', 'variablesQty', 'anonymousClassesQty']\n",
            "optimal subset error: 0.9947743999462296\n"
          ]
        },
        {
          "output_type": "stream",
          "name": "stderr",
          "text": [
            "\r 90%|████████▉ | 86/96 [01:07<00:07,  1.31it/s]"
          ]
        },
        {
          "output_type": "stream",
          "name": "stdout",
          "text": [
            "optimal subset: ['cbo', 'maxNestedBlocksQty', 'anonymousClassesQty']\n",
            "optimal subset error: 0.9935155221842705\n"
          ]
        },
        {
          "output_type": "stream",
          "name": "stderr",
          "text": [
            "\r 91%|█████████ | 87/96 [01:08<00:06,  1.33it/s]"
          ]
        },
        {
          "output_type": "stream",
          "name": "stdout",
          "text": [
            "optimal subset: ['logStatementsQty', 'lambdasQty', 'tryCatchQty']\n",
            "optimal subset error: 0.9989325892596553\n"
          ]
        },
        {
          "output_type": "stream",
          "name": "stderr",
          "text": [
            "\r 92%|█████████▏| 88/96 [01:09<00:06,  1.33it/s]"
          ]
        },
        {
          "output_type": "stream",
          "name": "stdout",
          "text": [
            "optimal subset: ['methodsInvokedLocalQty', 'lambdasQty', 'assignmentsQty']\n",
            "optimal subset error: 0.9924833199243488\n"
          ]
        },
        {
          "output_type": "stream",
          "name": "stderr",
          "text": [
            "\r 93%|█████████▎| 89/96 [01:10<00:05,  1.34it/s]"
          ]
        },
        {
          "output_type": "stream",
          "name": "stdout",
          "text": [
            "optimal subset: ['mathOperationsQty', 'tryCatchQty', 'anonymousClassesQty']\n",
            "optimal subset error: 0.9984331311965223\n"
          ]
        },
        {
          "output_type": "stream",
          "name": "stderr",
          "text": [
            "\r 94%|█████████▍| 90/96 [01:10<00:04,  1.30it/s]"
          ]
        },
        {
          "output_type": "stream",
          "name": "stdout",
          "text": [
            "optimal subset: ['wmc', 'innerClassesQty', 'cboModified']\n",
            "optimal subset error: 0.9865603492181684\n"
          ]
        },
        {
          "output_type": "stream",
          "name": "stderr",
          "text": [
            "\r 95%|█████████▍| 91/96 [01:11<00:04,  1.19it/s]"
          ]
        },
        {
          "output_type": "stream",
          "name": "stdout",
          "text": [
            "optimal subset: ['tryCatchQty', 'maxNestedBlocksQty', 'mathOperationsQty']\n",
            "optimal subset error: 0.9973080593903073\n"
          ]
        },
        {
          "output_type": "stream",
          "name": "stderr",
          "text": [
            "\r 96%|█████████▌| 92/96 [01:12<00:03,  1.14it/s]"
          ]
        },
        {
          "output_type": "stream",
          "name": "stdout",
          "text": [
            "optimal subset: ['rfc', 'hasJavaDoc', 'constructor']\n",
            "optimal subset error: 0.9872449097591608\n"
          ]
        },
        {
          "output_type": "stream",
          "name": "stderr",
          "text": [
            "\r 97%|█████████▋| 93/96 [01:13<00:02,  1.08it/s]"
          ]
        },
        {
          "output_type": "stream",
          "name": "stdout",
          "text": [
            "optimal subset: ['mathOperationsQty', 'maxNestedBlocksQty', 'comparisonsQty']\n",
            "optimal subset error: 0.996778490586781\n"
          ]
        },
        {
          "output_type": "stream",
          "name": "stderr",
          "text": [
            "\r 98%|█████████▊| 94/96 [01:14<00:01,  1.07it/s]"
          ]
        },
        {
          "output_type": "stream",
          "name": "stdout",
          "text": [
            "optimal subset: ['methodsInvokedQty', 'methodsInvokedLocalQty', 'anonymousClassesQty']\n",
            "optimal subset error: 0.9874190257250216\n"
          ]
        },
        {
          "output_type": "stream",
          "name": "stderr",
          "text": [
            "\r 99%|█████████▉| 95/96 [01:15<00:00,  1.15it/s]"
          ]
        },
        {
          "output_type": "stream",
          "name": "stdout",
          "text": [
            "optimal subset: ['lambdasQty', 'stringLiteralsQty', 'maxNestedBlocksQty']\n",
            "optimal subset error: 0.9920909008123341\n"
          ]
        },
        {
          "output_type": "stream",
          "name": "stderr",
          "text": [
            "100%|██████████| 96/96 [01:16<00:00,  1.26it/s]\n"
          ]
        },
        {
          "output_type": "stream",
          "name": "stdout",
          "text": [
            "optimal subset: ['parenthesizedExpsQty', 'tryCatchQty', 'loopQty']\n",
            "optimal subset error: 0.9987901627650707\n",
            "subset: ['wmc', 'line', 'loc']\n",
            "subset size: 3\n",
            "error: 0.34964810064497315\n"
          ]
        },
        {
          "output_type": "stream",
          "name": "stderr",
          "text": [
            "  1%|          | 1/96 [00:00<01:08,  1.38it/s]"
          ]
        },
        {
          "output_type": "stream",
          "name": "stdout",
          "text": [
            "optimal subset: ['innerClassesQty', 'constructor', 'logStatementsQty', 'returnsQty']\n",
            "optimal subset error: 0.9974544977825184\n"
          ]
        },
        {
          "output_type": "stream",
          "name": "stderr",
          "text": [
            "\r  2%|▏         | 2/96 [00:01<01:09,  1.35it/s]"
          ]
        },
        {
          "output_type": "stream",
          "name": "stdout",
          "text": [
            "optimal subset: ['wmc', 'parametersQty', 'methodsInvokedLocalQty', 'methodsInvokedQty']\n",
            "optimal subset error: 0.984727564489794\n"
          ]
        },
        {
          "output_type": "stream",
          "name": "stderr",
          "text": [
            "\r  3%|▎         | 3/96 [00:02<01:09,  1.33it/s]"
          ]
        },
        {
          "output_type": "stream",
          "name": "stdout",
          "text": [
            "optimal subset: ['numbersQty', 'line', 'parametersQty', 'modifiers']\n",
            "optimal subset error: 0.04821244128327823\n"
          ]
        },
        {
          "output_type": "stream",
          "name": "stderr",
          "text": [
            "\r  4%|▍         | 4/96 [00:02<01:08,  1.35it/s]"
          ]
        },
        {
          "output_type": "stream",
          "name": "stdout",
          "text": [
            "optimal subset: ['cbo', 'methodsInvokedLocalQty', 'lambdasQty', 'variablesQty']\n",
            "optimal subset error: 0.9909474513677784\n"
          ]
        },
        {
          "output_type": "stream",
          "name": "stderr",
          "text": [
            "\r  5%|▌         | 5/96 [00:03<01:06,  1.37it/s]"
          ]
        },
        {
          "output_type": "stream",
          "name": "stdout",
          "text": [
            "optimal subset: ['parenthesizedExpsQty', 'cbo', 'fanout', 'methodsInvokedLocalQty']\n",
            "optimal subset error: 0.9884206223175245\n"
          ]
        },
        {
          "output_type": "stream",
          "name": "stderr",
          "text": [
            "\r  6%|▋         | 6/96 [00:04<01:05,  1.37it/s]"
          ]
        },
        {
          "output_type": "stream",
          "name": "stdout",
          "text": [
            "optimal subset: ['wmc', 'parametersQty', 'tryCatchQty', 'fanout']\n",
            "optimal subset error: 0.9880694334608937\n"
          ]
        },
        {
          "output_type": "stream",
          "name": "stderr",
          "text": [
            "\r  7%|▋         | 7/96 [00:05<01:04,  1.37it/s]"
          ]
        },
        {
          "output_type": "stream",
          "name": "stdout",
          "text": [
            "optimal subset: ['wmc', 'fanout', 'cboModified', 'stringLiteralsQty']\n",
            "optimal subset error: 0.9802602532103419\n"
          ]
        },
        {
          "output_type": "stream",
          "name": "stderr",
          "text": [
            "\r  8%|▊         | 8/96 [00:05<01:03,  1.38it/s]"
          ]
        },
        {
          "output_type": "stream",
          "name": "stdout",
          "text": [
            "optimal subset: ['methodsInvokedIndirectLocalQty', 'fanin', 'loopQty', 'parenthesizedExpsQty']\n",
            "optimal subset error: 0.9937594387807483\n"
          ]
        },
        {
          "output_type": "stream",
          "name": "stderr",
          "text": [
            "\r  9%|▉         | 9/96 [00:06<01:03,  1.37it/s]"
          ]
        },
        {
          "output_type": "stream",
          "name": "stdout",
          "text": [
            "optimal subset: ['constructor', 'lambdasQty', 'methodsInvokedLocalQty', 'fanout']\n",
            "optimal subset error: 0.9913916934214488\n"
          ]
        },
        {
          "output_type": "stream",
          "name": "stderr",
          "text": [
            "\r 10%|█         | 10/96 [00:07<01:02,  1.38it/s]"
          ]
        },
        {
          "output_type": "stream",
          "name": "stdout",
          "text": [
            "optimal subset: ['wmc', 'innerClassesQty', 'modifiers', 'fanout']\n",
            "optimal subset error: 0.7194097112058764\n"
          ]
        },
        {
          "output_type": "stream",
          "name": "stderr",
          "text": [
            "\r 11%|█▏        | 11/96 [00:08<01:01,  1.39it/s]"
          ]
        },
        {
          "output_type": "stream",
          "name": "stdout",
          "text": [
            "optimal subset: ['tryCatchQty', 'innerClassesQty', 'loc', 'lambdasQty']\n",
            "optimal subset error: 0.9788478182462775\n"
          ]
        },
        {
          "output_type": "stream",
          "name": "stderr",
          "text": [
            "\r 12%|█▎        | 12/96 [00:08<01:05,  1.28it/s]"
          ]
        },
        {
          "output_type": "stream",
          "name": "stdout",
          "text": [
            "optimal subset: ['fanout', 'stringLiteralsQty', 'methodsInvokedIndirectLocalQty', 'modifiers']\n",
            "optimal subset error: 0.7164785428777859\n"
          ]
        },
        {
          "output_type": "stream",
          "name": "stderr",
          "text": [
            "\r 14%|█▎        | 13/96 [00:09<01:10,  1.17it/s]"
          ]
        },
        {
          "output_type": "stream",
          "name": "stdout",
          "text": [
            "optimal subset: ['maxNestedBlocksQty', 'fanin', 'mathOperationsQty', 'logStatementsQty']\n",
            "optimal subset error: 0.9930192205956538\n"
          ]
        },
        {
          "output_type": "stream",
          "name": "stderr",
          "text": [
            "\r 15%|█▍        | 14/96 [00:10<01:13,  1.12it/s]"
          ]
        },
        {
          "output_type": "stream",
          "name": "stdout",
          "text": [
            "optimal subset: ['cbo', 'anonymousClassesQty', 'methodsInvokedQty', 'loc']\n",
            "optimal subset error: 0.9728911268177952\n"
          ]
        },
        {
          "output_type": "stream",
          "name": "stderr",
          "text": [
            "\r 16%|█▌        | 15/96 [00:12<01:16,  1.06it/s]"
          ]
        },
        {
          "output_type": "stream",
          "name": "stdout",
          "text": [
            "optimal subset: ['line', 'innerClassesQty', 'parametersQty', 'comparisonsQty']\n",
            "optimal subset error: 0.3606633317450206\n"
          ]
        },
        {
          "output_type": "stream",
          "name": "stderr",
          "text": [
            "\r 17%|█▋        | 16/96 [00:12<01:11,  1.13it/s]"
          ]
        },
        {
          "output_type": "stream",
          "name": "stdout",
          "text": [
            "optimal subset: ['lambdasQty', 'methodsInvokedIndirectLocalQty', 'modifiers', 'wmc']\n",
            "optimal subset error: 0.7246664974794605\n"
          ]
        },
        {
          "output_type": "stream",
          "name": "stderr",
          "text": [
            "\r 18%|█▊        | 17/96 [00:13<01:06,  1.19it/s]"
          ]
        },
        {
          "output_type": "stream",
          "name": "stdout",
          "text": [
            "optimal subset: ['returnsQty', 'loc', 'loopQty', 'lambdasQty']\n",
            "optimal subset error: 0.9782877741772849\n"
          ]
        },
        {
          "output_type": "stream",
          "name": "stderr",
          "text": [
            "\r 19%|█▉        | 18/96 [00:14<01:02,  1.24it/s]"
          ]
        },
        {
          "output_type": "stream",
          "name": "stdout",
          "text": [
            "optimal subset: ['maxNestedBlocksQty', 'rfc', 'assignmentsQty', 'methodsInvokedQty']\n",
            "optimal subset error: 0.9802114172694383\n"
          ]
        },
        {
          "output_type": "stream",
          "name": "stderr",
          "text": [
            "\r 20%|█▉        | 19/96 [00:14<00:59,  1.29it/s]"
          ]
        },
        {
          "output_type": "stream",
          "name": "stdout",
          "text": [
            "optimal subset: ['uniqueWordsQty', 'cboModified', 'loc', 'lambdasQty']\n",
            "optimal subset error: 0.9583461603379544\n"
          ]
        },
        {
          "output_type": "stream",
          "name": "stderr",
          "text": [
            "\r 21%|██        | 20/96 [00:15<00:57,  1.31it/s]"
          ]
        },
        {
          "output_type": "stream",
          "name": "stdout",
          "text": [
            "optimal subset: ['tryCatchQty', 'returnsQty', 'variablesQty', 'comparisonsQty']\n",
            "optimal subset error: 0.9931591686166485\n"
          ]
        },
        {
          "output_type": "stream",
          "name": "stderr",
          "text": [
            "\r 22%|██▏       | 21/96 [00:16<00:56,  1.32it/s]"
          ]
        },
        {
          "output_type": "stream",
          "name": "stdout",
          "text": [
            "optimal subset: ['returnsQty', 'cbo', 'maxNestedBlocksQty', 'variablesQty']\n",
            "optimal subset error: 0.9901986469740015\n"
          ]
        },
        {
          "output_type": "stream",
          "name": "stderr",
          "text": [
            "\r 23%|██▎       | 22/96 [00:17<00:55,  1.33it/s]"
          ]
        },
        {
          "output_type": "stream",
          "name": "stdout",
          "text": [
            "optimal subset: ['line', 'cboModified', 'lambdasQty', 'constructor']\n",
            "optimal subset error: 0.3531399035911379\n"
          ]
        },
        {
          "output_type": "stream",
          "name": "stderr",
          "text": [
            "\r 24%|██▍       | 23/96 [00:17<00:54,  1.33it/s]"
          ]
        },
        {
          "output_type": "stream",
          "name": "stdout",
          "text": [
            "optimal subset: ['logStatementsQty', 'wmc', 'innerClassesQty', 'hasJavaDoc']\n",
            "optimal subset error: 0.9955424642174575\n"
          ]
        },
        {
          "output_type": "stream",
          "name": "stderr",
          "text": [
            "\r 25%|██▌       | 24/96 [00:18<00:54,  1.33it/s]"
          ]
        },
        {
          "output_type": "stream",
          "name": "stdout",
          "text": [
            "optimal subset: ['fanout', 'loopQty', 'innerClassesQty', 'uniqueWordsQty']\n",
            "optimal subset error: 0.9697004758456105\n"
          ]
        },
        {
          "output_type": "stream",
          "name": "stderr",
          "text": [
            "\r 26%|██▌       | 25/96 [00:19<00:53,  1.34it/s]"
          ]
        },
        {
          "output_type": "stream",
          "name": "stdout",
          "text": [
            "optimal subset: ['methodsInvokedIndirectLocalQty', 'fanout', 'constructor', 'cbo']\n",
            "optimal subset error: 0.9883147518684275\n"
          ]
        },
        {
          "output_type": "stream",
          "name": "stderr",
          "text": [
            "\r 27%|██▋       | 26/96 [00:20<00:52,  1.35it/s]"
          ]
        },
        {
          "output_type": "stream",
          "name": "stdout",
          "text": [
            "optimal subset: ['methodsInvokedIndirectLocalQty', 'maxNestedBlocksQty', 'mathOperationsQty', 'innerClassesQty']\n",
            "optimal subset error: 0.9967472845550813\n"
          ]
        },
        {
          "output_type": "stream",
          "name": "stderr",
          "text": [
            "\r 28%|██▊       | 27/96 [00:20<00:51,  1.33it/s]"
          ]
        },
        {
          "output_type": "stream",
          "name": "stdout",
          "text": [
            "optimal subset: ['fanin', 'variablesQty', 'cbo', 'methodsInvokedLocalQty']\n",
            "optimal subset error: 0.9875526866054939\n"
          ]
        },
        {
          "output_type": "stream",
          "name": "stderr",
          "text": [
            "\r 29%|██▉       | 28/96 [00:21<00:50,  1.33it/s]"
          ]
        },
        {
          "output_type": "stream",
          "name": "stdout",
          "text": [
            "optimal subset: ['modifiers', 'methodsInvokedIndirectLocalQty', 'parenthesizedExpsQty', 'rfc']\n",
            "optimal subset error: 0.7171721113026188\n"
          ]
        },
        {
          "output_type": "stream",
          "name": "stderr",
          "text": [
            "\r 30%|███       | 29/96 [00:22<00:53,  1.24it/s]"
          ]
        },
        {
          "output_type": "stream",
          "name": "stdout",
          "text": [
            "optimal subset: ['returnsQty', 'parenthesizedExpsQty', 'maxNestedBlocksQty', 'loc']\n",
            "optimal subset error: 0.9781611340920773\n"
          ]
        },
        {
          "output_type": "stream",
          "name": "stderr",
          "text": [
            "\r 31%|███▏      | 30/96 [00:23<00:56,  1.16it/s]"
          ]
        },
        {
          "output_type": "stream",
          "name": "stdout",
          "text": [
            "optimal subset: ['rfc', 'tryCatchQty', 'comparisonsQty', 'fanout']\n",
            "optimal subset error: 0.9832044699474567\n"
          ]
        },
        {
          "output_type": "stream",
          "name": "stderr",
          "text": [
            "\r 32%|███▏      | 31/96 [00:24<00:58,  1.10it/s]"
          ]
        },
        {
          "output_type": "stream",
          "name": "stdout",
          "text": [
            "optimal subset: ['lambdasQty', 'hasJavaDoc', 'tryCatchQty', 'loopQty']\n",
            "optimal subset error: 0.9982680932387966\n"
          ]
        },
        {
          "output_type": "stream",
          "name": "stderr",
          "text": [
            "\r 33%|███▎      | 32/96 [00:25<01:00,  1.06it/s]"
          ]
        },
        {
          "output_type": "stream",
          "name": "stdout",
          "text": [
            "optimal subset: ['rfc', 'maxNestedBlocksQty', 'uniqueWordsQty', 'cbo']\n",
            "optimal subset error: 0.9680191666241695\n"
          ]
        },
        {
          "output_type": "stream",
          "name": "stderr",
          "text": [
            "\r 34%|███▍      | 33/96 [00:26<00:55,  1.14it/s]"
          ]
        },
        {
          "output_type": "stream",
          "name": "stdout",
          "text": [
            "optimal subset: ['loc', 'lambdasQty', 'fanin', 'returnsQty']\n",
            "optimal subset error: 0.9753116449853564\n"
          ]
        },
        {
          "output_type": "stream",
          "name": "stderr",
          "text": [
            "\r 35%|███▌      | 34/96 [00:27<00:51,  1.20it/s]"
          ]
        },
        {
          "output_type": "stream",
          "name": "stdout",
          "text": [
            "optimal subset: ['comparisonsQty', 'cbo', 'tryCatchQty', 'returnsQty']\n",
            "optimal subset error: 0.9926463058834646\n"
          ]
        },
        {
          "output_type": "stream",
          "name": "stderr",
          "text": [
            "\r 36%|███▋      | 35/96 [00:27<00:48,  1.25it/s]"
          ]
        },
        {
          "output_type": "stream",
          "name": "stdout",
          "text": [
            "optimal subset: ['uniqueWordsQty', 'cbo', 'cboModified', 'anonymousClassesQty']\n",
            "optimal subset error: 0.9662256477091571\n"
          ]
        },
        {
          "output_type": "stream",
          "name": "stderr",
          "text": [
            "\r 38%|███▊      | 36/96 [00:28<00:46,  1.28it/s]"
          ]
        },
        {
          "output_type": "stream",
          "name": "stdout",
          "text": [
            "optimal subset: ['constructor', 'logStatementsQty', 'anonymousClassesQty', 'numbersQty']\n",
            "optimal subset error: 0.9958288635792629\n"
          ]
        },
        {
          "output_type": "stream",
          "name": "stderr",
          "text": [
            "\r 40%|███▉      | 38/96 [00:29<00:34,  1.70it/s]"
          ]
        },
        {
          "output_type": "stream",
          "name": "stdout",
          "text": [
            "optimal subset: ['parametersQty', 'uniqueWordsQty', 'returnsQty', 'methodsInvokedQty']\n",
            "optimal subset error: 0.9683912667971171\n"
          ]
        },
        {
          "output_type": "stream",
          "name": "stderr",
          "text": [
            "\r 41%|████      | 39/96 [00:29<00:35,  1.60it/s]"
          ]
        },
        {
          "output_type": "stream",
          "name": "stdout",
          "text": [
            "optimal subset: ['mathOperationsQty', 'stringLiteralsQty', 'fanout', 'innerClassesQty']\n",
            "optimal subset error: 0.986895325755482\n"
          ]
        },
        {
          "output_type": "stream",
          "name": "stderr",
          "text": [
            "\r 42%|████▏     | 40/96 [00:30<00:36,  1.54it/s]"
          ]
        },
        {
          "output_type": "stream",
          "name": "stdout",
          "text": [
            "optimal subset: ['fanout', 'tryCatchQty', 'constructor', 'maxNestedBlocksQty']\n",
            "optimal subset error: 0.9909976558901871\n"
          ]
        },
        {
          "output_type": "stream",
          "name": "stderr",
          "text": [
            "\r 43%|████▎     | 41/96 [00:31<00:37,  1.48it/s]"
          ]
        },
        {
          "output_type": "stream",
          "name": "stdout",
          "text": [
            "optimal subset: ['loc', 'assignmentsQty', 'parenthesizedExpsQty', 'mathOperationsQty']\n",
            "optimal subset error: 0.977049392623338\n"
          ]
        },
        {
          "output_type": "stream",
          "name": "stderr",
          "text": [
            "\r 44%|████▍     | 42/96 [00:32<00:37,  1.43it/s]"
          ]
        },
        {
          "output_type": "stream",
          "name": "stdout",
          "text": [
            "optimal subset: ['parametersQty', 'methodsInvokedQty', 'innerClassesQty', 'cbo']\n",
            "optimal subset error: 0.9843942526836122\n"
          ]
        },
        {
          "output_type": "stream",
          "name": "stderr",
          "text": [
            "\r 45%|████▍     | 43/96 [00:32<00:37,  1.41it/s]"
          ]
        },
        {
          "output_type": "stream",
          "name": "stdout",
          "text": [
            "optimal subset: ['cboModified', 'fanout', 'anonymousClassesQty', 'tryCatchQty']\n",
            "optimal subset error: 0.985818335879954\n"
          ]
        },
        {
          "output_type": "stream",
          "name": "stderr",
          "text": [
            "\r 46%|████▌     | 44/96 [00:33<00:37,  1.40it/s]"
          ]
        },
        {
          "output_type": "stream",
          "name": "stdout",
          "text": [
            "optimal subset: ['constructor', 'logStatementsQty', 'numbersQty', 'loopQty']\n",
            "optimal subset error: 0.995641674834059\n"
          ]
        },
        {
          "output_type": "stream",
          "name": "stderr",
          "text": [
            "\r 47%|████▋     | 45/96 [00:34<00:36,  1.39it/s]"
          ]
        },
        {
          "output_type": "stream",
          "name": "stdout",
          "text": [
            "optimal subset: ['cboModified', 'returnsQty', 'methodsInvokedLocalQty', 'methodsInvokedQty']\n",
            "optimal subset error: 0.9799226857330985\n"
          ]
        },
        {
          "output_type": "stream",
          "name": "stderr",
          "text": [
            "\r 48%|████▊     | 46/96 [00:35<00:36,  1.39it/s]"
          ]
        },
        {
          "output_type": "stream",
          "name": "stdout",
          "text": [
            "optimal subset: ['rfc', 'assignmentsQty', 'methodsInvokedIndirectLocalQty', 'uniqueWordsQty']\n",
            "optimal subset error: 0.9677467127678766\n"
          ]
        },
        {
          "output_type": "stream",
          "name": "stderr",
          "text": [
            "\r 49%|████▉     | 47/96 [00:35<00:37,  1.30it/s]"
          ]
        },
        {
          "output_type": "stream",
          "name": "stdout",
          "text": [
            "optimal subset: ['fanout', 'parenthesizedExpsQty', 'logStatementsQty', 'assignmentsQty']\n",
            "optimal subset error: 0.9873251944437902\n"
          ]
        },
        {
          "output_type": "stream",
          "name": "stderr",
          "text": [
            "\r 50%|█████     | 48/96 [00:36<00:39,  1.20it/s]"
          ]
        },
        {
          "output_type": "stream",
          "name": "stdout",
          "text": [
            "optimal subset: ['methodsInvokedQty', 'parenthesizedExpsQty', 'lambdasQty', 'methodsInvokedLocalQty']\n",
            "optimal subset error: 0.98727320406298\n"
          ]
        },
        {
          "output_type": "stream",
          "name": "stderr",
          "text": [
            "\r 51%|█████     | 49/96 [00:37<00:41,  1.15it/s]"
          ]
        },
        {
          "output_type": "stream",
          "name": "stdout",
          "text": [
            "optimal subset: ['stringLiteralsQty', 'numbersQty', 'methodsInvokedQty', 'rfc']\n",
            "optimal subset error: 0.9790619714936563\n"
          ]
        },
        {
          "output_type": "stream",
          "name": "stderr",
          "text": [
            "\r 52%|█████▏    | 50/96 [00:39<00:43,  1.07it/s]"
          ]
        },
        {
          "output_type": "stream",
          "name": "stdout",
          "text": [
            "optimal subset: ['parametersQty', 'returnsQty', 'logStatementsQty', 'numbersQty']\n",
            "optimal subset error: 0.9930674715469767\n"
          ]
        },
        {
          "output_type": "stream",
          "name": "stderr",
          "text": [
            "\r 53%|█████▎    | 51/96 [00:39<00:42,  1.07it/s]"
          ]
        },
        {
          "output_type": "stream",
          "name": "stdout",
          "text": [
            "optimal subset: ['returnsQty', 'tryCatchQty', 'assignmentsQty', 'mathOperationsQty']\n",
            "optimal subset error: 0.9916023113767505\n"
          ]
        },
        {
          "output_type": "stream",
          "name": "stderr",
          "text": [
            "\r 55%|█████▌    | 53/96 [00:40<00:29,  1.47it/s]"
          ]
        },
        {
          "output_type": "stream",
          "name": "stdout",
          "text": [
            "optimal subset: ['parenthesizedExpsQty', 'hasJavaDoc', 'mathOperationsQty', 'uniqueWordsQty']\n",
            "optimal subset error: 0.9731743350650535\n"
          ]
        },
        {
          "output_type": "stream",
          "name": "stderr",
          "text": [
            "\r 56%|█████▋    | 54/96 [00:41<00:29,  1.44it/s]"
          ]
        },
        {
          "output_type": "stream",
          "name": "stdout",
          "text": [
            "optimal subset: ['returnsQty', 'wmc', 'innerClassesQty', 'loopQty']\n",
            "optimal subset error: 0.9949033017951675\n"
          ]
        },
        {
          "output_type": "stream",
          "name": "stderr",
          "text": [
            "\r 57%|█████▋    | 55/96 [00:42<00:28,  1.42it/s]"
          ]
        },
        {
          "output_type": "stream",
          "name": "stdout",
          "text": [
            "optimal subset: ['returnsQty', 'comparisonsQty', 'fanout', 'maxNestedBlocksQty']\n",
            "optimal subset error: 0.9899191759782581\n"
          ]
        },
        {
          "output_type": "stream",
          "name": "stderr",
          "text": [
            "\r 58%|█████▊    | 56/96 [00:42<00:28,  1.41it/s]"
          ]
        },
        {
          "output_type": "stream",
          "name": "stdout",
          "text": [
            "optimal subset: ['parenthesizedExpsQty', 'methodsInvokedQty', 'assignmentsQty', 'methodsInvokedLocalQty']\n",
            "optimal subset error: 0.984443814776266\n"
          ]
        },
        {
          "output_type": "stream",
          "name": "stderr",
          "text": [
            "\r 59%|█████▉    | 57/96 [00:43<00:27,  1.40it/s]"
          ]
        },
        {
          "output_type": "stream",
          "name": "stdout",
          "text": [
            "optimal subset: ['uniqueWordsQty', 'tryCatchQty', 'fanin', 'assignmentsQty']\n",
            "optimal subset error: 0.9692178883948103\n"
          ]
        },
        {
          "output_type": "stream",
          "name": "stderr",
          "text": [
            "\r 60%|██████    | 58/96 [00:44<00:27,  1.39it/s]"
          ]
        },
        {
          "output_type": "stream",
          "name": "stdout",
          "text": [
            "optimal subset: ['wmc', 'loc', 'assignmentsQty', 'anonymousClassesQty']\n",
            "optimal subset error: 0.9767727214210967\n"
          ]
        },
        {
          "output_type": "stream",
          "name": "stderr",
          "text": [
            "\r 61%|██████▏   | 59/96 [00:45<00:26,  1.38it/s]"
          ]
        },
        {
          "output_type": "stream",
          "name": "stdout",
          "text": [
            "optimal subset: ['fanin', 'constructor', 'tryCatchQty', 'loc']\n",
            "optimal subset error: 0.9756281409347441\n"
          ]
        },
        {
          "output_type": "stream",
          "name": "stderr",
          "text": [
            "\r 62%|██████▎   | 60/96 [00:45<00:25,  1.39it/s]"
          ]
        },
        {
          "output_type": "stream",
          "name": "stdout",
          "text": [
            "optimal subset: ['numbersQty', 'cboModified', 'constructor', 'anonymousClassesQty']\n",
            "optimal subset error: 0.9864219145269919\n"
          ]
        },
        {
          "output_type": "stream",
          "name": "stderr",
          "text": [
            "\r 64%|██████▎   | 61/96 [00:46<00:25,  1.37it/s]"
          ]
        },
        {
          "output_type": "stream",
          "name": "stdout",
          "text": [
            "optimal subset: ['modifiers', 'tryCatchQty', 'methodsInvokedIndirectLocalQty', 'lambdasQty']\n",
            "optimal subset error: 0.7271588449464109\n"
          ]
        },
        {
          "output_type": "stream",
          "name": "stderr",
          "text": [
            "\r 65%|██████▍   | 62/96 [00:47<00:24,  1.37it/s]"
          ]
        },
        {
          "output_type": "stream",
          "name": "stdout",
          "text": [
            "optimal subset: ['uniqueWordsQty', 'mathOperationsQty', 'modifiers', 'comparisonsQty']\n",
            "optimal subset error: 0.7034135516540734\n"
          ]
        },
        {
          "output_type": "stream",
          "name": "stderr",
          "text": [
            "\r 66%|██████▌   | 63/96 [00:48<00:23,  1.38it/s]"
          ]
        },
        {
          "output_type": "stream",
          "name": "stdout",
          "text": [
            "optimal subset: ['stringLiteralsQty', 'tryCatchQty', 'fanin', 'parenthesizedExpsQty']\n",
            "optimal subset error: 0.988632199999213\n"
          ]
        },
        {
          "output_type": "stream",
          "name": "stderr",
          "text": [
            "\r 67%|██████▋   | 64/96 [00:48<00:23,  1.37it/s]"
          ]
        },
        {
          "output_type": "stream",
          "name": "stdout",
          "text": [
            "optimal subset: ['methodsInvokedQty', 'modifiers', 'stringLiteralsQty', 'fanout']\n",
            "optimal subset error: 0.7104216044394461\n"
          ]
        },
        {
          "output_type": "stream",
          "name": "stderr",
          "text": [
            "\r 68%|██████▊   | 65/96 [00:49<00:22,  1.36it/s]"
          ]
        },
        {
          "output_type": "stream",
          "name": "stdout",
          "text": [
            "optimal subset: ['loc', 'innerClassesQty', 'anonymousClassesQty', 'stringLiteralsQty']\n",
            "optimal subset error: 0.9764876914118219\n"
          ]
        },
        {
          "output_type": "stream",
          "name": "stderr",
          "text": [
            "\r 69%|██████▉   | 66/96 [00:50<00:24,  1.23it/s]"
          ]
        },
        {
          "output_type": "stream",
          "name": "stdout",
          "text": [
            "optimal subset: ['constructor', 'parenthesizedExpsQty', 'line', 'fanout']\n",
            "optimal subset error: 0.35564908490129027\n"
          ]
        },
        {
          "output_type": "stream",
          "name": "stderr",
          "text": [
            "\r 70%|██████▉   | 67/96 [00:51<00:25,  1.13it/s]"
          ]
        },
        {
          "output_type": "stream",
          "name": "stdout",
          "text": [
            "optimal subset: ['variablesQty', 'rfc', 'stringLiteralsQty', 'methodsInvokedIndirectLocalQty']\n",
            "optimal subset error: 0.9828127205094206\n"
          ]
        },
        {
          "output_type": "stream",
          "name": "stderr",
          "text": [
            "\r 71%|███████   | 68/96 [00:52<00:26,  1.07it/s]"
          ]
        },
        {
          "output_type": "stream",
          "name": "stdout",
          "text": [
            "optimal subset: ['parametersQty', 'constructor', 'variablesQty', 'fanin']\n",
            "optimal subset error: 0.9891812627930586\n"
          ]
        },
        {
          "output_type": "stream",
          "name": "stderr",
          "text": [
            "\r 72%|███████▏  | 69/96 [00:53<00:26,  1.03it/s]"
          ]
        },
        {
          "output_type": "stream",
          "name": "stdout",
          "text": [
            "optimal subset: ['stringLiteralsQty', 'cboModified', 'maxNestedBlocksQty', 'parametersQty']\n",
            "optimal subset error: 0.9823847323042496\n"
          ]
        },
        {
          "output_type": "stream",
          "name": "stderr",
          "text": [
            "\r 73%|███████▎  | 70/96 [00:54<00:23,  1.11it/s]"
          ]
        },
        {
          "output_type": "stream",
          "name": "stdout",
          "text": [
            "optimal subset: ['parametersQty', 'fanout', 'loopQty', 'returnsQty']\n",
            "optimal subset error: 0.9893617006326745\n"
          ]
        },
        {
          "output_type": "stream",
          "name": "stderr",
          "text": [
            "\r 74%|███████▍  | 71/96 [00:55<00:21,  1.18it/s]"
          ]
        },
        {
          "output_type": "stream",
          "name": "stdout",
          "text": [
            "optimal subset: ['cboModified', 'methodsInvokedQty', 'lambdasQty', 'line']\n",
            "optimal subset error: 0.3494535367706186\n"
          ]
        },
        {
          "output_type": "stream",
          "name": "stderr",
          "text": [
            "\r 75%|███████▌  | 72/96 [00:55<00:19,  1.24it/s]"
          ]
        },
        {
          "output_type": "stream",
          "name": "stdout",
          "text": [
            "optimal subset: ['maxNestedBlocksQty', 'mathOperationsQty', 'rfc', 'innerClassesQty']\n",
            "optimal subset error: 0.9869852936552331\n"
          ]
        },
        {
          "output_type": "stream",
          "name": "stderr",
          "text": [
            "\r 76%|███████▌  | 73/96 [00:56<00:18,  1.27it/s]"
          ]
        },
        {
          "output_type": "stream",
          "name": "stdout",
          "text": [
            "optimal subset: ['methodsInvokedQty', 'constructor', 'methodsInvokedLocalQty', 'rfc']\n",
            "optimal subset error: 0.982511372529808\n"
          ]
        },
        {
          "output_type": "stream",
          "name": "stderr",
          "text": [
            "\r 77%|███████▋  | 74/96 [00:57<00:16,  1.31it/s]"
          ]
        },
        {
          "output_type": "stream",
          "name": "stdout",
          "text": [
            "optimal subset: ['numbersQty', 'lambdasQty', 'wmc', 'innerClassesQty']\n",
            "optimal subset error: 0.9935950405301599\n"
          ]
        },
        {
          "output_type": "stream",
          "name": "stderr",
          "text": [
            "\r 78%|███████▊  | 75/96 [00:58<00:15,  1.32it/s]"
          ]
        },
        {
          "output_type": "stream",
          "name": "stdout",
          "text": [
            "optimal subset: ['constructor', 'methodsInvokedIndirectLocalQty', 'hasJavaDoc', 'logStatementsQty']\n",
            "optimal subset error: 0.9976644869117899\n"
          ]
        },
        {
          "output_type": "stream",
          "name": "stderr",
          "text": [
            "\r 79%|███████▉  | 76/96 [00:58<00:14,  1.34it/s]"
          ]
        },
        {
          "output_type": "stream",
          "name": "stdout",
          "text": [
            "optimal subset: ['mathOperationsQty', 'variablesQty', 'comparisonsQty', 'cbo']\n",
            "optimal subset error: 0.9904842585453474\n"
          ]
        },
        {
          "output_type": "stream",
          "name": "stderr",
          "text": [
            "\r 80%|████████  | 77/96 [00:59<00:13,  1.36it/s]"
          ]
        },
        {
          "output_type": "stream",
          "name": "stdout",
          "text": [
            "optimal subset: ['anonymousClassesQty', 'maxNestedBlocksQty', 'rfc', 'returnsQty']\n",
            "optimal subset error: 0.9865978581844422\n"
          ]
        },
        {
          "output_type": "stream",
          "name": "stderr",
          "text": [
            "\r 81%|████████▏ | 78/96 [01:00<00:13,  1.35it/s]"
          ]
        },
        {
          "output_type": "stream",
          "name": "stdout",
          "text": [
            "optimal subset: ['innerClassesQty', 'constructor', 'lambdasQty', 'returnsQty']\n",
            "optimal subset error: 0.9975837002212354\n"
          ]
        },
        {
          "output_type": "stream",
          "name": "stderr",
          "text": [
            "\r 82%|████████▏ | 79/96 [01:00<00:12,  1.34it/s]"
          ]
        },
        {
          "output_type": "stream",
          "name": "stdout",
          "text": [
            "optimal subset: ['lambdasQty', 'parenthesizedExpsQty', 'numbersQty', 'innerClassesQty']\n",
            "optimal subset error: 0.9962145449742325\n"
          ]
        },
        {
          "output_type": "stream",
          "name": "stderr",
          "text": [
            "\r 83%|████████▎ | 80/96 [01:01<00:11,  1.33it/s]"
          ]
        },
        {
          "output_type": "stream",
          "name": "stdout",
          "text": [
            "optimal subset: ['parametersQty', 'stringLiteralsQty', 'returnsQty', 'parenthesizedExpsQty']\n",
            "optimal subset error: 0.9900389949575246\n"
          ]
        },
        {
          "output_type": "stream",
          "name": "stderr",
          "text": [
            "\r 84%|████████▍ | 81/96 [01:02<00:11,  1.34it/s]"
          ]
        },
        {
          "output_type": "stream",
          "name": "stdout",
          "text": [
            "optimal subset: ['modifiers', 'fanin', 'tryCatchQty', 'line']\n",
            "optimal subset error: 0.04755442083934682\n"
          ]
        },
        {
          "output_type": "stream",
          "name": "stderr",
          "text": [
            "\r 85%|████████▌ | 82/96 [01:03<00:10,  1.35it/s]"
          ]
        },
        {
          "output_type": "stream",
          "name": "stdout",
          "text": [
            "optimal subset: ['comparisonsQty', 'fanin', 'parametersQty', 'returnsQty']\n",
            "optimal subset error: 0.991483885036089\n"
          ]
        },
        {
          "output_type": "stream",
          "name": "stderr",
          "text": [
            "\r 86%|████████▋ | 83/96 [01:04<00:10,  1.30it/s]"
          ]
        },
        {
          "output_type": "stream",
          "name": "stdout",
          "text": [
            "optimal subset: ['variablesQty', 'loc', 'methodsInvokedQty', 'modifiers']\n",
            "optimal subset error: 0.7039120158168244\n"
          ]
        },
        {
          "output_type": "stream",
          "name": "stderr",
          "text": [
            "\r 88%|████████▊ | 84/96 [01:04<00:10,  1.20it/s]"
          ]
        },
        {
          "output_type": "stream",
          "name": "stdout",
          "text": [
            "optimal subset: ['innerClassesQty', 'cboModified', 'methodsInvokedQty', 'rfc']\n",
            "optimal subset error: 0.9764222724599658\n"
          ]
        },
        {
          "output_type": "stream",
          "name": "stderr",
          "text": [
            "\r 89%|████████▊ | 85/96 [01:05<00:09,  1.15it/s]"
          ]
        },
        {
          "output_type": "stream",
          "name": "stdout",
          "text": [
            "optimal subset: ['parametersQty', 'numbersQty', 'comparisonsQty', 'fanout']\n",
            "optimal subset error: 0.9877512436259136\n"
          ]
        },
        {
          "output_type": "stream",
          "name": "stderr",
          "text": [
            "\r 90%|████████▉ | 86/96 [01:07<00:09,  1.08it/s]"
          ]
        },
        {
          "output_type": "stream",
          "name": "stdout",
          "text": [
            "optimal subset: ['loc', 'fanin', 'cbo', 'hasJavaDoc']\n",
            "optimal subset error: 0.9739114906379074\n"
          ]
        },
        {
          "output_type": "stream",
          "name": "stderr",
          "text": [
            "\r 91%|█████████ | 87/96 [01:07<00:08,  1.09it/s]"
          ]
        },
        {
          "output_type": "stream",
          "name": "stdout",
          "text": [
            "optimal subset: ['comparisonsQty', 'fanin', 'hasJavaDoc', 'wmc']\n",
            "optimal subset error: 0.9913148613919665\n"
          ]
        },
        {
          "output_type": "stream",
          "name": "stderr",
          "text": [
            "\r 92%|█████████▏| 88/96 [01:08<00:06,  1.16it/s]"
          ]
        },
        {
          "output_type": "stream",
          "name": "stdout",
          "text": [
            "optimal subset: ['uniqueWordsQty', 'constructor', 'fanout', 'methodsInvokedIndirectLocalQty']\n",
            "optimal subset error: 0.9695001031606644\n"
          ]
        },
        {
          "output_type": "stream",
          "name": "stderr",
          "text": [
            "\r 93%|█████████▎| 89/96 [01:09<00:05,  1.22it/s]"
          ]
        },
        {
          "output_type": "stream",
          "name": "stdout",
          "text": [
            "optimal subset: ['rfc', 'wmc', 'lambdasQty', 'cboModified']\n",
            "optimal subset error: 0.9793808713910825\n"
          ]
        },
        {
          "output_type": "stream",
          "name": "stderr",
          "text": [
            "\r 94%|█████████▍| 90/96 [01:10<00:04,  1.27it/s]"
          ]
        },
        {
          "output_type": "stream",
          "name": "stdout",
          "text": [
            "optimal subset: ['line', 'wmc', 'methodsInvokedIndirectLocalQty', 'cboModified']\n",
            "optimal subset error: 0.3522897823694121\n"
          ]
        },
        {
          "output_type": "stream",
          "name": "stderr",
          "text": [
            "\r 95%|█████████▍| 91/96 [01:10<00:03,  1.30it/s]"
          ]
        },
        {
          "output_type": "stream",
          "name": "stdout",
          "text": [
            "optimal subset: ['parenthesizedExpsQty', 'fanout', 'fanin', 'methodsInvokedQty']\n",
            "optimal subset error: 0.9802704868151652\n"
          ]
        },
        {
          "output_type": "stream",
          "name": "stderr",
          "text": [
            "\r 96%|█████████▌| 92/96 [01:11<00:03,  1.32it/s]"
          ]
        },
        {
          "output_type": "stream",
          "name": "stdout",
          "text": [
            "optimal subset: ['fanin', 'anonymousClassesQty', 'hasJavaDoc', 'modifiers']\n",
            "optimal subset error: 0.7240890642006822\n"
          ]
        },
        {
          "output_type": "stream",
          "name": "stderr",
          "text": [
            "\r 97%|█████████▋| 93/96 [01:12<00:02,  1.33it/s]"
          ]
        },
        {
          "output_type": "stream",
          "name": "stdout",
          "text": [
            "optimal subset: ['stringLiteralsQty', 'variablesQty', 'maxNestedBlocksQty', 'rfc']\n",
            "optimal subset error: 0.9828378438997462\n"
          ]
        },
        {
          "output_type": "stream",
          "name": "stderr",
          "text": [
            "\r 98%|█████████▊| 94/96 [01:13<00:01,  1.33it/s]"
          ]
        },
        {
          "output_type": "stream",
          "name": "stdout",
          "text": [
            "optimal subset: ['tryCatchQty', 'methodsInvokedQty', 'loc', 'lambdasQty']\n",
            "optimal subset error: 0.9743506651921783\n"
          ]
        },
        {
          "output_type": "stream",
          "name": "stderr",
          "text": [
            "\r 99%|█████████▉| 95/96 [01:13<00:00,  1.35it/s]"
          ]
        },
        {
          "output_type": "stream",
          "name": "stdout",
          "text": [
            "optimal subset: ['stringLiteralsQty', 'methodsInvokedQty', 'fanin', 'parenthesizedExpsQty']\n",
            "optimal subset error: 0.9809202808503606\n"
          ]
        },
        {
          "output_type": "stream",
          "name": "stderr",
          "text": [
            "100%|██████████| 96/96 [01:14<00:00,  1.29it/s]\n"
          ]
        },
        {
          "output_type": "stream",
          "name": "stdout",
          "text": [
            "optimal subset: ['maxNestedBlocksQty', 'uniqueWordsQty', 'cboModified', 'anonymousClassesQty']\n",
            "optimal subset error: 0.9672069609662582\n",
            "subset: ['modifiers', 'fanin', 'tryCatchQty', 'line']\n",
            "subset size: 4\n",
            "error: 0.04755442083934682\n"
          ]
        },
        {
          "output_type": "stream",
          "name": "stderr",
          "text": [
            "  1%|          | 1/96 [00:00<01:10,  1.35it/s]"
          ]
        },
        {
          "output_type": "stream",
          "name": "stdout",
          "text": [
            "optimal subset: ['cboModified', 'parametersQty', 'stringLiteralsQty', 'methodsInvokedQty', 'assignmentsQty']\n",
            "optimal subset error: 0.9746894151448976\n"
          ]
        },
        {
          "output_type": "stream",
          "name": "stderr",
          "text": [
            "\r  2%|▏         | 2/96 [00:01<01:08,  1.37it/s]"
          ]
        },
        {
          "output_type": "stream",
          "name": "stdout",
          "text": [
            "optimal subset: ['lambdasQty', 'variablesQty', 'rfc', 'loc', 'numbersQty']\n",
            "optimal subset error: 0.9730447042869788\n"
          ]
        },
        {
          "output_type": "stream",
          "name": "stderr",
          "text": [
            "\r  3%|▎         | 3/96 [00:02<01:08,  1.36it/s]"
          ]
        },
        {
          "output_type": "stream",
          "name": "stdout",
          "text": [
            "optimal subset: ['methodsInvokedQty', 'lambdasQty', 'rfc', 'fanout', 'assignmentsQty']\n",
            "optimal subset error: 0.9769312019997963\n"
          ]
        },
        {
          "output_type": "stream",
          "name": "stderr",
          "text": [
            "\r  4%|▍         | 4/96 [00:02<01:07,  1.36it/s]"
          ]
        },
        {
          "output_type": "stream",
          "name": "stdout",
          "text": [
            "optimal subset: ['fanout', 'rfc', 'parenthesizedExpsQty', 'comparisonsQty', 'line']\n",
            "optimal subset error: 0.3518630171036393\n"
          ]
        },
        {
          "output_type": "stream",
          "name": "stderr",
          "text": [
            "\r  5%|▌         | 5/96 [00:03<01:14,  1.21it/s]"
          ]
        },
        {
          "output_type": "stream",
          "name": "stdout",
          "text": [
            "optimal subset: ['returnsQty', 'comparisonsQty', 'numbersQty', 'anonymousClassesQty', 'methodsInvokedLocalQty']\n",
            "optimal subset error: 0.9939125931841125\n"
          ]
        },
        {
          "output_type": "stream",
          "name": "stderr",
          "text": [
            "\r  6%|▋         | 6/96 [00:04<01:19,  1.13it/s]"
          ]
        },
        {
          "output_type": "stream",
          "name": "stdout",
          "text": [
            "optimal subset: ['constructor', 'fanout', 'wmc', 'methodsInvokedLocalQty', 'modifiers']\n",
            "optimal subset error: 0.7189562069378455\n"
          ]
        },
        {
          "output_type": "stream",
          "name": "stderr",
          "text": [
            "\r  7%|▋         | 7/96 [00:05<01:22,  1.07it/s]"
          ]
        },
        {
          "output_type": "stream",
          "name": "stdout",
          "text": [
            "optimal subset: ['loc', 'numbersQty', 'variablesQty', 'fanin', 'loopQty']\n",
            "optimal subset error: 0.9741197271410542\n"
          ]
        },
        {
          "output_type": "stream",
          "name": "stderr",
          "text": [
            "\r  8%|▊         | 8/96 [00:06<01:23,  1.05it/s]"
          ]
        },
        {
          "output_type": "stream",
          "name": "stdout",
          "text": [
            "optimal subset: ['cboModified', 'mathOperationsQty', 'assignmentsQty', 'uniqueWordsQty', 'stringLiteralsQty']\n",
            "optimal subset error: 0.963831559624494\n"
          ]
        },
        {
          "output_type": "stream",
          "name": "stderr",
          "text": [
            "\r  9%|▉         | 9/96 [00:07<01:16,  1.13it/s]"
          ]
        },
        {
          "output_type": "stream",
          "name": "stdout",
          "text": [
            "optimal subset: ['loopQty', 'line', 'returnsQty', 'parametersQty', 'uniqueWordsQty']\n",
            "optimal subset error: 0.3500813391913739\n"
          ]
        },
        {
          "output_type": "stream",
          "name": "stderr",
          "text": [
            "\r 10%|█         | 10/96 [00:08<01:12,  1.18it/s]"
          ]
        },
        {
          "output_type": "stream",
          "name": "stdout",
          "text": [
            "optimal subset: ['modifiers', 'parametersQty', 'stringLiteralsQty', 'methodsInvokedQty', 'loopQty']\n",
            "optimal subset error: 0.7130316061873945\n"
          ]
        },
        {
          "output_type": "stream",
          "name": "stderr",
          "text": [
            "\r 11%|█▏        | 11/96 [00:09<01:09,  1.23it/s]"
          ]
        },
        {
          "output_type": "stream",
          "name": "stdout",
          "text": [
            "optimal subset: ['cbo', 'methodsInvokedLocalQty', 'line', 'maxNestedBlocksQty', 'loopQty']\n",
            "optimal subset error: 0.3600875824649743\n"
          ]
        },
        {
          "output_type": "stream",
          "name": "stderr",
          "text": [
            "\r 12%|█▎        | 12/96 [00:09<01:06,  1.26it/s]"
          ]
        },
        {
          "output_type": "stream",
          "name": "stdout",
          "text": [
            "optimal subset: ['logStatementsQty', 'cbo', 'returnsQty', 'mathOperationsQty', 'rfc']\n",
            "optimal subset error: 0.9844774020301896\n"
          ]
        },
        {
          "output_type": "stream",
          "name": "stderr",
          "text": [
            "\r 14%|█▎        | 13/96 [00:10<01:03,  1.30it/s]"
          ]
        },
        {
          "output_type": "stream",
          "name": "stdout",
          "text": [
            "optimal subset: ['methodsInvokedIndirectLocalQty', 'fanin', 'mathOperationsQty', 'parametersQty', 'modifiers']\n",
            "optimal subset error: 0.7217403538540325\n"
          ]
        },
        {
          "output_type": "stream",
          "name": "stderr",
          "text": [
            "\r 15%|█▍        | 14/96 [00:11<01:01,  1.33it/s]"
          ]
        },
        {
          "output_type": "stream",
          "name": "stdout",
          "text": [
            "optimal subset: ['methodsInvokedIndirectLocalQty', 'rfc', 'innerClassesQty', 'loopQty', 'fanout']\n",
            "optimal subset error: 0.9832915220921751\n"
          ]
        },
        {
          "output_type": "stream",
          "name": "stderr",
          "text": [
            "\r 16%|█▌        | 15/96 [00:12<01:00,  1.33it/s]"
          ]
        },
        {
          "output_type": "stream",
          "name": "stdout",
          "text": [
            "optimal subset: ['variablesQty', 'lambdasQty', 'stringLiteralsQty', 'methodsInvokedQty', 'cbo']\n",
            "optimal subset error: 0.9811485299674291\n"
          ]
        },
        {
          "output_type": "stream",
          "name": "stderr",
          "text": [
            "\r 17%|█▋        | 16/96 [00:12<00:59,  1.35it/s]"
          ]
        },
        {
          "output_type": "stream",
          "name": "stdout",
          "text": [
            "optimal subset: ['returnsQty', 'variablesQty', 'line', 'methodsInvokedLocalQty', 'stringLiteralsQty']\n",
            "optimal subset error: 0.3564021367177462\n"
          ]
        },
        {
          "output_type": "stream",
          "name": "stderr",
          "text": [
            "\r 18%|█▊        | 17/96 [00:13<00:57,  1.37it/s]"
          ]
        },
        {
          "output_type": "stream",
          "name": "stdout",
          "text": [
            "optimal subset: ['cboModified', 'line', 'comparisonsQty', 'innerClassesQty', 'lambdasQty']\n",
            "optimal subset error: 0.35295720373460476\n"
          ]
        },
        {
          "output_type": "stream",
          "name": "stderr",
          "text": [
            "\r 19%|█▉        | 18/96 [00:14<01:05,  1.19it/s]"
          ]
        },
        {
          "output_type": "stream",
          "name": "stdout",
          "text": [
            "optimal subset: ['mathOperationsQty', 'innerClassesQty', 'fanout', 'returnsQty', 'constructor']\n",
            "optimal subset error: 0.9902549239012886\n"
          ]
        },
        {
          "output_type": "stream",
          "name": "stderr",
          "text": [
            "\r 20%|█▉        | 19/96 [00:15<01:02,  1.23it/s]"
          ]
        },
        {
          "output_type": "stream",
          "name": "stdout",
          "text": [
            "optimal subset: ['numbersQty', 'constructor', 'lambdasQty', 'loc', 'stringLiteralsQty']\n",
            "optimal subset error: 0.9755805191293182\n"
          ]
        },
        {
          "output_type": "stream",
          "name": "stderr",
          "text": [
            "\r 21%|██        | 20/96 [00:16<00:59,  1.27it/s]"
          ]
        },
        {
          "output_type": "stream",
          "name": "stdout",
          "text": [
            "optimal subset: ['variablesQty', 'mathOperationsQty', 'maxNestedBlocksQty', 'innerClassesQty', 'fanin']\n",
            "optimal subset error: 0.9898921772080342\n"
          ]
        },
        {
          "output_type": "stream",
          "name": "stderr",
          "text": [
            "\r 22%|██▏       | 21/96 [00:16<01:00,  1.24it/s]"
          ]
        },
        {
          "output_type": "stream",
          "name": "stdout",
          "text": [
            "optimal subset: ['rfc', 'mathOperationsQty', 'fanin', 'cboModified', 'returnsQty']\n",
            "optimal subset error: 0.9784050247049525\n"
          ]
        },
        {
          "output_type": "stream",
          "name": "stderr",
          "text": [
            "\r 23%|██▎       | 22/96 [00:17<01:03,  1.16it/s]"
          ]
        },
        {
          "output_type": "stream",
          "name": "stdout",
          "text": [
            "optimal subset: ['constructor', 'variablesQty', 'comparisonsQty', 'assignmentsQty', 'lambdasQty']\n",
            "optimal subset error: 0.9903451056529955\n"
          ]
        },
        {
          "output_type": "stream",
          "name": "stderr",
          "text": [
            "\r 23%|██▎       | 22/96 [00:18<01:02,  1.18it/s]\n"
          ]
        },
        {
          "output_type": "error",
          "ename": "KeyboardInterrupt",
          "evalue": "",
          "traceback": [
            "\u001b[0;31m---------------------------------------------------------------------------\u001b[0m",
            "\u001b[0;31mKeyboardInterrupt\u001b[0m                         Traceback (most recent call last)",
            "\u001b[0;32m<ipython-input-181-a5af056142bb>\u001b[0m in \u001b[0;36m<cell line: 1>\u001b[0;34m()\u001b[0m\n\u001b[0;32m----> 1\u001b[0;31m \u001b[0mpso_algorithm_runner\u001b[0m\u001b[0;34m.\u001b[0m\u001b[0mrun_experiments\u001b[0m\u001b[0;34m(\u001b[0m\u001b[0;34m)\u001b[0m\u001b[0;34m\u001b[0m\u001b[0;34m\u001b[0m\u001b[0m\n\u001b[0m",
            "\u001b[0;32m<ipython-input-126-f51ceebc3ecf>\u001b[0m in \u001b[0;36mrun_experiments\u001b[0;34m(self)\u001b[0m\n\u001b[1;32m      6\u001b[0m \u001b[0;34m\u001b[0m\u001b[0m\n\u001b[1;32m      7\u001b[0m     \u001b[0;32mdef\u001b[0m \u001b[0mrun_experiments\u001b[0m\u001b[0;34m(\u001b[0m\u001b[0mself\u001b[0m\u001b[0;34m)\u001b[0m\u001b[0;34m:\u001b[0m\u001b[0;34m\u001b[0m\u001b[0;34m\u001b[0m\u001b[0m\n\u001b[0;32m----> 8\u001b[0;31m         \u001b[0mself\u001b[0m\u001b[0;34m.\u001b[0m\u001b[0moptimization_algorithm\u001b[0m\u001b[0;34m.\u001b[0m\u001b[0mrun_experiments\u001b[0m\u001b[0;34m(\u001b[0m\u001b[0;34m)\u001b[0m\u001b[0;34m\u001b[0m\u001b[0;34m\u001b[0m\u001b[0m\n\u001b[0m",
            "\u001b[0;32m<ipython-input-178-842770978d0a>\u001b[0m in \u001b[0;36mrun_experiments\u001b[0;34m(self)\u001b[0m\n\u001b[1;32m    169\u001b[0m         \u001b[0;31m# self._run_experiments_on_classes()\u001b[0m\u001b[0;34m\u001b[0m\u001b[0;34m\u001b[0m\u001b[0m\n\u001b[1;32m    170\u001b[0m \u001b[0;34m\u001b[0m\u001b[0m\n\u001b[0;32m--> 171\u001b[0;31m         \u001b[0mself\u001b[0m\u001b[0;34m.\u001b[0m\u001b[0m_run_experiments_on_methods\u001b[0m\u001b[0;34m(\u001b[0m\u001b[0;34m)\u001b[0m\u001b[0;34m\u001b[0m\u001b[0;34m\u001b[0m\u001b[0m\n\u001b[0m",
            "\u001b[0;32m<ipython-input-178-842770978d0a>\u001b[0m in \u001b[0;36m_run_experiments_on_methods\u001b[0;34m(self)\u001b[0m\n\u001b[1;32m    153\u001b[0m \u001b[0;34m\u001b[0m\u001b[0m\n\u001b[1;32m    154\u001b[0m                 \u001b[0moptimal_subset\u001b[0m \u001b[0;34m=\u001b[0m \u001b[0;34m[\u001b[0m\u001b[0mmethod_columns\u001b[0m\u001b[0;34m[\u001b[0m\u001b[0mi\u001b[0m\u001b[0;34m]\u001b[0m \u001b[0;32mfor\u001b[0m \u001b[0mi\u001b[0m \u001b[0;32min\u001b[0m \u001b[0mx\u001b[0m\u001b[0;34m.\u001b[0m\u001b[0margsort\u001b[0m\u001b[0;34m(\u001b[0m\u001b[0;34m)\u001b[0m\u001b[0;34m[\u001b[0m\u001b[0;34m-\u001b[0m\u001b[0mN\u001b[0m\u001b[0;34m:\u001b[0m\u001b[0;34m]\u001b[0m\u001b[0;34m[\u001b[0m\u001b[0;34m:\u001b[0m\u001b[0;34m:\u001b[0m\u001b[0;34m-\u001b[0m\u001b[0;36m1\u001b[0m\u001b[0;34m]\u001b[0m\u001b[0;34m]\u001b[0m\u001b[0;34m\u001b[0m\u001b[0;34m\u001b[0m\u001b[0m\n\u001b[0;32m--> 155\u001b[0;31m                 \u001b[0moptimal_subset_error\u001b[0m \u001b[0;34m=\u001b[0m \u001b[0mself\u001b[0m\u001b[0;34m.\u001b[0m\u001b[0m_total_error_method\u001b[0m\u001b[0;34m(\u001b[0m\u001b[0moptimal_subset\u001b[0m\u001b[0;34m)\u001b[0m\u001b[0;34m\u001b[0m\u001b[0;34m\u001b[0m\u001b[0m\n\u001b[0m\u001b[1;32m    156\u001b[0m \u001b[0;34m\u001b[0m\u001b[0m\n\u001b[1;32m    157\u001b[0m                 \u001b[0mprint\u001b[0m\u001b[0;34m(\u001b[0m\u001b[0;34m\"optimal subset: \"\u001b[0m \u001b[0;34m+\u001b[0m \u001b[0mstr\u001b[0m\u001b[0;34m(\u001b[0m\u001b[0moptimal_subset\u001b[0m\u001b[0;34m)\u001b[0m\u001b[0;34m)\u001b[0m\u001b[0;34m\u001b[0m\u001b[0;34m\u001b[0m\u001b[0m\n",
            "\u001b[0;32m<ipython-input-178-842770978d0a>\u001b[0m in \u001b[0;36m_total_error_method\u001b[0;34m(self, columns)\u001b[0m\n\u001b[1;32m     29\u001b[0m \u001b[0;34m\u001b[0m\u001b[0m\n\u001b[1;32m     30\u001b[0m             \u001b[0;32mtry\u001b[0m\u001b[0;34m:\u001b[0m\u001b[0;34m\u001b[0m\u001b[0;34m\u001b[0m\u001b[0m\n\u001b[0;32m---> 31\u001b[0;31m                 \u001b[0mresult\u001b[0m \u001b[0;34m=\u001b[0m \u001b[0mErrorRepositoryResults\u001b[0m\u001b[0;34m(\u001b[0m\u001b[0mrepo\u001b[0m\u001b[0;34m,\u001b[0m \u001b[0mkruskal_stress\u001b[0m\u001b[0;34m,\u001b[0m \u001b[0meq_distance\u001b[0m\u001b[0;34m)\u001b[0m\u001b[0;34m.\u001b[0m\u001b[0mmethod_error\u001b[0m\u001b[0;34m(\u001b[0m\u001b[0mcolumns\u001b[0m\u001b[0;34m)\u001b[0m\u001b[0;34m\u001b[0m\u001b[0;34m\u001b[0m\u001b[0m\n\u001b[0m\u001b[1;32m     32\u001b[0m             \u001b[0;32mexcept\u001b[0m \u001b[0mValueError\u001b[0m\u001b[0;34m:\u001b[0m\u001b[0;34m\u001b[0m\u001b[0;34m\u001b[0m\u001b[0m\n\u001b[1;32m     33\u001b[0m                 \u001b[0;32mcontinue\u001b[0m\u001b[0;34m\u001b[0m\u001b[0;34m\u001b[0m\u001b[0m\n",
            "\u001b[0;32m<ipython-input-151-b9042c5f7b93>\u001b[0m in \u001b[0;36mmethod_error\u001b[0;34m(self, columns)\u001b[0m\n\u001b[1;32m     17\u001b[0m \u001b[0;34m\u001b[0m\u001b[0m\n\u001b[1;32m     18\u001b[0m         \u001b[0;32mtry\u001b[0m\u001b[0;34m:\u001b[0m\u001b[0;34m\u001b[0m\u001b[0;34m\u001b[0m\u001b[0m\n\u001b[0;32m---> 19\u001b[0;31m             \u001b[0;32mreturn\u001b[0m \u001b[0mself\u001b[0m\u001b[0;34m.\u001b[0m\u001b[0merror\u001b[0m\u001b[0;34m(\u001b[0m\u001b[0mmethod_df\u001b[0m\u001b[0;34m,\u001b[0m \u001b[0mmethod_df\u001b[0m\u001b[0;34m[\u001b[0m\u001b[0mcolumns\u001b[0m\u001b[0;34m]\u001b[0m\u001b[0;34m,\u001b[0m \u001b[0mself\u001b[0m\u001b[0;34m.\u001b[0m\u001b[0mdistance\u001b[0m\u001b[0;34m)\u001b[0m\u001b[0;34m\u001b[0m\u001b[0;34m\u001b[0m\u001b[0m\n\u001b[0m\u001b[1;32m     20\u001b[0m         \u001b[0;32mexcept\u001b[0m \u001b[0mKeyError\u001b[0m\u001b[0;34m:\u001b[0m\u001b[0;34m\u001b[0m\u001b[0;34m\u001b[0m\u001b[0m\n\u001b[1;32m     21\u001b[0m             \u001b[0;32mraise\u001b[0m \u001b[0mValueError\u001b[0m\u001b[0;34m(\u001b[0m\u001b[0;34m)\u001b[0m\u001b[0;34m\u001b[0m\u001b[0;34m\u001b[0m\u001b[0m\n",
            "\u001b[0;32m<ipython-input-152-5ce3b7a3fc7f>\u001b[0m in \u001b[0;36mkruskal_stress\u001b[0;34m(n_df, l_df, distance_tf)\u001b[0m\n\u001b[1;32m      7\u001b[0m \u001b[0;34m\u001b[0m\u001b[0m\n\u001b[1;32m      8\u001b[0m     \u001b[0mn_distances\u001b[0m \u001b[0;34m=\u001b[0m \u001b[0mdistance_tf\u001b[0m\u001b[0;34m(\u001b[0m\u001b[0mn_df_tensor\u001b[0m\u001b[0;34m[\u001b[0m\u001b[0;34m:\u001b[0m\u001b[0;34m,\u001b[0m \u001b[0;32mNone\u001b[0m\u001b[0;34m,\u001b[0m \u001b[0;34m:\u001b[0m\u001b[0;34m]\u001b[0m\u001b[0;34m,\u001b[0m \u001b[0mn_df_tensor\u001b[0m\u001b[0;34m[\u001b[0m\u001b[0;32mNone\u001b[0m\u001b[0;34m,\u001b[0m \u001b[0;34m:\u001b[0m\u001b[0;34m,\u001b[0m \u001b[0;34m:\u001b[0m\u001b[0;34m]\u001b[0m\u001b[0;34m)\u001b[0m\u001b[0;34m\u001b[0m\u001b[0;34m\u001b[0m\u001b[0m\n\u001b[0;32m----> 9\u001b[0;31m     \u001b[0ml_distances\u001b[0m \u001b[0;34m=\u001b[0m \u001b[0mdistance_tf\u001b[0m\u001b[0;34m(\u001b[0m\u001b[0ml_df_tensor\u001b[0m\u001b[0;34m[\u001b[0m\u001b[0;34m:\u001b[0m\u001b[0;34m,\u001b[0m \u001b[0;32mNone\u001b[0m\u001b[0;34m,\u001b[0m \u001b[0;34m:\u001b[0m\u001b[0;34m]\u001b[0m\u001b[0;34m,\u001b[0m \u001b[0ml_df_tensor\u001b[0m\u001b[0;34m[\u001b[0m\u001b[0;32mNone\u001b[0m\u001b[0;34m,\u001b[0m \u001b[0;34m:\u001b[0m\u001b[0;34m,\u001b[0m \u001b[0;34m:\u001b[0m\u001b[0;34m]\u001b[0m\u001b[0;34m)\u001b[0m\u001b[0;34m\u001b[0m\u001b[0;34m\u001b[0m\u001b[0m\n\u001b[0m\u001b[1;32m     10\u001b[0m \u001b[0;34m\u001b[0m\u001b[0m\n\u001b[1;32m     11\u001b[0m     \u001b[0mnumerator\u001b[0m \u001b[0;34m=\u001b[0m \u001b[0mtf\u001b[0m\u001b[0;34m.\u001b[0m\u001b[0mreduce_sum\u001b[0m\u001b[0;34m(\u001b[0m\u001b[0mtf\u001b[0m\u001b[0;34m.\u001b[0m\u001b[0msquare\u001b[0m\u001b[0;34m(\u001b[0m\u001b[0mn_distances\u001b[0m \u001b[0;34m-\u001b[0m \u001b[0ml_distances\u001b[0m\u001b[0;34m)\u001b[0m\u001b[0;34m)\u001b[0m\u001b[0;34m\u001b[0m\u001b[0;34m\u001b[0m\u001b[0m\n",
            "\u001b[0;32m/usr/local/lib/python3.10/dist-packages/tensorflow/python/util/traceback_utils.py\u001b[0m in \u001b[0;36merror_handler\u001b[0;34m(*args, **kwargs)\u001b[0m\n\u001b[1;32m    148\u001b[0m     \u001b[0mfiltered_tb\u001b[0m \u001b[0;34m=\u001b[0m \u001b[0;32mNone\u001b[0m\u001b[0;34m\u001b[0m\u001b[0;34m\u001b[0m\u001b[0m\n\u001b[1;32m    149\u001b[0m     \u001b[0;32mtry\u001b[0m\u001b[0;34m:\u001b[0m\u001b[0;34m\u001b[0m\u001b[0;34m\u001b[0m\u001b[0m\n\u001b[0;32m--> 150\u001b[0;31m       \u001b[0;32mreturn\u001b[0m \u001b[0mfn\u001b[0m\u001b[0;34m(\u001b[0m\u001b[0;34m*\u001b[0m\u001b[0margs\u001b[0m\u001b[0;34m,\u001b[0m \u001b[0;34m**\u001b[0m\u001b[0mkwargs\u001b[0m\u001b[0;34m)\u001b[0m\u001b[0;34m\u001b[0m\u001b[0;34m\u001b[0m\u001b[0m\n\u001b[0m\u001b[1;32m    151\u001b[0m     \u001b[0;32mexcept\u001b[0m \u001b[0mException\u001b[0m \u001b[0;32mas\u001b[0m \u001b[0me\u001b[0m\u001b[0;34m:\u001b[0m\u001b[0;34m\u001b[0m\u001b[0;34m\u001b[0m\u001b[0m\n\u001b[1;32m    152\u001b[0m       \u001b[0mfiltered_tb\u001b[0m \u001b[0;34m=\u001b[0m \u001b[0m_process_traceback_frames\u001b[0m\u001b[0;34m(\u001b[0m\u001b[0me\u001b[0m\u001b[0;34m.\u001b[0m\u001b[0m__traceback__\u001b[0m\u001b[0;34m)\u001b[0m\u001b[0;34m\u001b[0m\u001b[0;34m\u001b[0m\u001b[0m\n",
            "\u001b[0;32m/usr/local/lib/python3.10/dist-packages/tensorflow/python/util/dispatch.py\u001b[0m in \u001b[0;36mop_dispatch_handler\u001b[0;34m(*args, **kwargs)\u001b[0m\n\u001b[1;32m   1258\u001b[0m       \u001b[0;31m# Fallback dispatch system (dispatch v1):\u001b[0m\u001b[0;34m\u001b[0m\u001b[0;34m\u001b[0m\u001b[0m\n\u001b[1;32m   1259\u001b[0m       \u001b[0;32mtry\u001b[0m\u001b[0;34m:\u001b[0m\u001b[0;34m\u001b[0m\u001b[0;34m\u001b[0m\u001b[0m\n\u001b[0;32m-> 1260\u001b[0;31m         \u001b[0;32mreturn\u001b[0m \u001b[0mdispatch_target\u001b[0m\u001b[0;34m(\u001b[0m\u001b[0;34m*\u001b[0m\u001b[0margs\u001b[0m\u001b[0;34m,\u001b[0m \u001b[0;34m**\u001b[0m\u001b[0mkwargs\u001b[0m\u001b[0;34m)\u001b[0m\u001b[0;34m\u001b[0m\u001b[0;34m\u001b[0m\u001b[0m\n\u001b[0m\u001b[1;32m   1261\u001b[0m       \u001b[0;32mexcept\u001b[0m \u001b[0;34m(\u001b[0m\u001b[0mTypeError\u001b[0m\u001b[0;34m,\u001b[0m \u001b[0mValueError\u001b[0m\u001b[0;34m)\u001b[0m\u001b[0;34m:\u001b[0m\u001b[0;34m\u001b[0m\u001b[0;34m\u001b[0m\u001b[0m\n\u001b[1;32m   1262\u001b[0m         \u001b[0;31m# Note: convert_to_eager_tensor currently raises a ValueError, not a\u001b[0m\u001b[0;34m\u001b[0m\u001b[0;34m\u001b[0m\u001b[0m\n",
            "\u001b[0;32m/usr/local/lib/python3.10/dist-packages/tensorflow/python/ops/array_ops.py\u001b[0m in \u001b[0;36m_slice_helper\u001b[0;34m(tensor, slice_spec, var)\u001b[0m\n\u001b[1;32m   1154\u001b[0m       \u001b[0mvar_empty\u001b[0m \u001b[0;34m=\u001b[0m \u001b[0mconstant\u001b[0m\u001b[0;34m(\u001b[0m\u001b[0;34m[\u001b[0m\u001b[0;34m]\u001b[0m\u001b[0;34m,\u001b[0m \u001b[0mdtype\u001b[0m\u001b[0;34m=\u001b[0m\u001b[0mdtypes\u001b[0m\u001b[0;34m.\u001b[0m\u001b[0mint32\u001b[0m\u001b[0;34m)\u001b[0m\u001b[0;34m\u001b[0m\u001b[0;34m\u001b[0m\u001b[0m\n\u001b[1;32m   1155\u001b[0m       \u001b[0mpacked_begin\u001b[0m \u001b[0;34m=\u001b[0m \u001b[0mpacked_end\u001b[0m \u001b[0;34m=\u001b[0m \u001b[0mpacked_strides\u001b[0m \u001b[0;34m=\u001b[0m \u001b[0mvar_empty\u001b[0m\u001b[0;34m\u001b[0m\u001b[0;34m\u001b[0m\u001b[0m\n\u001b[0;32m-> 1156\u001b[0;31m     return strided_slice(\n\u001b[0m\u001b[1;32m   1157\u001b[0m         \u001b[0mtensor\u001b[0m\u001b[0;34m,\u001b[0m\u001b[0;34m\u001b[0m\u001b[0;34m\u001b[0m\u001b[0m\n\u001b[1;32m   1158\u001b[0m         \u001b[0mpacked_begin\u001b[0m\u001b[0;34m,\u001b[0m\u001b[0;34m\u001b[0m\u001b[0;34m\u001b[0m\u001b[0m\n",
            "\u001b[0;32m/usr/local/lib/python3.10/dist-packages/tensorflow/python/util/traceback_utils.py\u001b[0m in \u001b[0;36merror_handler\u001b[0;34m(*args, **kwargs)\u001b[0m\n\u001b[1;32m    148\u001b[0m     \u001b[0mfiltered_tb\u001b[0m \u001b[0;34m=\u001b[0m \u001b[0;32mNone\u001b[0m\u001b[0;34m\u001b[0m\u001b[0;34m\u001b[0m\u001b[0m\n\u001b[1;32m    149\u001b[0m     \u001b[0;32mtry\u001b[0m\u001b[0;34m:\u001b[0m\u001b[0;34m\u001b[0m\u001b[0;34m\u001b[0m\u001b[0m\n\u001b[0;32m--> 150\u001b[0;31m       \u001b[0;32mreturn\u001b[0m \u001b[0mfn\u001b[0m\u001b[0;34m(\u001b[0m\u001b[0;34m*\u001b[0m\u001b[0margs\u001b[0m\u001b[0;34m,\u001b[0m \u001b[0;34m**\u001b[0m\u001b[0mkwargs\u001b[0m\u001b[0;34m)\u001b[0m\u001b[0;34m\u001b[0m\u001b[0;34m\u001b[0m\u001b[0m\n\u001b[0m\u001b[1;32m    151\u001b[0m     \u001b[0;32mexcept\u001b[0m \u001b[0mException\u001b[0m \u001b[0;32mas\u001b[0m \u001b[0me\u001b[0m\u001b[0;34m:\u001b[0m\u001b[0;34m\u001b[0m\u001b[0;34m\u001b[0m\u001b[0m\n\u001b[1;32m    152\u001b[0m       \u001b[0mfiltered_tb\u001b[0m \u001b[0;34m=\u001b[0m \u001b[0m_process_traceback_frames\u001b[0m\u001b[0;34m(\u001b[0m\u001b[0me\u001b[0m\u001b[0;34m.\u001b[0m\u001b[0m__traceback__\u001b[0m\u001b[0;34m)\u001b[0m\u001b[0;34m\u001b[0m\u001b[0;34m\u001b[0m\u001b[0m\n",
            "\u001b[0;32m/usr/local/lib/python3.10/dist-packages/tensorflow/python/util/dispatch.py\u001b[0m in \u001b[0;36mop_dispatch_handler\u001b[0;34m(*args, **kwargs)\u001b[0m\n\u001b[1;32m   1258\u001b[0m       \u001b[0;31m# Fallback dispatch system (dispatch v1):\u001b[0m\u001b[0;34m\u001b[0m\u001b[0;34m\u001b[0m\u001b[0m\n\u001b[1;32m   1259\u001b[0m       \u001b[0;32mtry\u001b[0m\u001b[0;34m:\u001b[0m\u001b[0;34m\u001b[0m\u001b[0;34m\u001b[0m\u001b[0m\n\u001b[0;32m-> 1260\u001b[0;31m         \u001b[0;32mreturn\u001b[0m \u001b[0mdispatch_target\u001b[0m\u001b[0;34m(\u001b[0m\u001b[0;34m*\u001b[0m\u001b[0margs\u001b[0m\u001b[0;34m,\u001b[0m \u001b[0;34m**\u001b[0m\u001b[0mkwargs\u001b[0m\u001b[0;34m)\u001b[0m\u001b[0;34m\u001b[0m\u001b[0;34m\u001b[0m\u001b[0m\n\u001b[0m\u001b[1;32m   1261\u001b[0m       \u001b[0;32mexcept\u001b[0m \u001b[0;34m(\u001b[0m\u001b[0mTypeError\u001b[0m\u001b[0;34m,\u001b[0m \u001b[0mValueError\u001b[0m\u001b[0;34m)\u001b[0m\u001b[0;34m:\u001b[0m\u001b[0;34m\u001b[0m\u001b[0;34m\u001b[0m\u001b[0m\n\u001b[1;32m   1262\u001b[0m         \u001b[0;31m# Note: convert_to_eager_tensor currently raises a ValueError, not a\u001b[0m\u001b[0;34m\u001b[0m\u001b[0;34m\u001b[0m\u001b[0m\n",
            "\u001b[0;32m/usr/local/lib/python3.10/dist-packages/tensorflow/python/ops/array_ops.py\u001b[0m in \u001b[0;36mstrided_slice\u001b[0;34m(input_, begin, end, strides, begin_mask, end_mask, ellipsis_mask, new_axis_mask, shrink_axis_mask, var, name)\u001b[0m\n\u001b[1;32m   1327\u001b[0m     \u001b[0mstrides\u001b[0m \u001b[0;34m=\u001b[0m \u001b[0mones_like\u001b[0m\u001b[0;34m(\u001b[0m\u001b[0mbegin\u001b[0m\u001b[0;34m)\u001b[0m\u001b[0;34m\u001b[0m\u001b[0;34m\u001b[0m\u001b[0m\n\u001b[1;32m   1328\u001b[0m \u001b[0;34m\u001b[0m\u001b[0m\n\u001b[0;32m-> 1329\u001b[0;31m   op = gen_array_ops.strided_slice(\n\u001b[0m\u001b[1;32m   1330\u001b[0m       \u001b[0minput\u001b[0m\u001b[0;34m=\u001b[0m\u001b[0minput_\u001b[0m\u001b[0;34m,\u001b[0m\u001b[0;34m\u001b[0m\u001b[0;34m\u001b[0m\u001b[0m\n\u001b[1;32m   1331\u001b[0m       \u001b[0mbegin\u001b[0m\u001b[0;34m=\u001b[0m\u001b[0mbegin\u001b[0m\u001b[0;34m,\u001b[0m\u001b[0;34m\u001b[0m\u001b[0;34m\u001b[0m\u001b[0m\n",
            "\u001b[0;32m/usr/local/lib/python3.10/dist-packages/tensorflow/python/ops/gen_array_ops.py\u001b[0m in \u001b[0;36mstrided_slice\u001b[0;34m(input, begin, end, strides, begin_mask, end_mask, ellipsis_mask, new_axis_mask, shrink_axis_mask, name)\u001b[0m\n\u001b[1;32m  10929\u001b[0m   \u001b[0;32mif\u001b[0m \u001b[0mtld\u001b[0m\u001b[0;34m.\u001b[0m\u001b[0mis_eager\u001b[0m\u001b[0;34m:\u001b[0m\u001b[0;34m\u001b[0m\u001b[0;34m\u001b[0m\u001b[0m\n\u001b[1;32m  10930\u001b[0m     \u001b[0;32mtry\u001b[0m\u001b[0;34m:\u001b[0m\u001b[0;34m\u001b[0m\u001b[0;34m\u001b[0m\u001b[0m\n\u001b[0;32m> 10931\u001b[0;31m       _result = pywrap_tfe.TFE_Py_FastPathExecute(\n\u001b[0m\u001b[1;32m  10932\u001b[0m         \u001b[0m_ctx\u001b[0m\u001b[0;34m,\u001b[0m \u001b[0;34m\"StridedSlice\"\u001b[0m\u001b[0;34m,\u001b[0m \u001b[0mname\u001b[0m\u001b[0;34m,\u001b[0m \u001b[0minput\u001b[0m\u001b[0;34m,\u001b[0m \u001b[0mbegin\u001b[0m\u001b[0;34m,\u001b[0m \u001b[0mend\u001b[0m\u001b[0;34m,\u001b[0m \u001b[0mstrides\u001b[0m\u001b[0;34m,\u001b[0m \u001b[0;34m\"begin_mask\"\u001b[0m\u001b[0;34m,\u001b[0m\u001b[0;34m\u001b[0m\u001b[0;34m\u001b[0m\u001b[0m\n\u001b[1;32m  10933\u001b[0m         \u001b[0mbegin_mask\u001b[0m\u001b[0;34m,\u001b[0m \u001b[0;34m\"end_mask\"\u001b[0m\u001b[0;34m,\u001b[0m \u001b[0mend_mask\u001b[0m\u001b[0;34m,\u001b[0m \u001b[0;34m\"ellipsis_mask\"\u001b[0m\u001b[0;34m,\u001b[0m \u001b[0mellipsis_mask\u001b[0m\u001b[0;34m,\u001b[0m\u001b[0;34m\u001b[0m\u001b[0;34m\u001b[0m\u001b[0m\n",
            "\u001b[0;31mKeyboardInterrupt\u001b[0m: "
          ]
        }
      ]
    }
  ],
  "metadata": {
    "kernelspec": {
      "display_name": "Python 3",
      "name": "python3"
    },
    "language_info": {
      "codemirror_mode": {
        "name": "ipython",
        "version": 3
      },
      "file_extension": ".py",
      "mimetype": "text/x-python",
      "name": "python",
      "nbconvert_exporter": "python",
      "pygments_lexer": "ipython3",
      "version": "3.12.2"
    },
    "colab": {
      "provenance": [],
      "gpuType": "T4"
    },
    "accelerator": "GPU"
  },
  "nbformat": 4,
  "nbformat_minor": 5
}