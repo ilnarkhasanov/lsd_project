{
 "cells": [
  {
   "cell_type": "code",
   "execution_count": null,
   "id": "cfc9400d",
   "metadata": {},
   "outputs": [],
   "source": [
    "repositories = [\n",
    "        \"https://github.com/dbeaver/dbeaver\",\n",
    "        \"https://github.com/apache/shardingsphere\",\n",
    "        \"https://github.com/questdb/questdb\",\n",
    "        \"https://github.com/neo4j/neo4j\",\n",
    "        \"https://github.com/apache/zookeeper\",\n",
    "        \"https://github.com/realm/realm-java\",\n",
    "        \"https://github.com/apache/doris\",\n",
    "        \"https://github.com/debezium/debezium\",\n",
    "        \"https://github.com/trinodb/trino\",\n",
    "        \"https://github.com/apache/cassandra\",\n",
    "        \"https://github.com/amitshekhariitbhu/Android-Debug-Database\",\n",
    "        \"https://github.com/apache/shardingsphere-elasticjob\",\n",
    "        \"https://github.com/flyway/flyway\",\n",
    "        \"https://github.com/StarRocks/starrocks\",\n",
    "        \"https://github.com/apache/zeppelin\",\n",
    "        \"https://github.com/jOOQ/jOOQ\",\n",
    "        \"https://github.com/hibernate/hibernate-orm\",\n",
    "        \"https://github.com/apache/hive\",\n",
    "        \"https://github.com/apache/hbase\",\n",
    "        \"https://github.com/ververica/flink-cdc-connectors\",\n",
    "        \"https://github.com/orientechnologies/orientdb\",\n",
    "        \"https://github.com/apache/ignite\",\n",
    "        \"https://github.com/SPLWare/esProc\",\n",
    "        \"https://github.com/objectbox/objectbox-java\",\n",
    "        \"https://github.com/liquibase/liquibase\",\n",
    "        \"https://github.com/apache/iotdb\",\n",
    "        \"https://github.com/oblac/jodd\",\n",
    "        \"https://github.com/h2database/h2database\",\n",
    "        \"https://github.com/crate/crate\",\n",
    "        \"https://github.com/dunwu/db-tutorial\",\n",
    "        \"https://github.com/vaticle/typedb\",\n",
    "        \"https://github.com/apache/curator\",\n",
    "        \"https://github.com/janishar/android-mvvm-architecture\",\n",
    "        \"https://github.com/Wisser/Jailer\",\n",
    "        \"https://github.com/xerial/sqlite-jdbc\",\n",
    "        \"https://github.com/mongodb/mongo-java-driver\",\n",
    "        \"https://github.com/apache/incubator-hugegraph\",\n",
    "        \"https://github.com/lealone/Lealone\",\n",
    "        \"https://github.com/pilgr/Paper\",\n",
    "        \"https://github.com/speedment/speedment\",\n",
    "        \"https://github.com/jdbi/jdbi\",\n",
    "        \"https://github.com/liyupi/sql-father-backend-public\",\n",
    "        \"https://github.com/callicoder/spring-security-react-ant-design-polls-app\",\n",
    "        \"https://github.com/schemacrawler/SchemaCrawler\",\n",
    "        \"https://github.com/ebean-orm/ebean\",\n",
    "        \"https://github.com/JetBrains/xodus\",\n",
    "        \"https://github.com/pentaho/mondrian\",\n",
    "        \"https://github.com/wgzhao/Addax\",\n",
    "        \"https://github.com/apache/phoenix\",\n",
    "        \"https://github.com/pgjdbc/r2dbc-postgresql\",\n",
    "        \"https://github.com/rememberber/WeSync\",\n",
    "        \"https://github.com/SoftInstigate/restheart\",\n",
    "        \"https://github.com/MariaDB4j/MariaDB4j\",\n",
    "        \"https://github.com/nitrite/nitrite-java\",\n",
    "        \"https://github.com/lmdbjava/lmdbjava\",\n",
    "        \"https://github.com/vran-dev/databasir\",\n",
    "        \"https://github.com/apache/pig\",\n",
    "        \"https://github.com/opentable/otj-pg-embedded\",\n",
    "        \"https://github.com/apache/ofbiz-framework\",\n",
    "        \"https://github.com/jdbc-observations/datasource-proxy\",\n",
    "        \"https://github.com/CorfuDB/CorfuDB\",\n",
    "        \"https://github.com/gaarason/database-all\",\n",
    "        \"https://github.com/j256/ormlite-core\",\n",
    "        \"https://github.com/housepower/ClickHouse-Native-JDBC\",\n",
    "        \"https://github.com/maskarade/Android-Orma\",\n",
    "        \"https://github.com/apache/flink\",\n",
    "        \"https://github.com/mybatis/mybatis-3\",\n",
    "        \"https://github.com/prestodb/presto\",\n",
    "        \"https://github.com/apache/beam\",\n",
    "        \"https://github.com/dromara/hutool\",\n",
    "        \"https://github.com/baomidou/mybatis-plus\",\n",
    "        \"https://github.com/nutzam/nutz\",\n",
    "        \"https://github.com/x-ream/sqli\",\n",
    "        \"https://github.com/j256/ormlite-android\",\n",
    "        \"https://github.com/mybatis-flex/mybatis-flex\",\n",
    "        \"https://github.com/dromara/easy-es\",\n",
    "        \"https://github.com/braisdom/ObjectiveSql\",\n",
    "        \"https://github.com/guang19/framework-learning\",\n",
    "        \"https://github.com/sagframe/sagacity-sqltoy\",\n",
    "        \"https://github.com/automvc/bee\",\n",
    "        \"https://github.com/babyfish-ct/jimmer\",\n",
    "        \"https://github.com/SwingFrog/Summer\",\n",
    "        \"https://github.com/hibernate/hibernate-search\",\n",
    "        \"https://github.com/arnaudroger/SimpleFlatMapper\",\n",
    "        \"https://github.com/hibernate/hibernate-reactive\",\n",
    "        \"https://github.com/jeddict/jeddict\",\n",
    "        \"https://github.com/goldmansachs/reladomo\",\n",
    "        \"https://github.com/apache/lucene\",\n",
    "        \"https://github.com/torodb/stampede\",\n",
    "        \"https://github.com/strapdata/elassandra\",\n",
    "        \"https://github.com/infinispan/infinispan\",\n",
    "        \"https://github.com/apache/solr\",\n",
    "        \"https://github.com/Impetus/kundera\",\n",
    "        \"https://github.com/scalar-labs/scalardb\",\n",
    "        \"https://github.com/mongock/mongock\",\n",
    "        \"https://github.com/frost373/KitDB\",\n",
    "        \"https://github.com/eXist-db/exist\",\n",
    "        \"https://github.com/osalvador/ReplicaDB\",\n",
    "        \"https://github.com/cinchapi/concourse\",\n",
    "        \"https://github.com/eclipse/jnosql\",\n",
    "        \"https://github.com/sqlancer/sqlancer\",\n",
    "        \"https://github.com/apavlo/h-store\",\n",
    "        \"https://github.com/apache/doris-flink-connector\",\n",
    "        \"https://github.com/wwwyanxin/wyxDBMS\",\n",
    "        \"https://github.com/apache/doris-manager\",\n",
    "        \"https://github.com/polypheny/Polypheny-DB\",\n",
    "        \"https://github.com/apache/doris-spark-connector\",\n",
    "        \"https://github.com/apache/db-jdo\",\n",
    "        \"https://github.com/helicalinsight/helicalinsight\",\n",
    "        \"https://github.com/iboxdb/ftserver\",\n",
    "        \"https://github.com/blobcity/db\",\n",
    "        \"https://github.com/torodb/server\",\n",
    "        \"https://github.com/arangodb/spring-data\",\n",
    "        \"https://github.com/jakartaee/nosql\",\n",
    "        \"https://github.com/oracle/soda-for-java\",\n",
    "        \"https://github.com/marklogic/java-client-api\",\n",
    "        \"https://github.com/aegif/NemakiWare\",\n",
    "        \"https://github.com/pgjdbc/pgjdbc\",\n",
    "        \"https://github.com/redis/jedis\",\n",
    "        \"https://github.com/Nepxion/Discovery\",\n",
    "        \"https://github.com/lettuce-io/lettuce-core\",\n",
    "        \"https://github.com/alibaba/jetcache\",\n",
    "]\n",
    "\n"
   ]
  },
  {
   "cell_type": "code",
   "execution_count": 12,
   "metadata": {},
   "outputs": [
    {
     "data": {
      "text/plain": [
       "4"
      ]
     },
     "execution_count": 12,
     "metadata": {},
     "output_type": "execute_result"
    }
   ],
   "source": [
    "len(repositories)\n"
   ]
  },
  {
   "cell_type": "code",
   "execution_count": 13,
   "id": "d5a93b39",
   "metadata": {},
   "outputs": [],
   "source": [
    "import os\n",
    "from uuid import uuid4\n"
   ]
  },
  {
   "cell_type": "code",
   "execution_count": 14,
   "id": "930a09c4",
   "metadata": {},
   "outputs": [],
   "source": [
    "def repo_name(repository_url: str) -> str:\n",
    "    name = repository_url.split(\"/\")[-1] + \"_\" + str(uuid4())\n",
    "    return name\n"
   ]
  },
  {
   "cell_type": "code",
   "execution_count": 15,
   "id": "8baa1a96",
   "metadata": {},
   "outputs": [],
   "source": [
    "def get_python_files(repository_folder: str) -> list[str]:\n",
    "    result = []\n",
    "    for root, dirs, files in os.walk(repository_folder):\n",
    "        for file_ in files:\n",
    "            file_path = os.path.join(root, file_)\n",
    "            \n",
    "            if file_path.endswith(\".java\"):\n",
    "                result.append(file_path)\n",
    "    return result\n"
   ]
  },
  {
   "cell_type": "code",
   "execution_count": 16,
   "id": "32f3deb2",
   "metadata": {},
   "outputs": [],
   "source": [
    "def get_lines_of_code(file_path: str) -> int:\n",
    "    return int(os.popen(f\"wc -l {file_path}\").read().split()[0])\n"
   ]
  },
  {
   "cell_type": "code",
   "execution_count": 17,
   "id": "1e6155e3",
   "metadata": {},
   "outputs": [
    {
     "name": "stderr",
     "output_type": "stream",
     "text": [
      "Cloning into 'jedis_413ac3fb-c064-4e23-be0c-fe901f196ea9'...\n"
     ]
    },
    {
     "name": "stdout",
     "output_type": "stream",
     "text": [
      "There are 10141 lines in jedis_413ac3fb-c064-4e23-be0c-fe901f196ea9\n"
     ]
    },
    {
     "name": "stderr",
     "output_type": "stream",
     "text": [
      "Cloning into 'Discovery_e68be074-bb11-4064-a812-03213cb06d6a'...\n"
     ]
    },
    {
     "name": "stdout",
     "output_type": "stream",
     "text": [
      "There are 10158 lines in Discovery_e68be074-bb11-4064-a812-03213cb06d6a\n"
     ]
    },
    {
     "name": "stderr",
     "output_type": "stream",
     "text": [
      "Cloning into 'lettuce-core_a6542625-a157-4116-b0e4-c2994c3d39b4'...\n"
     ]
    },
    {
     "name": "stdout",
     "output_type": "stream",
     "text": [
      "There are 10076 lines in lettuce-core_a6542625-a157-4116-b0e4-c2994c3d39b4\n"
     ]
    },
    {
     "name": "stderr",
     "output_type": "stream",
     "text": [
      "Cloning into 'jetcache_2d2c9b13-572f-4a78-8388-20fb44402d84'...\n"
     ]
    },
    {
     "name": "stdout",
     "output_type": "stream",
     "text": [
      "There are 10061 lines in jetcache_2d2c9b13-572f-4a78-8388-20fb44402d84\n"
     ]
    }
   ],
   "source": [
    "approproate_repos = []\n",
    "for repository_url in repositories:\n",
    "    folder_name = repo_name(repository_url)\n",
    "    \n",
    "    os.system(f\"git clone {repository_url} {folder_name}\")\n",
    "    \n",
    "    lines_amount = 0\n",
    "\n",
    "    for file_path in get_python_files(folder_name):\n",
    "        lines_amount += get_lines_of_code(file_path)\n",
    "\n",
    "    print(f\"There are {lines_amount} lines in {folder_name}\")\n",
    "    \n",
    "    if lines_amount >= 10000:\n",
    "        approproate_repos.append(folder_name)\n",
    "    \n",
    "    os.system(f\"rm -rf {folder_name}\")\n"
   ]
  },
  {
   "cell_type": "code",
   "execution_count": 19,
   "metadata": {},
   "outputs": [],
   "source": [
    "approproate_repos = list(map(lambda x: x.split(\"_\")[0], approproate_repos))\n"
   ]
  },
  {
   "cell_type": "code",
   "execution_count": 20,
   "metadata": {},
   "outputs": [
    {
     "data": {
      "text/plain": [
       "['jedis', 'Discovery', 'lettuce-core', 'jetcache']"
      ]
     },
     "execution_count": 20,
     "metadata": {},
     "output_type": "execute_result"
    }
   ],
   "source": [
    "approproate_repos\n"
   ]
  }
 ],
 "metadata": {
  "kernelspec": {
   "display_name": "Python 3 (ipykernel)",
   "language": "python",
   "name": "python3"
  },
  "language_info": {
   "codemirror_mode": {
    "name": "ipython",
    "version": 3
   },
   "file_extension": ".py",
   "mimetype": "text/x-python",
   "name": "python",
   "nbconvert_exporter": "python",
   "pygments_lexer": "ipython3",
   "version": "3.10.9"
  }
 },
 "nbformat": 4,
 "nbformat_minor": 5
}
